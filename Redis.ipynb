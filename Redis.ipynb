{
 "cells": [
  {
   "cell_type": "code",
   "execution_count": 12,
   "metadata": {},
   "outputs": [],
   "source": [
    "from kafka import KafkaConsumer\n",
    "from json import loads\n",
    "from time import sleep\n",
    "from json import dumps\n",
    "from kafka import KafkaProducer\n",
    "import requests\n",
    "import re\n",
    "import json"
   ]
  },
  {
   "cell_type": "code",
   "execution_count": 13,
   "metadata": {},
   "outputs": [],
   "source": [
    "import datetime\n",
    "import redis\n",
    "import time"
   ]
  },
  {
   "cell_type": "code",
   "execution_count": 14,
   "metadata": {},
   "outputs": [],
   "source": [
    "consumer = KafkaConsumer(\n",
    "    'statics',\n",
    "     bootstrap_servers=['localhost:9092'],\n",
    "     auto_offset_reset='earliest',\n",
    "     enable_auto_commit=True,\n",
    "     group_id='redis_consumer',\n",
    "     value_deserializer=lambda x: loads(x.decode('utf-8')))"
   ]
  },
  {
   "cell_type": "code",
   "execution_count": 15,
   "metadata": {},
   "outputs": [],
   "source": [
    "r = redis.Redis()"
   ]
  },
  {
   "cell_type": "code",
   "execution_count": 16,
   "metadata": {},
   "outputs": [],
   "source": [
    "def add_twitts_recently_list(twitt):\n",
    "    r.lpush('twitt_recently_list',twitt['content'])\n",
    "    r.ltrim('twitt_recently_list',0,99)\n"
   ]
  },
  {
   "cell_type": "code",
   "execution_count": 17,
   "metadata": {},
   "outputs": [],
   "source": [
    "def add_hashtags_recently_list(twitt):\n",
    "    if 'hashtags' not in twitt:\n",
    "        return\n",
    "    for hashtag in twitt['hashtags']:\n",
    "        r.lpush('hashtags_recently_list',hashtag)\n",
    "    r.ltrim('hashtags_recently_list',0,999)\n"
   ]
  },
  {
   "cell_type": "code",
   "execution_count": 40,
   "metadata": {},
   "outputs": [],
   "source": [
    "def last_hour_hashtags(twitt):\n",
    "    if 'hashtags' not in twitt:\n",
    "        return\n",
    "    d = datetime.datetime.strptime(twitt['sendTime'].replace('T',' ').replace('Z',''), '%Y-%m-%d %H:%M:%S')\n",
    "    d += datetime.timedelta(hours=4,minutes=30) #Correct timezone diff for timezone computation\n",
    "    timestamp = int(time.mktime(d.timetuple()))\n",
    "#     print(timestamp)\n",
    "    for hashtag in twitt['hashtags']:\n",
    "        tmp = {hashtag:timestamp}\n",
    "        r.zadd('last_hour_tags',tmp)\n",
    "    current_ts = time.time()\n",
    "    r.zremrangebyscore('last_hour_tags', 0, current_ts-3600)\n",
    "\n",
    "#     r.zremrangebyscore('sorted_twitt_set', 0, current_ts-3600)\n",
    "#     r.zcount(sorted_twitt_set, current_ts-3600, current_ts)"
   ]
  },
  {
   "cell_type": "code",
   "execution_count": 19,
   "metadata": {},
   "outputs": [],
   "source": [
    "def extract_date_key(date_str):\n",
    "    d = datetime.datetime.strptime(date_str.replace('T',' ').replace('Z',''), '%Y-%m-%d %H:%M:%S')\n",
    "#     ret_str = '%d/%d/%d:%d'\n",
    "    ret_str = \"{0}/{1}/{2} {3}H\".format(d.year,d.month,d.day,d.hour)\n",
    "    return ret_str"
   ]
  },
  {
   "cell_type": "code",
   "execution_count": 20,
   "metadata": {},
   "outputs": [],
   "source": [
    "def count_twitt(twitt):\n",
    "    name_key = extract_date_key(twitt['sendTime'])\n",
    "    if r.incrby(name_key,amount=1) < 2:\n",
    "        d = datetime.datetime.strptime(twitt['sendTime'].replace('T',' ').replace('Z',''), '%Y-%m-%d %H:%M:%S')\n",
    "        expire_date = d + datetime.timedelta(days=7)\n",
    "        expire_timestamp = int(time.mktime(expire_date.timetuple()))\n",
    "        r.expireat(name_key,expire_timestamp)\n",
    "        print(\"Key: \\t{0} \\t\\t\\tExpire AT: \\t{1}\".format(name_key,expire_date))\n",
    "        "
   ]
  },
  {
   "cell_type": "code",
   "execution_count": 21,
   "metadata": {},
   "outputs": [],
   "source": [
    "def count_hashtags_twitt(twitt):\n",
    "    if 'hashtags' not in twitt:\n",
    "        return\n",
    "    for hashtag in twitt['hashtags']:\n",
    "        name_key = extract_date_key(twitt['sendTime'])+' tag:'+hashtag\n",
    "        if r.incrby(name_key,amount=1) < 2:\n",
    "            d = datetime.datetime.strptime(twitt['sendTime'].replace('T',' ').replace('Z',''), '%Y-%m-%d %H:%M:%S')\n",
    "            expire_date = d + datetime.timedelta(days=7)\n",
    "            expire_timestamp = int(time.mktime(expire_date.timetuple()))\n",
    "            r.expireat(name_key,expire_timestamp)\n",
    "            print(\"Key: \\t{0} \\t\\t\\tExpire AT: \\t{1}\".format(name_key,expire_date))\n",
    "        "
   ]
  },
  {
   "cell_type": "code",
   "execution_count": null,
   "metadata": {},
   "outputs": [
    {
     "name": "stdout",
     "output_type": "stream",
     "text": [
      "Key: \t2021/7/17 6H \t\t\tExpire AT: \t2021-07-24 06:17:23\n",
      "Key: \t2021/7/17 6H tag:دی \t\t\tExpire AT: \t2021-07-24 06:17:18\n",
      "Key: \t2021/7/17 6H tag:غصینو \t\t\tExpire AT: \t2021-07-24 06:17:07\n",
      "Key: \t2021/7/17 6H tag:وبملت \t\t\tExpire AT: \t2021-07-24 06:17:04\n",
      "Key: \t2021/7/17 6H tag:شتران \t\t\tExpire AT: \t2021-07-24 06:16:55\n",
      "Key: \t2021/7/17 6H tag:شپنا \t\t\tExpire AT: \t2021-07-24 06:13:43\n",
      "Key: \t2021/7/17 6H tag:کرمان \t\t\tExpire AT: \t2021-07-24 06:16:44\n",
      "Key: \t2021/7/17 6H tag:سبزوا \t\t\tExpire AT: \t2021-07-24 06:19:53\n",
      "Key: \t2021/7/17 5H \t\t\tExpire AT: \t2021-07-24 05:15:17\n",
      "Key: \t2021/7/17 5H tag:دی \t\t\tExpire AT: \t2021-07-24 05:15:17\n",
      "Key: \t2021/7/17 6H tag:وسبحان \t\t\tExpire AT: \t2021-07-24 06:19:25\n",
      "Key: \t2021/7/17 6H tag:فولای \t\t\tExpire AT: \t2021-07-24 06:19:25\n",
      "Key: \t2021/7/17 6H tag:قنیشا \t\t\tExpire AT: \t2021-07-24 06:19:21\n",
      "Key: \t2021/7/17 6H tag:سیتا \t\t\tExpire AT: \t2021-07-24 06:19:04\n",
      "Key: \t2021/7/17 6H tag:ثعمرا \t\t\tExpire AT: \t2021-07-24 06:21:28\n",
      "Key: \t2021/7/17 6H tag:فجر \t\t\tExpire AT: \t2021-07-24 06:21:16\n",
      "Key: \t2021/7/17 6H tag:وپترو \t\t\tExpire AT: \t2021-07-24 06:21:13\n",
      "Key: \t2021/7/17 6H tag:پترول \t\t\tExpire AT: \t2021-07-24 06:21:01\n",
      "Key: \t2021/7/17 6H tag:سنیر \t\t\tExpire AT: \t2021-07-24 06:20:55\n",
      "Key: \t2021/7/17 6H tag:غبهنوش \t\t\tExpire AT: \t2021-07-24 06:20:55\n",
      "Key: \t2021/7/17 6H tag:زنجان \t\t\tExpire AT: \t2021-07-24 06:20:51\n",
      "Key: \t2021/7/17 6H tag:وتوس \t\t\tExpire AT: \t2021-07-24 06:20:48\n",
      "Key: \t2021/7/17 6H tag:گشان \t\t\tExpire AT: \t2021-07-24 06:21:56\n",
      "Key: \t2021/7/17 6H tag:لکما \t\t\tExpire AT: \t2021-07-24 06:21:54\n",
      "Key: \t2021/7/17 6H tag:رنیک \t\t\tExpire AT: \t2021-07-24 06:21:35\n",
      "Key: \t2021/7/17 6H tag:کسرام \t\t\tExpire AT: \t2021-07-24 06:21:28\n",
      "Key: \t2021/7/17 6H tag:برکت \t\t\tExpire AT: \t2021-07-24 06:22:08\n",
      "Key: \t2021/7/17 6H tag:چدن \t\t\tExpire AT: \t2021-07-24 06:22:07\n",
      "Key: \t2021/7/17 6H tag:خودکفا \t\t\tExpire AT: \t2021-07-24 06:22:05\n",
      "Key: \t2021/7/17 6H tag:آپ \t\t\tExpire AT: \t2021-07-24 06:22:02\n",
      "Key: \t2021/7/17 6H tag:شخارک \t\t\tExpire AT: \t2021-07-24 06:23:21\n",
      "50\n",
      "Key: \t2021/7/17 6H tag:شاخص_بورس \t\t\tExpire AT: \t2021-07-24 06:23:00\n",
      "Key: \t2021/7/17 6H tag:نطرین \t\t\tExpire AT: \t2021-07-24 06:22:50\n",
      "Key: \t2021/7/17 6H tag:ختوقا \t\t\tExpire AT: \t2021-07-24 06:23:58\n",
      "Key: \t2021/7/17 6H tag:پیزد \t\t\tExpire AT: \t2021-07-24 06:23:49\n",
      "Key: \t2021/7/17 6H tag:وپسا \t\t\tExpire AT: \t2021-07-24 06:23:49\n",
      "Key: \t2021/7/17 6H tag:نمرینو \t\t\tExpire AT: \t2021-07-24 06:24:57\n",
      "Key: \t2021/7/17 6H tag:وگستر \t\t\tExpire AT: \t2021-07-24 06:24:56\n",
      "Key: \t2021/7/17 6H tag:سفاسی \t\t\tExpire AT: \t2021-07-24 06:24:53\n",
      "Key: \t2021/7/17 6H tag:حپارسا \t\t\tExpire AT: \t2021-07-24 06:24:50\n",
      "Key: \t2021/7/17 6H tag:شستان \t\t\tExpire AT: \t2021-07-24 06:26:00\n",
      "Key: \t2021/7/17 6H tag:کساپا \t\t\tExpire AT: \t2021-07-24 06:25:58\n",
      "Key: \t2021/7/17 6H tag:غزر \t\t\tExpire AT: \t2021-07-24 06:25:54\n",
      "Key: \t2021/7/17 6H tag:ساینا \t\t\tExpire AT: \t2021-07-24 06:26:34\n",
      "Key: \t2021/7/17 6H tag:خبهمن \t\t\tExpire AT: \t2021-07-24 06:26:18\n",
      "Key: \t2021/7/17 6H tag:غزرحالا \t\t\tExpire AT: \t2021-07-24 06:27:28\n",
      "Key: \t2021/7/17 6H tag:ساوه \t\t\tExpire AT: \t2021-07-24 06:27:26\n",
      "Key: \t2021/7/17 6H tag:چکاپا \t\t\tExpire AT: \t2021-07-24 06:27:15\n",
      "Key: \t2021/7/17 6H tag:شپلی \t\t\tExpire AT: \t2021-07-24 06:27:09\n",
      "Key: \t2021/7/17 6H tag:فاسمین \t\t\tExpire AT: \t2021-07-24 06:27:05\n",
      "Key: \t2021/7/17 6H tag:زبینا \t\t\tExpire AT: \t2021-07-24 06:27:03\n",
      "Key: \t2021/7/17 6H tag:حفاری \t\t\tExpire AT: \t2021-07-24 06:27:02\n",
      "Key: \t2021/7/17 6H tag:کتوکا \t\t\tExpire AT: \t2021-07-24 06:28:05\n",
      "Key: \t2021/7/17 6H tag:چفیبر \t\t\tExpire AT: \t2021-07-24 06:27:58\n",
      "100\n",
      "Key: \t2021/7/17 6H tag:های_وب \t\t\tExpire AT: \t2021-07-24 06:27:43\n",
      "Key: \t2021/7/17 6H tag:گدنا \t\t\tExpire AT: \t2021-07-24 06:29:10\n",
      "Key: \t2021/7/17 6H tag:شگویا \t\t\tExpire AT: \t2021-07-24 06:29:07\n",
      "Key: \t2021/7/13 5H \t\t\tExpire AT: \t2021-07-20 05:40:23\n",
      "Key: \t2021/7/13 5H tag:های_وب \t\t\tExpire AT: \t2021-07-20 05:40:23\n",
      "Key: \t2021/7/17 6H tag:دلقما \t\t\tExpire AT: \t2021-07-24 06:29:02\n",
      "Key: \t2021/7/17 6H tag:شستا \t\t\tExpire AT: \t2021-07-24 06:28:58\n",
      "Key: \t2021/7/17 6H tag:شلعاب \t\t\tExpire AT: \t2021-07-24 06:28:57\n",
      "Key: \t2021/7/17 6H tag:فسا \t\t\tExpire AT: \t2021-07-24 06:28:52\n",
      "Key: \t2021/7/17 6H tag:ومدیر \t\t\tExpire AT: \t2021-07-24 06:28:52\n",
      "Key: \t2021/7/17 6H tag:حفارس \t\t\tExpire AT: \t2021-07-24 06:29:41\n",
      "Key: \t2021/7/17 6H tag:البرز \t\t\tExpire AT: \t2021-07-24 06:29:40\n",
      "Key: \t2021/7/17 6H tag:وبرق \t\t\tExpire AT: \t2021-07-24 06:29:28\n",
      "Key: \t2021/7/17 6H tag:دماوند \t\t\tExpire AT: \t2021-07-24 06:29:23\n",
      "Key: \t2021/7/17 6H tag:خزر \t\t\tExpire AT: \t2021-07-24 06:29:13\n",
      "Key: \t2021/7/17 6H tag:پالایش \t\t\tExpire AT: \t2021-07-24 06:30:40\n",
      "Key: \t2021/7/17 6H tag:فلوله \t\t\tExpire AT: \t2021-07-24 06:30:38\n",
      "Key: \t2021/7/17 6H tag:فاذر \t\t\tExpire AT: \t2021-07-24 06:30:26\n",
      "Key: \t2021/7/17 6H tag:ولکار \t\t\tExpire AT: \t2021-07-24 06:32:06\n",
      "Key: \t2021/7/17 6H tag:فزرین \t\t\tExpire AT: \t2021-07-24 06:32:05\n",
      "Key: \t2021/7/17 6H tag:خساپا \t\t\tExpire AT: \t2021-07-24 06:31:51\n",
      "Key: \t2021/7/17 6H tag:خگستر \t\t\tExpire AT: \t2021-07-24 06:32:47\n",
      "Key: \t2021/7/17 6H tag:بوعلی \t\t\tExpire AT: \t2021-07-24 06:32:42\n",
      "Key: \t2021/7/17 6H tag:دتولیدح \t\t\tExpire AT: \t2021-07-24 06:32:39\n",
      "Key: \t2021/7/15 11H \t\t\tExpire AT: \t2021-07-22 11:17:30\n",
      "Key: \t2021/7/15 11H tag:دانا \t\t\tExpire AT: \t2021-07-22 11:17:30\n",
      "Key: \t2021/7/17 6H tag:صبا \t\t\tExpire AT: \t2021-07-24 06:32:36\n",
      "150\n",
      "Key: \t2021/7/17 6H tag:غگیلا \t\t\tExpire AT: \t2021-07-24 06:32:59\n",
      "Key: \t2021/7/17 6H tag:کلر \t\t\tExpire AT: \t2021-07-24 06:34:12\n",
      "Key: \t2021/7/17 6H tag:خکار \t\t\tExpire AT: \t2021-07-24 06:34:05\n",
      "Key: \t2021/7/17 6H tag:شپاکسا \t\t\tExpire AT: \t2021-07-24 06:34:00\n",
      "Key: \t2021/7/17 6H tag:سیدکو \t\t\tExpire AT: \t2021-07-24 06:35:25\n",
      "Key: \t2021/7/17 6H tag:شبندر \t\t\tExpire AT: \t2021-07-24 06:35:24\n",
      "Key: \t2021/7/17 6H tag:وتجارت \t\t\tExpire AT: \t2021-07-24 06:35:04\n",
      "Key: \t2021/7/17 6H tag:حآسا \t\t\tExpire AT: \t2021-07-24 06:34:55\n",
      "Key: \t2021/7/17 6H tag:بالاس \t\t\tExpire AT: \t2021-07-24 06:35:57\n",
      "Key: \t2021/7/17 6H tag:خودرو \t\t\tExpire AT: \t2021-07-24 06:35:49\n",
      "Key: \t2021/7/17 6H tag:کاما \t\t\tExpire AT: \t2021-07-24 06:35:47\n",
      "Key: \t2021/7/17 6H tag:اوان \t\t\tExpire AT: \t2021-07-24 06:35:44\n",
      "Key: \t2021/7/17 6H tag:غگلستا \t\t\tExpire AT: \t2021-07-24 06:36:24\n",
      "Key: \t2021/7/17 6H tag:ونفت \t\t\tExpire AT: \t2021-07-24 06:36:21\n",
      "Key: \t2021/7/17 6H tag:زاگرس \t\t\tExpire AT: \t2021-07-24 06:37:31\n",
      "Key: \t2021/7/17 6H tag:سامان \t\t\tExpire AT: \t2021-07-24 06:37:24\n",
      "Key: \t2021/7/17 6H tag:ومعادن \t\t\tExpire AT: \t2021-07-24 06:37:17\n",
      "200\n",
      "Key: \t2021/7/17 6H tag:کپشیر \t\t\tExpire AT: \t2021-07-24 06:37:10\n",
      "Key: \t2021/7/17 6H tag:رتکو \t\t\tExpire AT: \t2021-07-24 06:38:32\n",
      "Key: \t2021/7/17 6H tag:ثنام \t\t\tExpire AT: \t2021-07-24 06:38:19\n",
      "Key: \t2021/7/17 6H tag:کهمدا \t\t\tExpire AT: \t2021-07-24 06:38:16\n",
      "Key: \t2021/7/17 6H tag:فولاد \t\t\tExpire AT: \t2021-07-24 06:39:01\n",
      "Key: \t2021/7/17 6H tag:کگاز \t\t\tExpire AT: \t2021-07-24 06:38:34\n",
      "Key: \t2021/7/17 6H tag:کیسون \t\t\tExpire AT: \t2021-07-24 06:40:00\n",
      "Key: \t2021/7/17 6H tag:خوساز \t\t\tExpire AT: \t2021-07-24 06:39:50\n",
      "Key: \t2021/7/17 6H tag:نوری \t\t\tExpire AT: \t2021-07-24 06:39:37\n",
      "Key: \t2021/7/17 6H tag:شاراک \t\t\tExpire AT: \t2021-07-24 06:39:34\n",
      "Key: \t2021/7/17 6H tag:اخابر \t\t\tExpire AT: \t2021-07-24 06:39:33\n",
      "Key: \t2021/7/17 6H tag:شغدیر \t\t\tExpire AT: \t2021-07-24 06:41:06\n",
      "Key: \t2021/7/17 6H tag:غگل \t\t\tExpire AT: \t2021-07-24 06:40:37\n",
      "Key: \t2021/7/17 6H tag:وایرا \t\t\tExpire AT: \t2021-07-24 06:41:25\n",
      "Key: \t2021/7/17 6H tag:زدشت \t\t\tExpire AT: \t2021-07-24 06:42:37\n",
      "250\n",
      "Key: \t2021/7/17 6H tag:آ_س_پ \t\t\tExpire AT: \t2021-07-24 06:42:36\n",
      "Key: \t2021/7/17 6H tag:لطیف \t\t\tExpire AT: \t2021-07-24 06:42:33\n",
      "Key: \t2021/7/17 6H tag:مادیرا \t\t\tExpire AT: \t2021-07-24 06:42:15\n",
      "Key: \t2021/7/17 6H tag:نوین \t\t\tExpire AT: \t2021-07-24 06:43:07\n",
      "Key: \t2021/7/17 6H tag:دانا \t\t\tExpire AT: \t2021-07-24 06:43:04\n",
      "Key: \t2021/7/17 6H tag:وخارزم \t\t\tExpire AT: \t2021-07-24 06:43:00\n",
      "Key: \t2021/7/17 6H tag:وآیند \t\t\tExpire AT: \t2021-07-24 06:42:58\n",
      "Key: \t2021/7/17 3H \t\t\tExpire AT: \t2021-07-24 03:23:30\n",
      "Key: \t2021/7/17 3H tag:شلرد \t\t\tExpire AT: \t2021-07-24 03:23:30\n",
      "Key: \t2021/7/17 6H tag:مرقام \t\t\tExpire AT: \t2021-07-24 06:43:15\n",
      "Key: \t2021/7/17 6H tag:بترانس \t\t\tExpire AT: \t2021-07-24 06:44:44\n",
      "Key: \t2021/7/17 6H tag:وسدید \t\t\tExpire AT: \t2021-07-24 06:44:37\n",
      "Key: \t2021/7/12 20H \t\t\tExpire AT: \t2021-07-19 20:21:27\n",
      "Key: \t2021/7/12 20H tag:شاخص_بورس \t\t\tExpire AT: \t2021-07-19 20:21:27\n",
      "Key: \t2021/7/17 6H tag:کوثر \t\t\tExpire AT: \t2021-07-24 06:44:20\n",
      "Key: \t2021/7/17 6H tag:غپینو \t\t\tExpire AT: \t2021-07-24 06:45:46\n",
      "Key: \t2021/7/17 6H tag:قرنح \t\t\tExpire AT: \t2021-07-24 06:45:26\n",
      "300\n",
      "Key: \t2021/7/17 6H tag:زقیام \t\t\tExpire AT: \t2021-07-24 06:46:50\n",
      "Key: \t2021/7/17 6H tag:فنفت \t\t\tExpire AT: \t2021-07-24 06:46:48\n",
      "Key: \t2021/7/17 6H tag:کماسه \t\t\tExpire AT: \t2021-07-24 06:48:50\n",
      "Key: \t2021/7/17 6H tag:دبالک \t\t\tExpire AT: \t2021-07-24 06:49:16\n",
      "Key: \t2021/7/17 6H tag:بموتو \t\t\tExpire AT: \t2021-07-24 06:50:18\n",
      "Key: \t2021/7/17 6H tag:شیران \t\t\tExpire AT: \t2021-07-24 06:49:46\n",
      "Key: \t2021/7/17 6H tag:توریل \t\t\tExpire AT: \t2021-07-24 06:49:40\n",
      "Key: \t2021/7/17 6H tag:فاراکح \t\t\tExpire AT: \t2021-07-24 06:50:37\n",
      "Key: \t2021/7/17 6H tag:وآوا \t\t\tExpire AT: \t2021-07-24 06:50:33\n",
      "Key: \t2021/7/17 6H tag:فلامی \t\t\tExpire AT: \t2021-07-24 06:51:50\n",
      "350\n",
      "Key: \t2021/7/17 6H tag:دشیمی \t\t\tExpire AT: \t2021-07-24 06:51:47\n",
      "Key: \t2021/7/17 6H tag:شفارس \t\t\tExpire AT: \t2021-07-24 06:51:41\n",
      "Key: \t2021/7/17 6H tag:بمیلا \t\t\tExpire AT: \t2021-07-24 06:52:24\n",
      "Key: \t2021/7/17 6H tag:وملل \t\t\tExpire AT: \t2021-07-24 06:52:05\n",
      "Key: \t2021/7/17 6H tag:دیران \t\t\tExpire AT: \t2021-07-24 06:53:20\n",
      "Key: \t2021/7/17 6H tag:تکمبا \t\t\tExpire AT: \t2021-07-24 06:53:14\n",
      "Key: \t2021/7/17 6H tag:وسپهر \t\t\tExpire AT: \t2021-07-24 06:53:05\n",
      "Key: \t2021/7/17 6H tag:غشهداب \t\t\tExpire AT: \t2021-07-24 06:53:05\n",
      "Key: \t2021/7/17 6H tag:گنگین \t\t\tExpire AT: \t2021-07-24 06:53:59\n",
      "Key: \t2021/7/17 6H tag:فاراک \t\t\tExpire AT: \t2021-07-24 06:53:59\n",
      "Key: \t2021/7/17 6H tag:حریل \t\t\tExpire AT: \t2021-07-24 06:53:50\n",
      "Key: \t2021/7/17 6H tag:ولانا \t\t\tExpire AT: \t2021-07-24 06:53:36\n"
     ]
    }
   ],
   "source": [
    "cnt =0\n",
    "for message in consumer:\n",
    "    twitt = message.value\n",
    "#     print(twitt)\n",
    "    cnt+=1\n",
    "    if 'sendTime' not in twitt:\n",
    "        continue\n",
    "    count_twitt(twitt)\n",
    "    count_hashtags_twitt(twitt)\n",
    "    last_hour_hashtags(twitt)\n",
    "    add_twitts_recently_list(twitt)\n",
    "    add_hashtags_recently_list(twitt)\n",
    "    if cnt % 50 ==0:\n",
    "        print(cnt)\n"
   ]
  },
  {
   "cell_type": "code",
   "execution_count": null,
   "metadata": {},
   "outputs": [],
   "source": []
  },
  {
   "cell_type": "code",
   "execution_count": null,
   "metadata": {},
   "outputs": [],
   "source": []
  },
  {
   "cell_type": "code",
   "execution_count": 36,
   "metadata": {},
   "outputs": [],
   "source": [
    "d = datetime.datetime.strptime('2021-07-16 15:14:19'.replace('T',' ').replace('Z',''), '%Y-%m-%d %H:%M:%S').replace(tzinfo=datetime.timezone.utc)\n",
    "d += datetime.timedelta(hours=4,minutes=30)\n",
    "timestamp = int(time.mktime(d.timetuple()))"
   ]
  },
  {
   "cell_type": "code",
   "execution_count": 37,
   "metadata": {},
   "outputs": [
    {
     "name": "stdout",
     "output_type": "stream",
     "text": [
      "1626448459\n"
     ]
    }
   ],
   "source": [
    "print(timestamp)"
   ]
  },
  {
   "cell_type": "code",
   "execution_count": 83,
   "metadata": {},
   "outputs": [
    {
     "data": {
      "text/plain": [
       "14"
      ]
     },
     "execution_count": 83,
     "metadata": {},
     "output_type": "execute_result"
    }
   ],
   "source": [
    "current_ts = time.time()\n",
    "r.zcount('last_hour_tags', 0, current_ts)"
   ]
  },
  {
   "cell_type": "code",
   "execution_count": 84,
   "metadata": {},
   "outputs": [
    {
     "name": "stdout",
     "output_type": "stream",
     "text": [
      "[(b'\\xda\\xaf\\xd8\\xb4\\xd8\\xa7\\xd9\\x86', 1625921191.0), (b'\\xd9\\xbe\\xd9\\x84\\xd8\\xa7\\xd8\\xb3\\xda\\xa9', 1625921264.0), (b'\\xd8\\xb4\\xd9\\xbe\\xd9\\x86\\xd8\\xa7', 1625921352.0), (b'\\xd8\\xb4\\xd8\\xb3\\xd8\\xaa\\xd8\\xa7', 1625921364.0), (b'\\xd9\\x85\\xd8\\xa7\\xd8\\xaf\\xdb\\x8c\\xd8\\xb1\\xd8\\xa7', 1625921364.0), (b'\\xd8\\xab\\xd8\\xa8\\xd8\\xa7\\xd8\\xba', 1625921391.0), (b'\\xd8\\xab\\xd8\\xb1\\xd9\\x88\\xd8\\xaf', 1625921399.0), (b'\\xd8\\xb4\\xd8\\xaa\\xd8\\xb1\\xd8\\xa7\\xd9\\x86', 1625921399.0), (b'\\xd8\\xb4\\xd8\\xa8\\xd8\\xb1\\xdb\\x8c\\xd8\\xb2', 1625921425.0), (b'\\xd8\\xb4\\xd8\\xa8\\xd9\\x86\\xd8\\xaf\\xd8\\xb1', 1625921437.0), (b'\\xd9\\xbe\\xd8\\xaa\\xd8\\xb1\\xd9\\x88\\xd9\\x84', 1625921448.0), (b'\\xd8\\xa8\\xd9\\xbe\\xdb\\x8c\\xd9\\x88\\xd9\\x86\\xd8\\xaf', 1625921482.0), (b'\\xd8\\xb4\\xd8\\xa7\\xd8\\xae\\xd8\\xb5_\\xd8\\xa8\\xd9\\x88\\xd8\\xb1\\xd8\\xb3', 1625921489.0), (b'\\xd8\\xaf\\xd8\\xb2\\xd9\\x87\\xd8\\xb1\\xd8\\xa7\\xd9\\x88\\xdb\\x8c', 1625921497.0)]\n"
     ]
    }
   ],
   "source": [
    "print(r.zrange('last_hour_tags', 0, -1, withscores=True))"
   ]
  },
  {
   "cell_type": "code",
   "execution_count": 71,
   "metadata": {},
   "outputs": [
    {
     "data": {
      "text/html": [
       "<div>\n",
       "<style scoped>\n",
       "    .dataframe tbody tr th:only-of-type {\n",
       "        vertical-align: middle;\n",
       "    }\n",
       "\n",
       "    .dataframe tbody tr th {\n",
       "        vertical-align: top;\n",
       "    }\n",
       "\n",
       "    .dataframe thead th {\n",
       "        text-align: right;\n",
       "    }\n",
       "</style>\n",
       "<table border=\"1\" class=\"dataframe\">\n",
       "  <thead>\n",
       "    <tr style=\"text-align: right;\">\n",
       "      <th></th>\n",
       "      <th>0</th>\n",
       "    </tr>\n",
       "  </thead>\n",
       "  <tbody>\n",
       "    <tr>\n",
       "      <th>0</th>\n",
       "      <td>شپلی</td>\n",
       "    </tr>\n",
       "    <tr>\n",
       "      <th>1</th>\n",
       "      <td>وسپهر</td>\n",
       "    </tr>\n",
       "    <tr>\n",
       "      <th>2</th>\n",
       "      <td>غنوش</td>\n",
       "    </tr>\n",
       "    <tr>\n",
       "      <th>3</th>\n",
       "      <td>غپینو</td>\n",
       "    </tr>\n",
       "    <tr>\n",
       "      <th>4</th>\n",
       "      <td>گشان</td>\n",
       "    </tr>\n",
       "    <tr>\n",
       "      <th>...</th>\n",
       "      <td>...</td>\n",
       "    </tr>\n",
       "    <tr>\n",
       "      <th>995</th>\n",
       "      <td>زبینا</td>\n",
       "    </tr>\n",
       "    <tr>\n",
       "      <th>996</th>\n",
       "      <td>رکیش</td>\n",
       "    </tr>\n",
       "    <tr>\n",
       "      <th>997</th>\n",
       "      <td>فسا</td>\n",
       "    </tr>\n",
       "    <tr>\n",
       "      <th>998</th>\n",
       "      <td>دارا_یکم</td>\n",
       "    </tr>\n",
       "    <tr>\n",
       "      <th>999</th>\n",
       "      <td>پتایر</td>\n",
       "    </tr>\n",
       "  </tbody>\n",
       "</table>\n",
       "<p>1000 rows × 1 columns</p>\n",
       "</div>"
      ],
      "text/plain": [
       "            0\n",
       "0        شپلی\n",
       "1       وسپهر\n",
       "2        غنوش\n",
       "3       غپینو\n",
       "4        گشان\n",
       "..        ...\n",
       "995     زبینا\n",
       "996      رکیش\n",
       "997       فسا\n",
       "998  دارا_یکم\n",
       "999     پتایر\n",
       "\n",
       "[1000 rows x 1 columns]"
      ]
     },
     "execution_count": 71,
     "metadata": {},
     "output_type": "execute_result"
    }
   ],
   "source": [
    "tags_df = r.lrange('hashtags_recently_list', 0, -1)\n",
    "tags_df = pd.DataFrame(tags_df)\n",
    "tags_df[0] = tags_df[0].apply(lambda x : x.decode('utf-8'))\n",
    "tags_df"
   ]
  },
  {
   "cell_type": "code",
   "execution_count": null,
   "metadata": {},
   "outputs": [],
   "source": [
    "import pandas as pd"
   ]
  },
  {
   "cell_type": "code",
   "execution_count": 32,
   "metadata": {},
   "outputs": [],
   "source": [
    "tmp = r.lrange('hashtags_recently_list', 0, -1)\n",
    "str1 = b\"\\n \".join(tmp)\n",
    "df = pd.DataFrame(tmp)\n",
    "df[0] = df[0].apply(lambda x : x.decode('utf-8'))"
   ]
  },
  {
   "cell_type": "code",
   "execution_count": 42,
   "metadata": {},
   "outputs": [],
   "source": []
  },
  {
   "cell_type": "code",
   "execution_count": 45,
   "metadata": {},
   "outputs": [],
   "source": []
  },
  {
   "cell_type": "code",
   "execution_count": 46,
   "metadata": {},
   "outputs": [],
   "source": []
  },
  {
   "cell_type": "code",
   "execution_count": 49,
   "metadata": {},
   "outputs": [],
   "source": []
  },
  {
   "cell_type": "code",
   "execution_count": 50,
   "metadata": {},
   "outputs": [
    {
     "data": {
      "text/html": [
       "<div>\n",
       "<style scoped>\n",
       "    .dataframe tbody tr th:only-of-type {\n",
       "        vertical-align: middle;\n",
       "    }\n",
       "\n",
       "    .dataframe tbody tr th {\n",
       "        vertical-align: top;\n",
       "    }\n",
       "\n",
       "    .dataframe thead th {\n",
       "        text-align: right;\n",
       "    }\n",
       "</style>\n",
       "<table border=\"1\" class=\"dataframe\">\n",
       "  <thead>\n",
       "    <tr style=\"text-align: right;\">\n",
       "      <th></th>\n",
       "      <th>0</th>\n",
       "    </tr>\n",
       "  </thead>\n",
       "  <tbody>\n",
       "    <tr>\n",
       "      <th>0</th>\n",
       "      <td>#وسینا دوستانی که با استراتژی ایچیموکو کار میک...</td>\n",
       "    </tr>\n",
       "    <tr>\n",
       "      <th>1</th>\n",
       "      <td>#سصوفی خداروشکر  سصوفی امروز عالی بود و خدا بخ...</td>\n",
       "    </tr>\n",
       "    <tr>\n",
       "      <th>2</th>\n",
       "      <td>#وآیند شاخص ۳شنبه هفته قبل ۲۶۰۰۰مثبت بودووآیند...</td>\n",
       "    </tr>\n",
       "    <tr>\n",
       "      <th>3</th>\n",
       "      <td>#پخش در حال بهینه سازی زمین ها برای و املاک جه...</td>\n",
       "    </tr>\n",
       "    <tr>\n",
       "      <th>4</th>\n",
       "      <td>#شیران</td>\n",
       "    </tr>\n",
       "    <tr>\n",
       "      <th>...</th>\n",
       "      <td>...</td>\n",
       "    </tr>\n",
       "    <tr>\n",
       "      <th>95</th>\n",
       "      <td>#وآیند شاخص ۳شنبه هفته قبل ۲۶۰۰۰مثبت بودووآیند...</td>\n",
       "    </tr>\n",
       "    <tr>\n",
       "      <th>96</th>\n",
       "      <td>#پخش در حال بهینه سازی زمین ها برای و املاک جه...</td>\n",
       "    </tr>\n",
       "    <tr>\n",
       "      <th>97</th>\n",
       "      <td>#شیران</td>\n",
       "    </tr>\n",
       "    <tr>\n",
       "      <th>98</th>\n",
       "      <td>#ثرود \\nبازگشایی با دامنه‌ی محدود نوسان هستش (...</td>\n",
       "    </tr>\n",
       "    <tr>\n",
       "      <th>99</th>\n",
       "      <td>#وهنر دوستان همه عصبی شدیم ، همه مشکل داریم ، ...</td>\n",
       "    </tr>\n",
       "  </tbody>\n",
       "</table>\n",
       "<p>100 rows × 1 columns</p>\n",
       "</div>"
      ],
      "text/plain": [
       "                                                    0\n",
       "0   #وسینا دوستانی که با استراتژی ایچیموکو کار میک...\n",
       "1   #سصوفی خداروشکر  سصوفی امروز عالی بود و خدا بخ...\n",
       "2   #وآیند شاخص ۳شنبه هفته قبل ۲۶۰۰۰مثبت بودووآیند...\n",
       "3   #پخش در حال بهینه سازی زمین ها برای و املاک جه...\n",
       "4                                              #شیران\n",
       "..                                                ...\n",
       "95  #وآیند شاخص ۳شنبه هفته قبل ۲۶۰۰۰مثبت بودووآیند...\n",
       "96  #پخش در حال بهینه سازی زمین ها برای و املاک جه...\n",
       "97                                             #شیران\n",
       "98  #ثرود \\nبازگشایی با دامنه‌ی محدود نوسان هستش (...\n",
       "99  #وهنر دوستان همه عصبی شدیم ، همه مشکل داریم ، ...\n",
       "\n",
       "[100 rows x 1 columns]"
      ]
     },
     "execution_count": 50,
     "metadata": {},
     "output_type": "execute_result"
    }
   ],
   "source": [
    "df"
   ]
  },
  {
   "cell_type": "code",
   "execution_count": null,
   "metadata": {},
   "outputs": [],
   "source": [
    "cc = 0\n",
    "for s in tmp:\n",
    "    cc+=1\n",
    "    print(s.decode('utf-8'))\n",
    "    if cc > 10 :\n",
    "        break"
   ]
  },
  {
   "cell_type": "code",
   "execution_count": null,
   "metadata": {},
   "outputs": [],
   "source": [
    "str1.decode('utf-8')"
   ]
  },
  {
   "cell_type": "code",
   "execution_count": 56,
   "metadata": {},
   "outputs": [
    {
     "data": {
      "text/plain": [
       "{'id': '321799086',\n",
       " 'sendTime': '2021-07-10T16:45:05Z',\n",
       " 'sendTimePersian': '1400/04/19 21:15',\n",
       " 'senderName': 'yr1isone',\n",
       " 'senderUsername': 'yr1isone',\n",
       " 'senderProfileImage': 'default',\n",
       " 'content': '#رکیش امروز رو چه قیمتی می خواست باز بشه که باطلش کردن؟',\n",
       " 'type': 'twit',\n",
       " 'scoredPostDate': '1625935512874',\n",
       " 'finalPullDatePersian': ''}"
      ]
     },
     "execution_count": 56,
     "metadata": {},
     "output_type": "execute_result"
    }
   ],
   "source": [
    "sample_twitt"
   ]
  },
  {
   "cell_type": "code",
   "execution_count": 54,
   "metadata": {},
   "outputs": [],
   "source": [
    "sample_twitt = {}"
   ]
  },
  {
   "cell_type": "code",
   "execution_count": 55,
   "metadata": {},
   "outputs": [],
   "source": [
    "for message in consumer:\n",
    "    sample_twitt = message.value\n",
    "    break\n",
    "\n"
   ]
  }
 ],
 "metadata": {
  "kernelspec": {
   "display_name": "Python 3",
   "language": "python",
   "name": "python3"
  },
  "language_info": {
   "codemirror_mode": {
    "name": "ipython",
    "version": 3
   },
   "file_extension": ".py",
   "mimetype": "text/x-python",
   "name": "python",
   "nbconvert_exporter": "python",
   "pygments_lexer": "ipython3",
   "version": "3.8.5"
  }
 },
 "nbformat": 4,
 "nbformat_minor": 4
}
