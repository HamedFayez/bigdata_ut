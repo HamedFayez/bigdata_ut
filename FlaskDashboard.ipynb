{
 "cells": [
  {
   "cell_type": "code",
   "execution_count": 74,
   "metadata": {},
   "outputs": [],
   "source": [
    "import pandas as pd\n",
    "import matplotlib.pyplot as plt\n",
    "import seaborn as sns\n",
    "import numpy as np\n",
    "import io\n",
    "# from sklearn.datasets import load_breast_cancer\n",
    "import redis\n",
    "r = redis.Redis()\n",
    "\n",
    "\n",
    "from flask import Flask, request, render_template, session, redirect\n",
    "\n",
    "import time\n",
    "import datetime\n",
    "from datetime import timedelta"
   ]
  },
  {
   "cell_type": "code",
   "execution_count": 110,
   "metadata": {},
   "outputs": [
    {
     "name": "stdout",
     "output_type": "stream",
     "text": [
      "Collecting flask-cors\n",
      "  Using cached Flask_Cors-3.0.10-py2.py3-none-any.whl (14 kB)\n",
      "Requirement already satisfied, skipping upgrade: Six in /home/hamed/anaconda3/lib/python3.8/site-packages (from flask-cors) (1.15.0)\n",
      "Requirement already satisfied, skipping upgrade: Flask>=0.9 in /home/hamed/anaconda3/lib/python3.8/site-packages (from flask-cors) (1.1.2)\n",
      "Requirement already satisfied, skipping upgrade: Jinja2>=2.10.1 in /home/hamed/anaconda3/lib/python3.8/site-packages (from Flask>=0.9->flask-cors) (2.11.2)\n",
      "Requirement already satisfied, skipping upgrade: itsdangerous>=0.24 in /home/hamed/anaconda3/lib/python3.8/site-packages (from Flask>=0.9->flask-cors) (1.1.0)\n",
      "Requirement already satisfied, skipping upgrade: Werkzeug>=0.15 in /home/hamed/anaconda3/lib/python3.8/site-packages (from Flask>=0.9->flask-cors) (1.0.1)\n",
      "Requirement already satisfied, skipping upgrade: click>=5.1 in /home/hamed/anaconda3/lib/python3.8/site-packages (from Flask>=0.9->flask-cors) (7.1.2)\n",
      "Requirement already satisfied, skipping upgrade: MarkupSafe>=0.23 in /home/hamed/anaconda3/lib/python3.8/site-packages (from Jinja2>=2.10.1->Flask>=0.9->flask-cors) (1.1.1)\n",
      "Installing collected packages: flask-cors\n",
      "Successfully installed flask-cors-3.0.10\n"
     ]
    }
   ],
   "source": [
    "!pip install -U flask-cors"
   ]
  },
  {
   "cell_type": "code",
   "execution_count": 235,
   "metadata": {},
   "outputs": [],
   "source": [
    "def count_last_hour_unique_hashtags():\n",
    "    current_ts = time.time()\n",
    "    return r.zcount('last_hour_tags', current_ts-3600, current_ts)\n",
    "    "
   ]
  },
  {
   "cell_type": "code",
   "execution_count": 238,
   "metadata": {},
   "outputs": [
    {
     "data": {
      "text/plain": [
       "15"
      ]
     },
     "execution_count": 238,
     "metadata": {},
     "output_type": "execute_result"
    }
   ],
   "source": [
    "count_last_hour_unique_hashtags()"
   ]
  },
  {
   "cell_type": "code",
   "execution_count": 186,
   "metadata": {},
   "outputs": [
    {
     "data": {
      "text/plain": [
       "731"
      ]
     },
     "execution_count": 186,
     "metadata": {},
     "output_type": "execute_result"
    }
   ],
   "source": [
    "def get_delta(d1, d2):\n",
    "    delta = d2 - d1\n",
    "    return delta\n",
    "def count_twitts_by_range(start_date,end_date):\n",
    "    delta = get_delta(start_date,end_date)\n",
    "    total_count = 0\n",
    "    h_diff = int(delta.total_seconds()/3600)\n",
    "    for i in range(delta.days * 24 + h_diff):\n",
    "        date_key = start_date + timedelta (hours=i)\n",
    "        tmp = r.get(extract_date_key(date_key))\n",
    "#         print(date_str)\n",
    "        if tmp != None:\n",
    "            total_count += int(tmp.decode('ascii'))\n",
    "#         print (extract_date_key(date_str))\n",
    "    return total_count\n",
    "def extract_date_key(d):\n",
    "    ret_str = \"{0}/{1}/{2} {3}H\".format(d.year,d.month,d.day,d.hour)\n",
    "    return ret_str\n",
    "\n",
    "d1 = datetime.datetime.utcnow() - timedelta(days=1)\n",
    "d2  = datetime.datetime.utcnow()+timedelta(hours=1)\n",
    "count_twitts_by_range(d1,d2)\n",
    "\n",
    "# (d2-d1).total_seconds() "
   ]
  },
  {
   "cell_type": "code",
   "execution_count": 187,
   "metadata": {},
   "outputs": [
    {
     "data": {
      "text/plain": [
       "47"
      ]
     },
     "execution_count": 187,
     "metadata": {},
     "output_type": "execute_result"
    }
   ],
   "source": [
    "def count_hashtags_by_range(start_date,end_date,hashtag):\n",
    "    delta = get_delta(start_date,end_date)\n",
    "    h_diff = int(delta.total_seconds()/3600)\n",
    "\n",
    "    total_count = 0\n",
    "    for i in range(delta.days * 24 + h_diff):\n",
    "        date_key = start_date + timedelta (hours=i)\n",
    "        key = extract_date_key(date_key)+' tag:'+hashtag\n",
    "        tmp = r.get(key)\n",
    "        if tmp != None:\n",
    "            total_count += int(tmp.decode('ascii'))\n",
    "#         print (extract_date_key(date_str))\n",
    "    return total_count\n",
    "\n",
    "def extract_date_key(d):\n",
    "    ret_str = \"{0}/{1}/{2} {3}H\".format(d.year,d.month,d.day,d.hour)\n",
    "    return ret_str\n",
    "start_date = '2021/07/16'\n",
    "end_date = '2021/07/17'\n",
    "# d1 = datetime.datetime.strptime(start_date, '%Y/%m/%d')\n",
    "d1 = datetime.datetime.utcnow() - timedelta(hours=6)\n",
    "# d2 = datetime.datetime.strptime(end_date, '%Y/%m/%d')\n",
    "d2  = datetime.datetime.utcnow()+timedelta(hours=1)\n",
    "count_hashtags_by_range(d1,d2,'برکت')"
   ]
  },
  {
   "cell_type": "code",
   "execution_count": 175,
   "metadata": {},
   "outputs": [
    {
     "data": {
      "text/plain": [
       "datetime.datetime(2021, 7, 16, 8, 46, 12, 264287)"
      ]
     },
     "execution_count": 175,
     "metadata": {},
     "output_type": "execute_result"
    }
   ],
   "source": [
    "datetime.datetime.utcnow() - timedelta(hours=6)"
   ]
  },
  {
   "cell_type": "code",
   "execution_count": null,
   "metadata": {},
   "outputs": [
    {
     "name": "stdout",
     "output_type": "stream",
     "text": [
      " * Serving Flask app \"__main__\" (lazy loading)\n",
      " * Environment: production\n",
      "\u001b[31m   WARNING: This is a development server. Do not use it in a production deployment.\u001b[0m\n",
      "\u001b[2m   Use a production WSGI server instead.\u001b[0m\n",
      " * Debug mode: off\n"
     ]
    },
    {
     "name": "stderr",
     "output_type": "stream",
     "text": [
      " * Running on http://127.0.0.1:5000/ (Press CTRL+C to quit)\n",
      "127.0.0.1 - - [17/Jul/2021 10:50:59] \"\u001b[37mGET /count_hashtag HTTP/1.1\u001b[0m\" 200 -\n",
      "127.0.0.1 - - [17/Jul/2021 10:50:59] \"\u001b[37mGET /twitt_table.html HTTP/1.1\u001b[0m\" 200 -\n",
      "127.0.0.1 - - [17/Jul/2021 10:50:59] \"\u001b[37mGET /hashtag_table.html HTTP/1.1\u001b[0m\" 200 -\n",
      "127.0.0.1 - - [17/Jul/2021 10:51:00] \"\u001b[37mGET /count_hashtag HTTP/1.1\u001b[0m\" 200 -\n",
      "127.0.0.1 - - [17/Jul/2021 10:51:00] \"\u001b[37mGET /twitt_table.html HTTP/1.1\u001b[0m\" 200 -\n",
      "127.0.0.1 - - [17/Jul/2021 10:51:00] \"\u001b[37mGET /hashtag_table.html HTTP/1.1\u001b[0m\" 200 -\n",
      "127.0.0.1 - - [17/Jul/2021 10:51:01] \"\u001b[37mGET /count_hashtag HTTP/1.1\u001b[0m\" 200 -\n",
      "127.0.0.1 - - [17/Jul/2021 10:51:01] \"\u001b[37mGET /twitt_table.html HTTP/1.1\u001b[0m\" 200 -\n",
      "127.0.0.1 - - [17/Jul/2021 10:51:01] \"\u001b[37mGET /hashtag_table.html HTTP/1.1\u001b[0m\" 200 -\n",
      "127.0.0.1 - - [17/Jul/2021 10:51:32] \"\u001b[37mGET /count_hashtag HTTP/1.1\u001b[0m\" 200 -\n",
      "127.0.0.1 - - [17/Jul/2021 10:51:32] \"\u001b[37mGET /twitt_table.html HTTP/1.1\u001b[0m\" 200 -\n",
      "127.0.0.1 - - [17/Jul/2021 10:51:32] \"\u001b[37mGET /hashtag_table.html HTTP/1.1\u001b[0m\" 200 -\n",
      "127.0.0.1 - - [17/Jul/2021 10:51:32] \"\u001b[37mGET /count_hashtag HTTP/1.1\u001b[0m\" 200 -\n",
      "127.0.0.1 - - [17/Jul/2021 10:51:32] \"\u001b[37mGET /twitt_table.html HTTP/1.1\u001b[0m\" 200 -\n",
      "127.0.0.1 - - [17/Jul/2021 10:51:33] \"\u001b[37mGET /hashtag_table.html HTTP/1.1\u001b[0m\" 200 -\n",
      "127.0.0.1 - - [17/Jul/2021 10:51:33] \"\u001b[37mGET /count_hashtag HTTP/1.1\u001b[0m\" 200 -\n",
      "127.0.0.1 - - [17/Jul/2021 10:51:33] \"\u001b[37mGET /twitt_table.html HTTP/1.1\u001b[0m\" 200 -\n",
      "127.0.0.1 - - [17/Jul/2021 10:51:33] \"\u001b[37mGET /hashtag_table.html HTTP/1.1\u001b[0m\" 200 -\n",
      "127.0.0.1 - - [17/Jul/2021 10:51:34] \"\u001b[37mGET /count_hashtag HTTP/1.1\u001b[0m\" 200 -\n",
      "127.0.0.1 - - [17/Jul/2021 10:51:34] \"\u001b[37mGET /twitt_table.html HTTP/1.1\u001b[0m\" 200 -\n",
      "127.0.0.1 - - [17/Jul/2021 10:51:34] \"\u001b[37mGET /hashtag_table.html HTTP/1.1\u001b[0m\" 200 -\n",
      "127.0.0.1 - - [17/Jul/2021 10:51:34] \"\u001b[37mGET /count_hashtag HTTP/1.1\u001b[0m\" 200 -\n",
      "127.0.0.1 - - [17/Jul/2021 10:51:34] \"\u001b[37mGET /twitt_table.html HTTP/1.1\u001b[0m\" 200 -\n",
      "127.0.0.1 - - [17/Jul/2021 10:51:34] \"\u001b[37mGET /hashtag_table.html HTTP/1.1\u001b[0m\" 200 -\n",
      "127.0.0.1 - - [17/Jul/2021 10:51:35] \"\u001b[37mGET /count_hashtag HTTP/1.1\u001b[0m\" 200 -\n",
      "127.0.0.1 - - [17/Jul/2021 10:51:35] \"\u001b[37mGET /twitt_table.html HTTP/1.1\u001b[0m\" 200 -\n",
      "127.0.0.1 - - [17/Jul/2021 10:51:35] \"\u001b[37mGET /hashtag_table.html HTTP/1.1\u001b[0m\" 200 -\n",
      "127.0.0.1 - - [17/Jul/2021 10:51:35] \"\u001b[37mGET /count_hashtag HTTP/1.1\u001b[0m\" 200 -\n",
      "127.0.0.1 - - [17/Jul/2021 10:51:35] \"\u001b[37mGET /twitt_table.html HTTP/1.1\u001b[0m\" 200 -\n",
      "127.0.0.1 - - [17/Jul/2021 10:51:35] \"\u001b[37mGET /hashtag_table.html HTTP/1.1\u001b[0m\" 200 -\n",
      "127.0.0.1 - - [17/Jul/2021 10:51:36] \"\u001b[37mGET /count_hashtag HTTP/1.1\u001b[0m\" 200 -\n",
      "127.0.0.1 - - [17/Jul/2021 10:51:36] \"\u001b[37mGET /twitt_table.html HTTP/1.1\u001b[0m\" 200 -\n",
      "127.0.0.1 - - [17/Jul/2021 10:51:36] \"\u001b[37mGET /hashtag_table.html HTTP/1.1\u001b[0m\" 200 -\n",
      "127.0.0.1 - - [17/Jul/2021 10:51:50] \"\u001b[37mGET /count_hashtag HTTP/1.1\u001b[0m\" 200 -\n",
      "127.0.0.1 - - [17/Jul/2021 10:51:50] \"\u001b[37mGET /twitt_table.html HTTP/1.1\u001b[0m\" 200 -\n",
      "127.0.0.1 - - [17/Jul/2021 10:51:50] \"\u001b[37mGET /hashtag_table.html HTTP/1.1\u001b[0m\" 200 -\n",
      "127.0.0.1 - - [17/Jul/2021 10:51:58] \"\u001b[37mGET /count_hashtag HTTP/1.1\u001b[0m\" 200 -\n",
      "127.0.0.1 - - [17/Jul/2021 10:51:58] \"\u001b[37mGET /twitt_table.html HTTP/1.1\u001b[0m\" 200 -\n",
      "127.0.0.1 - - [17/Jul/2021 10:51:58] \"\u001b[37mGET /hashtag_table.html HTTP/1.1\u001b[0m\" 200 -\n",
      "127.0.0.1 - - [17/Jul/2021 10:51:59] \"\u001b[37mGET /count_hashtag HTTP/1.1\u001b[0m\" 200 -\n",
      "127.0.0.1 - - [17/Jul/2021 10:51:59] \"\u001b[37mGET /twitt_table.html HTTP/1.1\u001b[0m\" 200 -\n",
      "127.0.0.1 - - [17/Jul/2021 10:51:59] \"\u001b[37mGET /hashtag_table.html HTTP/1.1\u001b[0m\" 200 -\n",
      "127.0.0.1 - - [17/Jul/2021 10:52:00] \"\u001b[37mGET /count_hashtag HTTP/1.1\u001b[0m\" 200 -\n",
      "127.0.0.1 - - [17/Jul/2021 10:52:00] \"\u001b[37mGET /twitt_table.html HTTP/1.1\u001b[0m\" 200 -\n",
      "127.0.0.1 - - [17/Jul/2021 10:52:00] \"\u001b[37mGET /hashtag_table.html HTTP/1.1\u001b[0m\" 200 -\n",
      "127.0.0.1 - - [17/Jul/2021 10:52:15] \"\u001b[37mGET /count_hashtag HTTP/1.1\u001b[0m\" 200 -\n",
      "127.0.0.1 - - [17/Jul/2021 10:52:15] \"\u001b[37mGET /twitt_table.html HTTP/1.1\u001b[0m\" 200 -\n",
      "127.0.0.1 - - [17/Jul/2021 10:52:15] \"\u001b[37mGET /hashtag_table.html HTTP/1.1\u001b[0m\" 200 -\n",
      "127.0.0.1 - - [17/Jul/2021 10:52:16] \"\u001b[37mGET /count_hashtag HTTP/1.1\u001b[0m\" 200 -\n",
      "127.0.0.1 - - [17/Jul/2021 10:52:16] \"\u001b[37mGET /twitt_table.html HTTP/1.1\u001b[0m\" 200 -\n",
      "127.0.0.1 - - [17/Jul/2021 10:52:16] \"\u001b[37mGET /hashtag_table.html HTTP/1.1\u001b[0m\" 200 -\n",
      "127.0.0.1 - - [17/Jul/2021 10:52:17] \"\u001b[37mGET /count_hashtag HTTP/1.1\u001b[0m\" 200 -\n",
      "127.0.0.1 - - [17/Jul/2021 10:52:17] \"\u001b[37mGET /twitt_table.html HTTP/1.1\u001b[0m\" 200 -\n",
      "127.0.0.1 - - [17/Jul/2021 10:52:17] \"\u001b[37mGET /hashtag_table.html HTTP/1.1\u001b[0m\" 200 -\n",
      "127.0.0.1 - - [17/Jul/2021 10:53:28] \"\u001b[37mGET /count_hashtag HTTP/1.1\u001b[0m\" 200 -\n",
      "127.0.0.1 - - [17/Jul/2021 10:53:28] \"\u001b[37mGET /twitt_table.html HTTP/1.1\u001b[0m\" 200 -\n",
      "127.0.0.1 - - [17/Jul/2021 10:53:28] \"\u001b[37mGET /hashtag_table.html HTTP/1.1\u001b[0m\" 200 -\n",
      "127.0.0.1 - - [17/Jul/2021 10:53:28] \"\u001b[37mGET /count_hashtag HTTP/1.1\u001b[0m\" 200 -\n",
      "127.0.0.1 - - [17/Jul/2021 10:53:28] \"\u001b[37mGET /twitt_table.html HTTP/1.1\u001b[0m\" 200 -\n",
      "127.0.0.1 - - [17/Jul/2021 10:53:29] \"\u001b[37mGET /hashtag_table.html HTTP/1.1\u001b[0m\" 200 -\n",
      "127.0.0.1 - - [17/Jul/2021 10:53:29] \"\u001b[37mGET /count_hashtag HTTP/1.1\u001b[0m\" 200 -\n",
      "127.0.0.1 - - [17/Jul/2021 10:53:29] \"\u001b[37mGET /twitt_table.html HTTP/1.1\u001b[0m\" 200 -\n",
      "127.0.0.1 - - [17/Jul/2021 10:53:29] \"\u001b[37mGET /hashtag_table.html HTTP/1.1\u001b[0m\" 200 -\n",
      "127.0.0.1 - - [17/Jul/2021 10:53:57] \"\u001b[37mGET /count_hashtag HTTP/1.1\u001b[0m\" 200 -\n",
      "127.0.0.1 - - [17/Jul/2021 10:53:57] \"\u001b[37mGET /twitt_table.html HTTP/1.1\u001b[0m\" 200 -\n",
      "127.0.0.1 - - [17/Jul/2021 10:53:57] \"\u001b[37mGET /hashtag_table.html HTTP/1.1\u001b[0m\" 200 -\n",
      "127.0.0.1 - - [17/Jul/2021 10:53:58] \"\u001b[37mGET /count_hashtag HTTP/1.1\u001b[0m\" 200 -\n",
      "127.0.0.1 - - [17/Jul/2021 10:53:58] \"\u001b[37mGET /twitt_table.html HTTP/1.1\u001b[0m\" 200 -\n",
      "127.0.0.1 - - [17/Jul/2021 10:53:58] \"\u001b[37mGET /hashtag_table.html HTTP/1.1\u001b[0m\" 200 -\n",
      "127.0.0.1 - - [17/Jul/2021 10:53:59] \"\u001b[37mGET /count_hashtag HTTP/1.1\u001b[0m\" 200 -\n",
      "127.0.0.1 - - [17/Jul/2021 10:53:59] \"\u001b[37mGET /twitt_table.html HTTP/1.1\u001b[0m\" 200 -\n",
      "127.0.0.1 - - [17/Jul/2021 10:53:59] \"\u001b[37mGET /hashtag_table.html HTTP/1.1\u001b[0m\" 200 -\n",
      "127.0.0.1 - - [17/Jul/2021 10:54:00] \"\u001b[37mGET /count_hashtag HTTP/1.1\u001b[0m\" 200 -\n",
      "127.0.0.1 - - [17/Jul/2021 10:54:00] \"\u001b[37mGET /twitt_table.html HTTP/1.1\u001b[0m\" 200 -\n",
      "127.0.0.1 - - [17/Jul/2021 10:54:00] \"\u001b[37mGET /hashtag_table.html HTTP/1.1\u001b[0m\" 200 -\n",
      "127.0.0.1 - - [17/Jul/2021 10:55:01] \"\u001b[37mGET /count_hashtag HTTP/1.1\u001b[0m\" 200 -\n",
      "127.0.0.1 - - [17/Jul/2021 10:55:01] \"\u001b[37mGET /twitt_table.html HTTP/1.1\u001b[0m\" 200 -\n",
      "127.0.0.1 - - [17/Jul/2021 10:55:01] \"\u001b[37mGET /hashtag_table.html HTTP/1.1\u001b[0m\" 200 -\n",
      "127.0.0.1 - - [17/Jul/2021 10:55:02] \"\u001b[37mGET /count_hashtag HTTP/1.1\u001b[0m\" 200 -\n",
      "127.0.0.1 - - [17/Jul/2021 10:55:02] \"\u001b[37mGET /twitt_table.html HTTP/1.1\u001b[0m\" 200 -\n",
      "127.0.0.1 - - [17/Jul/2021 10:55:02] \"\u001b[37mGET /hashtag_table.html HTTP/1.1\u001b[0m\" 200 -\n",
      "127.0.0.1 - - [17/Jul/2021 10:55:05] \"\u001b[37mGET /count_hashtag HTTP/1.1\u001b[0m\" 200 -\n",
      "127.0.0.1 - - [17/Jul/2021 10:55:05] \"\u001b[37mGET /twitt_table.html HTTP/1.1\u001b[0m\" 200 -\n",
      "127.0.0.1 - - [17/Jul/2021 10:55:05] \"\u001b[37mGET /hashtag_table.html HTTP/1.1\u001b[0m\" 200 -\n",
      "127.0.0.1 - - [17/Jul/2021 11:06:46] \"\u001b[37mGET /count_hashtag HTTP/1.1\u001b[0m\" 200 -\n",
      "127.0.0.1 - - [17/Jul/2021 11:06:46] \"\u001b[37mGET /twitt_table.html HTTP/1.1\u001b[0m\" 200 -\n",
      "127.0.0.1 - - [17/Jul/2021 11:06:46] \"\u001b[37mGET /hashtag_table.html HTTP/1.1\u001b[0m\" 200 -\n",
      "127.0.0.1 - - [17/Jul/2021 11:06:47] \"\u001b[37mGET /count_hashtag HTTP/1.1\u001b[0m\" 200 -\n",
      "127.0.0.1 - - [17/Jul/2021 11:06:47] \"\u001b[37mGET /twitt_table.html HTTP/1.1\u001b[0m\" 200 -\n",
      "127.0.0.1 - - [17/Jul/2021 11:06:47] \"\u001b[37mGET /hashtag_table.html HTTP/1.1\u001b[0m\" 200 -\n",
      "127.0.0.1 - - [17/Jul/2021 11:11:54] \"\u001b[37mGET /count_hashtag HTTP/1.1\u001b[0m\" 200 -\n",
      "127.0.0.1 - - [17/Jul/2021 11:11:54] \"\u001b[37mGET /twitt_table.html HTTP/1.1\u001b[0m\" 200 -\n",
      "127.0.0.1 - - [17/Jul/2021 11:11:54] \"\u001b[37mGET /hashtag_table.html HTTP/1.1\u001b[0m\" 200 -\n",
      "127.0.0.1 - - [17/Jul/2021 11:11:54] \"\u001b[37mGET /count_hashtag HTTP/1.1\u001b[0m\" 200 -\n",
      "127.0.0.1 - - [17/Jul/2021 11:11:54] \"\u001b[37mGET /twitt_table.html HTTP/1.1\u001b[0m\" 200 -\n",
      "127.0.0.1 - - [17/Jul/2021 11:11:54] \"\u001b[37mGET /hashtag_table.html HTTP/1.1\u001b[0m\" 200 -\n",
      "127.0.0.1 - - [17/Jul/2021 11:11:56] \"\u001b[37mGET /count_hashtag HTTP/1.1\u001b[0m\" 200 -\n",
      "127.0.0.1 - - [17/Jul/2021 11:11:56] \"\u001b[37mGET /twitt_table.html HTTP/1.1\u001b[0m\" 200 -\n",
      "127.0.0.1 - - [17/Jul/2021 11:11:56] \"\u001b[37mGET /hashtag_table.html HTTP/1.1\u001b[0m\" 200 -\n",
      "127.0.0.1 - - [17/Jul/2021 11:11:58] \"\u001b[37mGET /count_hashtag HTTP/1.1\u001b[0m\" 200 -\n",
      "127.0.0.1 - - [17/Jul/2021 11:11:58] \"\u001b[37mGET /twitt_table.html HTTP/1.1\u001b[0m\" 200 -\n",
      "127.0.0.1 - - [17/Jul/2021 11:11:58] \"\u001b[37mGET /hashtag_table.html HTTP/1.1\u001b[0m\" 200 -\n",
      "127.0.0.1 - - [17/Jul/2021 11:12:01] \"\u001b[37mGET /count_hashtag HTTP/1.1\u001b[0m\" 200 -\n",
      "127.0.0.1 - - [17/Jul/2021 11:12:01] \"\u001b[37mGET /twitt_table.html HTTP/1.1\u001b[0m\" 200 -\n",
      "127.0.0.1 - - [17/Jul/2021 11:12:01] \"\u001b[37mGET /hashtag_table.html HTTP/1.1\u001b[0m\" 200 -\n",
      "127.0.0.1 - - [17/Jul/2021 11:17:07] \"\u001b[37mGET /count_hashtag HTTP/1.1\u001b[0m\" 200 -\n",
      "127.0.0.1 - - [17/Jul/2021 11:17:07] \"\u001b[37mGET /twitt_table.html HTTP/1.1\u001b[0m\" 200 -\n",
      "127.0.0.1 - - [17/Jul/2021 11:17:07] \"\u001b[37mGET /hashtag_table.html HTTP/1.1\u001b[0m\" 200 -\n",
      "127.0.0.1 - - [17/Jul/2021 11:17:09] \"\u001b[37mGET /count_hashtag HTTP/1.1\u001b[0m\" 200 -\n",
      "127.0.0.1 - - [17/Jul/2021 11:17:09] \"\u001b[37mGET /twitt_table.html HTTP/1.1\u001b[0m\" 200 -\n",
      "127.0.0.1 - - [17/Jul/2021 11:17:09] \"\u001b[37mGET /hashtag_table.html HTTP/1.1\u001b[0m\" 200 -\n",
      "127.0.0.1 - - [17/Jul/2021 11:17:32] \"\u001b[37mGET /count_hashtag HTTP/1.1\u001b[0m\" 200 -\n",
      "127.0.0.1 - - [17/Jul/2021 11:17:32] \"\u001b[37mGET /twitt_table.html HTTP/1.1\u001b[0m\" 200 -\n",
      "127.0.0.1 - - [17/Jul/2021 11:17:32] \"\u001b[37mGET /hashtag_table.html HTTP/1.1\u001b[0m\" 200 -\n",
      "127.0.0.1 - - [17/Jul/2021 11:17:33] \"\u001b[37mGET /count_hashtag HTTP/1.1\u001b[0m\" 200 -\n",
      "127.0.0.1 - - [17/Jul/2021 11:17:33] \"\u001b[37mGET /twitt_table.html HTTP/1.1\u001b[0m\" 200 -\n",
      "127.0.0.1 - - [17/Jul/2021 11:17:34] \"\u001b[37mGET /hashtag_table.html HTTP/1.1\u001b[0m\" 200 -\n"
     ]
    }
   ],
   "source": [
    "# from flask import Flask,send_file,make_response\n",
    "from flask_cors import CORS, cross_origin\n",
    "\n",
    "app = Flask(__name__)\n",
    "cors = CORS(app)\n",
    "app.config['CORS_HEADERS'] = 'Content-Type'\n",
    "\n",
    "@app.route('/hashtag_table.html', methods=(\"POST\", \"GET\"))\n",
    "def html_table():\n",
    "    tmp = r.lrange('hashtags_recently_list', 0, -1)\n",
    "    str1 = b\"\\n \".join(tmp)\n",
    "    df = pd.DataFrame(tmp)\n",
    "    df[0] = df[0].apply(lambda x : x.decode('utf-8'))\n",
    "\n",
    "    df.rename(columns={0:'هشتگ'},inplace=True)\n",
    "    return df.to_html(header=\"true\", table_id=\"table\")\n",
    "\n",
    "\n",
    "@app.route('/twitt_table.html', methods=(\"POST\", \"GET\"))\n",
    "def html_twitt_table():\n",
    "    tmp = r.lrange('twitt_recently_list', 0, -1)\n",
    "    str1 = b\"\\n \".join(tmp)\n",
    "    df = pd.DataFrame(tmp)\n",
    "    df[0] = df[0].apply(lambda x : x.decode('utf-8'))\n",
    "\n",
    "    df.rename(columns={0:'محتوای توییت'},inplace=True)\n",
    "    return df.to_html(header=\"true\", table_id=\"table\")\n",
    "\n",
    "\n",
    "@app.route('/count_hashtag', methods=(\"POST\", \"GET\"))\n",
    "def count_hashtags():\n",
    "    d1 = datetime.datetime.utcnow()-timedelta(hours=6)\n",
    "    d2  = datetime.datetime.utcnow()+timedelta(hours=1)\n",
    "    \n",
    "    d1_twitts = datetime.datetime.utcnow() - timedelta(days=1)\n",
    "\n",
    "#     unique_hashtags = \n",
    "    \n",
    "#     count_hashtags_by_range(d1,d2,'برکت')\n",
    "    tmp_map = {'نماد':['برکت','شستا','خودرو','خساپا','Last 1 Hour Unique Hashtags Count','Twitts Last 1 Hour','ALL Twitt Count Last 6 Hours','ALL Twitt Last 1 Day'],\n",
    "              'تعداد توییت': [count_hashtags_by_range(d1,d2,'برکت'),count_hashtags_by_range(d1,d2,'شستا'),count_hashtags_by_range(d1,d2,'خودرو'),count_hashtags_by_range(d1,d2,'خساپا')\n",
    "                              ,count_last_hour_unique_hashtags()\n",
    "                              ,count_twitts_by_range(d2-timedelta(hours=2),d2),count_twitts_by_range(d1,d2) ,count_twitts_by_range(d1_twitts,d2)]\n",
    "              }\n",
    "    return pd.DataFrame(tmp_map).to_html(header=\"true\", table_id=\"table\")\n",
    "\n",
    "\n",
    "\n",
    "\n",
    "if __name__ == '__main__':\n",
    "    app.run(debug=False)"
   ]
  },
  {
   "cell_type": "code",
   "execution_count": null,
   "metadata": {},
   "outputs": [],
   "source": []
  }
 ],
 "metadata": {
  "kernelspec": {
   "display_name": "Python 3",
   "language": "python",
   "name": "python3"
  },
  "language_info": {
   "codemirror_mode": {
    "name": "ipython",
    "version": 3
   },
   "file_extension": ".py",
   "mimetype": "text/x-python",
   "name": "python",
   "nbconvert_exporter": "python",
   "pygments_lexer": "ipython3",
   "version": "3.8.5"
  }
 },
 "nbformat": 4,
 "nbformat_minor": 4
}
