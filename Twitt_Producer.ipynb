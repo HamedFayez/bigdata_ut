{
 "cells": [
  {
   "cell_type": "code",
   "execution_count": 3,
   "metadata": {},
   "outputs": [],
   "source": [
    "from time import sleep\n",
    "from json import dumps\n",
    "from kafka import KafkaProducer\n",
    "import requests\n",
    "import time\n",
    "import re\n",
    "import json"
   ]
  },
  {
   "cell_type": "code",
   "execution_count": 4,
   "metadata": {},
   "outputs": [],
   "source": [
    "producer = KafkaProducer(bootstrap_servers=['localhost:9092'],key_serializer=str.encode,\n",
    "                         value_serializer=lambda x:dumps(x).encode('utf-8'))"
   ]
  },
  {
   "cell_type": "code",
   "execution_count": 7,
   "metadata": {},
   "outputs": [],
   "source": [
    "url = \"https://www.sahamyab.com/guest/twiter/list?v=0.1\"\n",
    "fetched = 0\n",
    "seenIds = set()"
   ]
  },
  {
   "cell_type": "code",
   "execution_count": null,
   "metadata": {},
   "outputs": [],
   "source": [
    "seenIds.clear()"
   ]
  },
  {
   "cell_type": "code",
   "execution_count": null,
   "metadata": {},
   "outputs": [
    {
     "name": "stdout",
     "output_type": "stream",
     "text": [
      "550\n",
      "600\n",
      "650\n",
      "700\n",
      "750\n",
      "800\n",
      "850\n"
     ]
    }
   ],
   "source": [
    "while True:\n",
    "    response = requests.get(url=url,headers={'User-Agent': 'Mozilla/5.0 (Windows NT 10.0; Win64; x64) AppleWebKit/537.36 (KHTML, like Gecko) Chrome/90.0.4430.212 Safari/537.36'},timeout=500)\n",
    "    data = json.loads(response.content)['items']\n",
    "    response.close()\n",
    "    for tweet in data:\n",
    "#         print(tweet)\n",
    "#         print('-------------------------------------------------')\n",
    "        if tweet['id'] not in seenIds:\n",
    "            producer.send('PreProcess', key=tweet['id'],value=tweet)\n",
    "            seenIds.add(tweet['id'])\n",
    "            fetched+=1\n",
    "            if fetched % 50 ==0:\n",
    "                print(fetched)\n",
    "    if len(seenIds) > 1000:\n",
    "        seenIds.clear()\n",
    "        for tweet in data:\n",
    "            seenIds.add(tweet['id'])\n",
    "        print('ID Set Is Refresshed')\n",
    "    time.sleep(200)\n"
   ]
  },
  {
   "cell_type": "code",
   "execution_count": 15,
   "metadata": {},
   "outputs": [],
   "source": [
    "response = requests.get(url=url,headers={'User-Agent': 'Mozilla/5.0 (Windows NT 10.0; Win64; x64) AppleWebKit/537.36 (KHTML, like Gecko) Chrome/90.0.4430.212 Safari/537.36'},timeout=500)\n",
    "data = json.loads(response.content)['items']"
   ]
  },
  {
   "cell_type": "code",
   "execution_count": 16,
   "metadata": {},
   "outputs": [
    {
     "data": {
      "text/plain": [
       "{'id': '325692273',\n",
       " 'sendTime': '2021-07-16T15:07:01Z',\n",
       " 'sendTimePersian': '1400/04/25 19:37',\n",
       " 'parentSendTime': '2021-07-16T14:47:23Z',\n",
       " 'parentSendTimePersian': '1400/04/25 19:17',\n",
       " 'parentId': '325685423',\n",
       " 'parentSenderName': 'MB',\n",
       " 'parentSenderUsername': 'mb1301',\n",
       " 'parentSenderProfileImage': 'default',\n",
       " 'parentContent': '#شاخص بورس\\nحدیثی داریم از امام معصوم که دقیقا یاد ندارم، ولی فکر کنم قولی است از حضرت امیر (ع) با این مضمون که :\\n«« اگر بین عمل ما و قول ما تناقضی دیدید و مردد شدید، به قول ما تکیه کنید نه به عمل ما، زیرا عمل ما مربوط به خود ماست که معصوم هستیم، و از علت انجام اون عمل با خبریم. شما ملاک رو عمل ما قرار ندید. و به قول ما تکیه کنید»»\\nاونی که میگه علی بن ابیطالب اشعث و غیره رو در دوران حکومتش به انجام اموراتی منصوب کرد، باید بدونه که در شرایطی که عمل معصوم با قول و کلامش به ظاهر در تضاد هست، ملاک قول معصوم هست نه عملش. آنچه از احادیث معصومین به دست ما رسیده اینه که نباید مسئولیتی به ظالم محول بشه. ملاک هم باید برای همه ما قول معصوم باشه و نه عملش. اینکه استدلال میکنند چون علی شخص منافقی رو منصوب کرد به فلان مسئولیت، و با اون بخوان کار رهبری، در واگذاری امور به برخی اشخاص و توجیه کنند، قیاس مع الفارقه. چون جایگاه معصوم و تصمیماتش با هیچکس و هیچ چیز قابل مقابسه نیست جز با خود معصوم.',\n",
       " 'senderName': 'سهم ثروت آفرین',\n",
       " 'senderUsername': 'hoo',\n",
       " 'senderProfileImage': '0fec1676-33d9-495c-b32a-f28922bfc8af',\n",
       " 'content': 'بنده به بحث شما کاری ندارم ولی هم قول امام هم فعل امام وهم تقریر امام حجته .منظور از تقریر، سکوت ورضای امام  است.منظور از امام ،امام معصوم علیه السلام است نه هر نه نه قمری که بیاد ادعای امامت کنه ،مثل امام های جعلی که درآمده،  این امام های جعلی در مقایسه باعظمت امام معصوم علیه السلام مثل کرم وزالو هستند که به دین چسبیده اند واز دین تغذیه وسواستفاده میکنن.واگذارشان به پنج تن آل عبا',\n",
       " 'type': 'quote',\n",
       " 'finalPullDatePersian': ''}"
      ]
     },
     "execution_count": 16,
     "metadata": {},
     "output_type": "execute_result"
    }
   ],
   "source": [
    "data[0]"
   ]
  }
 ],
 "metadata": {
  "kernelspec": {
   "display_name": "Python 3",
   "language": "python",
   "name": "python3"
  },
  "language_info": {
   "codemirror_mode": {
    "name": "ipython",
    "version": 3
   },
   "file_extension": ".py",
   "mimetype": "text/x-python",
   "name": "python",
   "nbconvert_exporter": "python",
   "pygments_lexer": "ipython3",
   "version": "3.8.5"
  }
 },
 "nbformat": 4,
 "nbformat_minor": 4
}
