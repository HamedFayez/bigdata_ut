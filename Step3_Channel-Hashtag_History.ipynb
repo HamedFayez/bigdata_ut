{
 "cells": [
  {
   "cell_type": "code",
   "execution_count": 1,
   "id": "29ead450",
   "metadata": {
    "collapsed": true
   },
   "outputs": [
    {
     "name": "stdout",
     "output_type": "stream",
     "text": [
      "Requirement already satisfied: cassandra-driver in c:\\users\\alija\\miniconda3\\lib\\site-packages (3.25.0)\n",
      "Requirement already satisfied: six>=1.9 in c:\\users\\alija\\miniconda3\\lib\\site-packages (from cassandra-driver) (1.14.0)\n",
      "Requirement already satisfied: geomet<0.3,>=0.1 in c:\\users\\alija\\miniconda3\\lib\\site-packages (from cassandra-driver) (0.2.1.post1)\n",
      "Requirement already satisfied: click in c:\\users\\alija\\miniconda3\\lib\\site-packages (from geomet<0.3,>=0.1->cassandra-driver) (8.0.1)\n",
      "Requirement already satisfied: importlib-metadata; python_version < \"3.8\" in c:\\users\\alija\\appdata\\roaming\\python\\python37\\site-packages (from click->geomet<0.3,>=0.1->cassandra-driver) (4.0.1)\n",
      "Requirement already satisfied: colorama; platform_system == \"Windows\" in c:\\users\\alija\\appdata\\roaming\\python\\python37\\site-packages (from click->geomet<0.3,>=0.1->cassandra-driver) (0.4.4)\n",
      "Requirement already satisfied: zipp>=0.5 in c:\\users\\alija\\appdata\\roaming\\python\\python37\\site-packages (from importlib-metadata; python_version < \"3.8\"->click->geomet<0.3,>=0.1->cassandra-driver) (3.4.1)\n",
      "Requirement already satisfied: typing-extensions>=3.6.4; python_version < \"3.8\" in c:\\users\\alija\\appdata\\roaming\\python\\python37\\site-packages (from importlib-metadata; python_version < \"3.8\"->click->geomet<0.3,>=0.1->cassandra-driver) (3.10.0.0)\n"
     ]
    }
   ],
   "source": [
    "!pip install cassandra-driver"
   ]
  },
  {
   "cell_type": "code",
   "execution_count": 1,
   "id": "1f9da538",
   "metadata": {},
   "outputs": [
    {
     "data": {
      "text/plain": [
       "'3.25.0'"
      ]
     },
     "execution_count": 1,
     "metadata": {},
     "output_type": "execute_result"
    }
   ],
   "source": [
    "from json import loads\n",
    "import cassandra\n",
    "cassandra. __version__"
   ]
  },
  {
   "cell_type": "code",
   "execution_count": 3,
   "id": "5c3aa559",
   "metadata": {},
   "outputs": [
    {
     "data": {
      "text/plain": [
       "<cassandra.cluster.ResultSet at 0x1a0b6aab888>"
      ]
     },
     "execution_count": 3,
     "metadata": {},
     "output_type": "execute_result"
    }
   ],
   "source": [
    "from cassandra.cluster import Cluster\n",
    "\n",
    "cluster = Cluster()\n",
    "session = cluster.connect()\n",
    "session.execute(\"CREATE KEYSPACE IF NOT EXISTS mydb WITH REPLICATION = { 'class' : 'SimpleStrategy', 'replication_factor' : 1 };\")"
   ]
  },
  {
   "cell_type": "code",
   "execution_count": 20,
   "id": "935c8df1",
   "metadata": {},
   "outputs": [],
   "source": [
    "from kafka import KafkaConsumer\n",
    "from kafka import KafkaProducer\n",
    "from elasticsearch import Elasticsearch\n",
    "import time\n",
    "import re\n",
    "import json\n",
    "from json import loads\n",
    "\n",
    "consumer = KafkaConsumer(\n",
    "    'persistence',\n",
    "     bootstrap_servers=['192.168.1.3:9092'],\n",
    "     auto_offset_reset='earliest',\n",
    "     enable_auto_commit=True,\n",
    "     group_id='my-group3',\n",
    "     api_version=(0,10),\n",
    "     value_deserializer=lambda x: loads(x.decode('utf-8')))"
   ]
  },
  {
   "cell_type": "markdown",
   "id": "f5ab1912",
   "metadata": {},
   "source": [
    "# Make a Dataframe to store the consumer contents:"
   ]
  },
  {
   "cell_type": "code",
   "execution_count": 69,
   "id": "27195c96",
   "metadata": {},
   "outputs": [
    {
     "data": {
      "text/html": [
       "<div>\n",
       "<style scoped>\n",
       "    .dataframe tbody tr th:only-of-type {\n",
       "        vertical-align: middle;\n",
       "    }\n",
       "\n",
       "    .dataframe tbody tr th {\n",
       "        vertical-align: top;\n",
       "    }\n",
       "\n",
       "    .dataframe thead th {\n",
       "        text-align: right;\n",
       "    }\n",
       "</style>\n",
       "<table border=\"1\" class=\"dataframe\">\n",
       "  <thead>\n",
       "    <tr style=\"text-align: right;\">\n",
       "      <th></th>\n",
       "      <th>hashtag</th>\n",
       "      <th>id</th>\n",
       "      <th>year</th>\n",
       "      <th>month</th>\n",
       "      <th>day</th>\n",
       "      <th>hour</th>\n",
       "      <th>minute</th>\n",
       "    </tr>\n",
       "  </thead>\n",
       "  <tbody>\n",
       "  </tbody>\n",
       "</table>\n",
       "</div>"
      ],
      "text/plain": [
       "Empty DataFrame\n",
       "Columns: [hashtag, id, year, month, day, hour, minute]\n",
       "Index: []"
      ]
     },
     "execution_count": 69,
     "metadata": {},
     "output_type": "execute_result"
    }
   ],
   "source": [
    "import pandas as pd\n",
    "elasticSearch = Elasticsearch([{'host':'localhost','port':9200}])\n",
    "df=pd.DataFrame(columns=['hashtag','id','year', 'month','day','hour','minute'])\n",
    "df"
   ]
  },
  {
   "cell_type": "code",
   "execution_count": 14,
   "id": "9404f497",
   "metadata": {
    "collapsed": true
   },
   "outputs": [
    {
     "ename": "KeyboardInterrupt",
     "evalue": "",
     "output_type": "error",
     "traceback": [
      "\u001b[1;31m---------------------------------------------------------------------------\u001b[0m",
      "\u001b[1;31mKeyboardInterrupt\u001b[0m                         Traceback (most recent call last)",
      "\u001b[1;32m<ipython-input-14-67dcac2e777a>\u001b[0m in \u001b[0;36m<module>\u001b[1;34m\u001b[0m\n\u001b[1;32m----> 1\u001b[1;33m \u001b[1;32mfor\u001b[0m \u001b[0mmessage\u001b[0m \u001b[1;32min\u001b[0m \u001b[0mconsumer\u001b[0m\u001b[1;33m:\u001b[0m\u001b[1;33m\u001b[0m\u001b[1;33m\u001b[0m\u001b[0m\n\u001b[0m\u001b[0;32m      2\u001b[0m     \u001b[0mmessage\u001b[0m \u001b[1;33m=\u001b[0m \u001b[0mmessage\u001b[0m\u001b[1;33m.\u001b[0m\u001b[0mvalue\u001b[0m\u001b[1;33m\u001b[0m\u001b[1;33m\u001b[0m\u001b[0m\n\u001b[0;32m      3\u001b[0m     \u001b[0mprint\u001b[0m\u001b[1;33m(\u001b[0m\u001b[0mmessage\u001b[0m\u001b[1;33m)\u001b[0m\u001b[1;33m\u001b[0m\u001b[1;33m\u001b[0m\u001b[0m\n",
      "\u001b[1;32mc:\\users\\alija\\miniconda3\\lib\\site-packages\\kafka\\consumer\\group.py\u001b[0m in \u001b[0;36m__next__\u001b[1;34m(self)\u001b[0m\n\u001b[0;32m   1191\u001b[0m             \u001b[1;32mreturn\u001b[0m \u001b[0mself\u001b[0m\u001b[1;33m.\u001b[0m\u001b[0mnext_v1\u001b[0m\u001b[1;33m(\u001b[0m\u001b[1;33m)\u001b[0m\u001b[1;33m\u001b[0m\u001b[1;33m\u001b[0m\u001b[0m\n\u001b[0;32m   1192\u001b[0m         \u001b[1;32melse\u001b[0m\u001b[1;33m:\u001b[0m\u001b[1;33m\u001b[0m\u001b[1;33m\u001b[0m\u001b[0m\n\u001b[1;32m-> 1193\u001b[1;33m             \u001b[1;32mreturn\u001b[0m \u001b[0mself\u001b[0m\u001b[1;33m.\u001b[0m\u001b[0mnext_v2\u001b[0m\u001b[1;33m(\u001b[0m\u001b[1;33m)\u001b[0m\u001b[1;33m\u001b[0m\u001b[1;33m\u001b[0m\u001b[0m\n\u001b[0m\u001b[0;32m   1194\u001b[0m \u001b[1;33m\u001b[0m\u001b[0m\n\u001b[0;32m   1195\u001b[0m     \u001b[1;32mdef\u001b[0m \u001b[0mnext_v2\u001b[0m\u001b[1;33m(\u001b[0m\u001b[0mself\u001b[0m\u001b[1;33m)\u001b[0m\u001b[1;33m:\u001b[0m\u001b[1;33m\u001b[0m\u001b[1;33m\u001b[0m\u001b[0m\n",
      "\u001b[1;32mc:\\users\\alija\\miniconda3\\lib\\site-packages\\kafka\\consumer\\group.py\u001b[0m in \u001b[0;36mnext_v2\u001b[1;34m(self)\u001b[0m\n\u001b[0;32m   1199\u001b[0m                 \u001b[0mself\u001b[0m\u001b[1;33m.\u001b[0m\u001b[0m_iterator\u001b[0m \u001b[1;33m=\u001b[0m \u001b[0mself\u001b[0m\u001b[1;33m.\u001b[0m\u001b[0m_message_generator_v2\u001b[0m\u001b[1;33m(\u001b[0m\u001b[1;33m)\u001b[0m\u001b[1;33m\u001b[0m\u001b[1;33m\u001b[0m\u001b[0m\n\u001b[0;32m   1200\u001b[0m             \u001b[1;32mtry\u001b[0m\u001b[1;33m:\u001b[0m\u001b[1;33m\u001b[0m\u001b[1;33m\u001b[0m\u001b[0m\n\u001b[1;32m-> 1201\u001b[1;33m                 \u001b[1;32mreturn\u001b[0m \u001b[0mnext\u001b[0m\u001b[1;33m(\u001b[0m\u001b[0mself\u001b[0m\u001b[1;33m.\u001b[0m\u001b[0m_iterator\u001b[0m\u001b[1;33m)\u001b[0m\u001b[1;33m\u001b[0m\u001b[1;33m\u001b[0m\u001b[0m\n\u001b[0m\u001b[0;32m   1202\u001b[0m             \u001b[1;32mexcept\u001b[0m \u001b[0mStopIteration\u001b[0m\u001b[1;33m:\u001b[0m\u001b[1;33m\u001b[0m\u001b[1;33m\u001b[0m\u001b[0m\n\u001b[0;32m   1203\u001b[0m                 \u001b[0mself\u001b[0m\u001b[1;33m.\u001b[0m\u001b[0m_iterator\u001b[0m \u001b[1;33m=\u001b[0m \u001b[1;32mNone\u001b[0m\u001b[1;33m\u001b[0m\u001b[1;33m\u001b[0m\u001b[0m\n",
      "\u001b[1;32mc:\\users\\alija\\miniconda3\\lib\\site-packages\\kafka\\consumer\\group.py\u001b[0m in \u001b[0;36m_message_generator_v2\u001b[1;34m(self)\u001b[0m\n\u001b[0;32m   1114\u001b[0m     \u001b[1;32mdef\u001b[0m \u001b[0m_message_generator_v2\u001b[0m\u001b[1;33m(\u001b[0m\u001b[0mself\u001b[0m\u001b[1;33m)\u001b[0m\u001b[1;33m:\u001b[0m\u001b[1;33m\u001b[0m\u001b[1;33m\u001b[0m\u001b[0m\n\u001b[0;32m   1115\u001b[0m         \u001b[0mtimeout_ms\u001b[0m \u001b[1;33m=\u001b[0m \u001b[1;36m1000\u001b[0m \u001b[1;33m*\u001b[0m \u001b[1;33m(\u001b[0m\u001b[0mself\u001b[0m\u001b[1;33m.\u001b[0m\u001b[0m_consumer_timeout\u001b[0m \u001b[1;33m-\u001b[0m \u001b[0mtime\u001b[0m\u001b[1;33m.\u001b[0m\u001b[0mtime\u001b[0m\u001b[1;33m(\u001b[0m\u001b[1;33m)\u001b[0m\u001b[1;33m)\u001b[0m\u001b[1;33m\u001b[0m\u001b[1;33m\u001b[0m\u001b[0m\n\u001b[1;32m-> 1116\u001b[1;33m         \u001b[0mrecord_map\u001b[0m \u001b[1;33m=\u001b[0m \u001b[0mself\u001b[0m\u001b[1;33m.\u001b[0m\u001b[0mpoll\u001b[0m\u001b[1;33m(\u001b[0m\u001b[0mtimeout_ms\u001b[0m\u001b[1;33m=\u001b[0m\u001b[0mtimeout_ms\u001b[0m\u001b[1;33m,\u001b[0m \u001b[0mupdate_offsets\u001b[0m\u001b[1;33m=\u001b[0m\u001b[1;32mFalse\u001b[0m\u001b[1;33m)\u001b[0m\u001b[1;33m\u001b[0m\u001b[1;33m\u001b[0m\u001b[0m\n\u001b[0m\u001b[0;32m   1117\u001b[0m         \u001b[1;32mfor\u001b[0m \u001b[0mtp\u001b[0m\u001b[1;33m,\u001b[0m \u001b[0mrecords\u001b[0m \u001b[1;32min\u001b[0m \u001b[0msix\u001b[0m\u001b[1;33m.\u001b[0m\u001b[0miteritems\u001b[0m\u001b[1;33m(\u001b[0m\u001b[0mrecord_map\u001b[0m\u001b[1;33m)\u001b[0m\u001b[1;33m:\u001b[0m\u001b[1;33m\u001b[0m\u001b[1;33m\u001b[0m\u001b[0m\n\u001b[0;32m   1118\u001b[0m             \u001b[1;31m# Generators are stateful, and it is possible that the tp / records\u001b[0m\u001b[1;33m\u001b[0m\u001b[1;33m\u001b[0m\u001b[1;33m\u001b[0m\u001b[0m\n",
      "\u001b[1;32mc:\\users\\alija\\miniconda3\\lib\\site-packages\\kafka\\consumer\\group.py\u001b[0m in \u001b[0;36mpoll\u001b[1;34m(self, timeout_ms, max_records, update_offsets)\u001b[0m\n\u001b[0;32m    653\u001b[0m         \u001b[0mremaining\u001b[0m \u001b[1;33m=\u001b[0m \u001b[0mtimeout_ms\u001b[0m\u001b[1;33m\u001b[0m\u001b[1;33m\u001b[0m\u001b[0m\n\u001b[0;32m    654\u001b[0m         \u001b[1;32mwhile\u001b[0m \u001b[1;32mTrue\u001b[0m\u001b[1;33m:\u001b[0m\u001b[1;33m\u001b[0m\u001b[1;33m\u001b[0m\u001b[0m\n\u001b[1;32m--> 655\u001b[1;33m             \u001b[0mrecords\u001b[0m \u001b[1;33m=\u001b[0m \u001b[0mself\u001b[0m\u001b[1;33m.\u001b[0m\u001b[0m_poll_once\u001b[0m\u001b[1;33m(\u001b[0m\u001b[0mremaining\u001b[0m\u001b[1;33m,\u001b[0m \u001b[0mmax_records\u001b[0m\u001b[1;33m,\u001b[0m \u001b[0mupdate_offsets\u001b[0m\u001b[1;33m=\u001b[0m\u001b[0mupdate_offsets\u001b[0m\u001b[1;33m)\u001b[0m\u001b[1;33m\u001b[0m\u001b[1;33m\u001b[0m\u001b[0m\n\u001b[0m\u001b[0;32m    656\u001b[0m             \u001b[1;32mif\u001b[0m \u001b[0mrecords\u001b[0m\u001b[1;33m:\u001b[0m\u001b[1;33m\u001b[0m\u001b[1;33m\u001b[0m\u001b[0m\n\u001b[0;32m    657\u001b[0m                 \u001b[1;32mreturn\u001b[0m \u001b[0mrecords\u001b[0m\u001b[1;33m\u001b[0m\u001b[1;33m\u001b[0m\u001b[0m\n",
      "\u001b[1;32mc:\\users\\alija\\miniconda3\\lib\\site-packages\\kafka\\consumer\\group.py\u001b[0m in \u001b[0;36m_poll_once\u001b[1;34m(self, timeout_ms, max_records, update_offsets)\u001b[0m\n\u001b[0;32m    700\u001b[0m \u001b[1;33m\u001b[0m\u001b[0m\n\u001b[0;32m    701\u001b[0m         \u001b[0mtimeout_ms\u001b[0m \u001b[1;33m=\u001b[0m \u001b[0mmin\u001b[0m\u001b[1;33m(\u001b[0m\u001b[0mtimeout_ms\u001b[0m\u001b[1;33m,\u001b[0m \u001b[0mself\u001b[0m\u001b[1;33m.\u001b[0m\u001b[0m_coordinator\u001b[0m\u001b[1;33m.\u001b[0m\u001b[0mtime_to_next_poll\u001b[0m\u001b[1;33m(\u001b[0m\u001b[1;33m)\u001b[0m \u001b[1;33m*\u001b[0m \u001b[1;36m1000\u001b[0m\u001b[1;33m)\u001b[0m\u001b[1;33m\u001b[0m\u001b[1;33m\u001b[0m\u001b[0m\n\u001b[1;32m--> 702\u001b[1;33m         \u001b[0mself\u001b[0m\u001b[1;33m.\u001b[0m\u001b[0m_client\u001b[0m\u001b[1;33m.\u001b[0m\u001b[0mpoll\u001b[0m\u001b[1;33m(\u001b[0m\u001b[0mtimeout_ms\u001b[0m\u001b[1;33m=\u001b[0m\u001b[0mtimeout_ms\u001b[0m\u001b[1;33m)\u001b[0m\u001b[1;33m\u001b[0m\u001b[1;33m\u001b[0m\u001b[0m\n\u001b[0m\u001b[0;32m    703\u001b[0m         \u001b[1;31m# after the long poll, we should check whether the group needs to rebalance\u001b[0m\u001b[1;33m\u001b[0m\u001b[1;33m\u001b[0m\u001b[1;33m\u001b[0m\u001b[0m\n\u001b[0;32m    704\u001b[0m         \u001b[1;31m# prior to returning data so that the group can stabilize faster\u001b[0m\u001b[1;33m\u001b[0m\u001b[1;33m\u001b[0m\u001b[1;33m\u001b[0m\u001b[0m\n",
      "\u001b[1;32mc:\\users\\alija\\miniconda3\\lib\\site-packages\\kafka\\client_async.py\u001b[0m in \u001b[0;36mpoll\u001b[1;34m(self, timeout_ms, future)\u001b[0m\n\u001b[0;32m    600\u001b[0m                     \u001b[0mtimeout\u001b[0m \u001b[1;33m=\u001b[0m \u001b[0mmax\u001b[0m\u001b[1;33m(\u001b[0m\u001b[1;36m0\u001b[0m\u001b[1;33m,\u001b[0m \u001b[0mtimeout\u001b[0m\u001b[1;33m)\u001b[0m  \u001b[1;31m# avoid negative timeouts\u001b[0m\u001b[1;33m\u001b[0m\u001b[1;33m\u001b[0m\u001b[0m\n\u001b[0;32m    601\u001b[0m \u001b[1;33m\u001b[0m\u001b[0m\n\u001b[1;32m--> 602\u001b[1;33m                 \u001b[0mself\u001b[0m\u001b[1;33m.\u001b[0m\u001b[0m_poll\u001b[0m\u001b[1;33m(\u001b[0m\u001b[0mtimeout\u001b[0m \u001b[1;33m/\u001b[0m \u001b[1;36m1000\u001b[0m\u001b[1;33m)\u001b[0m\u001b[1;33m\u001b[0m\u001b[1;33m\u001b[0m\u001b[0m\n\u001b[0m\u001b[0;32m    603\u001b[0m \u001b[1;33m\u001b[0m\u001b[0m\n\u001b[0;32m    604\u001b[0m             \u001b[1;31m# called without the lock to avoid deadlock potential\u001b[0m\u001b[1;33m\u001b[0m\u001b[1;33m\u001b[0m\u001b[1;33m\u001b[0m\u001b[0m\n",
      "\u001b[1;32mc:\\users\\alija\\miniconda3\\lib\\site-packages\\kafka\\client_async.py\u001b[0m in \u001b[0;36m_poll\u001b[1;34m(self, timeout)\u001b[0m\n\u001b[0;32m    632\u001b[0m \u001b[1;33m\u001b[0m\u001b[0m\n\u001b[0;32m    633\u001b[0m         \u001b[0mstart_select\u001b[0m \u001b[1;33m=\u001b[0m \u001b[0mtime\u001b[0m\u001b[1;33m.\u001b[0m\u001b[0mtime\u001b[0m\u001b[1;33m(\u001b[0m\u001b[1;33m)\u001b[0m\u001b[1;33m\u001b[0m\u001b[1;33m\u001b[0m\u001b[0m\n\u001b[1;32m--> 634\u001b[1;33m         \u001b[0mready\u001b[0m \u001b[1;33m=\u001b[0m \u001b[0mself\u001b[0m\u001b[1;33m.\u001b[0m\u001b[0m_selector\u001b[0m\u001b[1;33m.\u001b[0m\u001b[0mselect\u001b[0m\u001b[1;33m(\u001b[0m\u001b[0mtimeout\u001b[0m\u001b[1;33m)\u001b[0m\u001b[1;33m\u001b[0m\u001b[1;33m\u001b[0m\u001b[0m\n\u001b[0m\u001b[0;32m    635\u001b[0m         \u001b[0mend_select\u001b[0m \u001b[1;33m=\u001b[0m \u001b[0mtime\u001b[0m\u001b[1;33m.\u001b[0m\u001b[0mtime\u001b[0m\u001b[1;33m(\u001b[0m\u001b[1;33m)\u001b[0m\u001b[1;33m\u001b[0m\u001b[1;33m\u001b[0m\u001b[0m\n\u001b[0;32m    636\u001b[0m         \u001b[1;32mif\u001b[0m \u001b[0mself\u001b[0m\u001b[1;33m.\u001b[0m\u001b[0m_sensors\u001b[0m\u001b[1;33m:\u001b[0m\u001b[1;33m\u001b[0m\u001b[1;33m\u001b[0m\u001b[0m\n",
      "\u001b[1;32mc:\\users\\alija\\miniconda3\\lib\\selectors.py\u001b[0m in \u001b[0;36mselect\u001b[1;34m(self, timeout)\u001b[0m\n\u001b[0;32m    321\u001b[0m         \u001b[0mready\u001b[0m \u001b[1;33m=\u001b[0m \u001b[1;33m[\u001b[0m\u001b[1;33m]\u001b[0m\u001b[1;33m\u001b[0m\u001b[1;33m\u001b[0m\u001b[0m\n\u001b[0;32m    322\u001b[0m         \u001b[1;32mtry\u001b[0m\u001b[1;33m:\u001b[0m\u001b[1;33m\u001b[0m\u001b[1;33m\u001b[0m\u001b[0m\n\u001b[1;32m--> 323\u001b[1;33m             \u001b[0mr\u001b[0m\u001b[1;33m,\u001b[0m \u001b[0mw\u001b[0m\u001b[1;33m,\u001b[0m \u001b[0m_\u001b[0m \u001b[1;33m=\u001b[0m \u001b[0mself\u001b[0m\u001b[1;33m.\u001b[0m\u001b[0m_select\u001b[0m\u001b[1;33m(\u001b[0m\u001b[0mself\u001b[0m\u001b[1;33m.\u001b[0m\u001b[0m_readers\u001b[0m\u001b[1;33m,\u001b[0m \u001b[0mself\u001b[0m\u001b[1;33m.\u001b[0m\u001b[0m_writers\u001b[0m\u001b[1;33m,\u001b[0m \u001b[1;33m[\u001b[0m\u001b[1;33m]\u001b[0m\u001b[1;33m,\u001b[0m \u001b[0mtimeout\u001b[0m\u001b[1;33m)\u001b[0m\u001b[1;33m\u001b[0m\u001b[1;33m\u001b[0m\u001b[0m\n\u001b[0m\u001b[0;32m    324\u001b[0m         \u001b[1;32mexcept\u001b[0m \u001b[0mInterruptedError\u001b[0m\u001b[1;33m:\u001b[0m\u001b[1;33m\u001b[0m\u001b[1;33m\u001b[0m\u001b[0m\n\u001b[0;32m    325\u001b[0m             \u001b[1;32mreturn\u001b[0m \u001b[0mready\u001b[0m\u001b[1;33m\u001b[0m\u001b[1;33m\u001b[0m\u001b[0m\n",
      "\u001b[1;32mc:\\users\\alija\\miniconda3\\lib\\selectors.py\u001b[0m in \u001b[0;36m_select\u001b[1;34m(self, r, w, _, timeout)\u001b[0m\n\u001b[0;32m    312\u001b[0m     \u001b[1;32mif\u001b[0m \u001b[0msys\u001b[0m\u001b[1;33m.\u001b[0m\u001b[0mplatform\u001b[0m \u001b[1;33m==\u001b[0m \u001b[1;34m'win32'\u001b[0m\u001b[1;33m:\u001b[0m\u001b[1;33m\u001b[0m\u001b[1;33m\u001b[0m\u001b[0m\n\u001b[0;32m    313\u001b[0m         \u001b[1;32mdef\u001b[0m \u001b[0m_select\u001b[0m\u001b[1;33m(\u001b[0m\u001b[0mself\u001b[0m\u001b[1;33m,\u001b[0m \u001b[0mr\u001b[0m\u001b[1;33m,\u001b[0m \u001b[0mw\u001b[0m\u001b[1;33m,\u001b[0m \u001b[0m_\u001b[0m\u001b[1;33m,\u001b[0m \u001b[0mtimeout\u001b[0m\u001b[1;33m=\u001b[0m\u001b[1;32mNone\u001b[0m\u001b[1;33m)\u001b[0m\u001b[1;33m:\u001b[0m\u001b[1;33m\u001b[0m\u001b[1;33m\u001b[0m\u001b[0m\n\u001b[1;32m--> 314\u001b[1;33m             \u001b[0mr\u001b[0m\u001b[1;33m,\u001b[0m \u001b[0mw\u001b[0m\u001b[1;33m,\u001b[0m \u001b[0mx\u001b[0m \u001b[1;33m=\u001b[0m \u001b[0mselect\u001b[0m\u001b[1;33m.\u001b[0m\u001b[0mselect\u001b[0m\u001b[1;33m(\u001b[0m\u001b[0mr\u001b[0m\u001b[1;33m,\u001b[0m \u001b[0mw\u001b[0m\u001b[1;33m,\u001b[0m \u001b[0mw\u001b[0m\u001b[1;33m,\u001b[0m \u001b[0mtimeout\u001b[0m\u001b[1;33m)\u001b[0m\u001b[1;33m\u001b[0m\u001b[1;33m\u001b[0m\u001b[0m\n\u001b[0m\u001b[0;32m    315\u001b[0m             \u001b[1;32mreturn\u001b[0m \u001b[0mr\u001b[0m\u001b[1;33m,\u001b[0m \u001b[0mw\u001b[0m \u001b[1;33m+\u001b[0m \u001b[0mx\u001b[0m\u001b[1;33m,\u001b[0m \u001b[1;33m[\u001b[0m\u001b[1;33m]\u001b[0m\u001b[1;33m\u001b[0m\u001b[1;33m\u001b[0m\u001b[0m\n\u001b[0;32m    316\u001b[0m     \u001b[1;32melse\u001b[0m\u001b[1;33m:\u001b[0m\u001b[1;33m\u001b[0m\u001b[1;33m\u001b[0m\u001b[0m\n",
      "\u001b[1;31mKeyboardInterrupt\u001b[0m: "
     ]
    }
   ],
   "source": [
    "for message in consumer:\n",
    "    message = message.value\n",
    "    print(message)"
   ]
  },
  {
   "cell_type": "code",
   "execution_count": 150,
   "id": "d3a5a3cf",
   "metadata": {},
   "outputs": [],
   "source": [
    "producer = KafkaProducer(bootstrap_servers=['192.168.1.3:9092'],key_serializer=str.encode,api_version=(0,10),\n",
    "                         value_serializer=lambda x:dumps(x).encode('utf-8'))"
   ]
  },
  {
   "cell_type": "code",
   "execution_count": 70,
   "id": "889e559f",
   "metadata": {
    "collapsed": true
   },
   "outputs": [
    {
     "name": "stderr",
     "output_type": "stream",
     "text": [
      "c:\\users\\alija\\miniconda3\\lib\\site-packages\\elasticsearch\\connection\\base.py:200: ElasticsearchWarning: [types removal] Specifying types in document index requests is deprecated, use the typeless endpoints instead (/{index}/_doc/{id}, /{index}/_doc, or /{index}/_create/{id}).\n",
      "  warnings.warn(message, category=ElasticsearchWarning)\n"
     ]
    },
    {
     "ename": "KeyboardInterrupt",
     "evalue": "",
     "output_type": "error",
     "traceback": [
      "\u001b[1;31m---------------------------------------------------------------------------\u001b[0m",
      "\u001b[1;31mKeyboardInterrupt\u001b[0m                         Traceback (most recent call last)",
      "\u001b[1;32m<ipython-input-70-af1411939628>\u001b[0m in \u001b[0;36m<module>\u001b[1;34m\u001b[0m\n\u001b[0;32m      1\u001b[0m \u001b[1;32mimport\u001b[0m \u001b[0mdatetime\u001b[0m\u001b[1;33m\u001b[0m\u001b[1;33m\u001b[0m\u001b[0m\n\u001b[0;32m      2\u001b[0m \u001b[1;33m\u001b[0m\u001b[0m\n\u001b[1;32m----> 3\u001b[1;33m \u001b[1;32mfor\u001b[0m \u001b[0mmessage\u001b[0m \u001b[1;32min\u001b[0m \u001b[0mconsumer\u001b[0m\u001b[1;33m:\u001b[0m\u001b[1;33m\u001b[0m\u001b[1;33m\u001b[0m\u001b[0m\n\u001b[0m\u001b[0;32m      4\u001b[0m     \u001b[0mmessage\u001b[0m \u001b[1;33m=\u001b[0m \u001b[0mmessage\u001b[0m\u001b[1;33m.\u001b[0m\u001b[0mvalue\u001b[0m\u001b[1;33m\u001b[0m\u001b[1;33m\u001b[0m\u001b[0m\n\u001b[0;32m      5\u001b[0m     \u001b[1;32mif\u001b[0m \u001b[1;34m'content'\u001b[0m \u001b[1;32mnot\u001b[0m \u001b[1;32min\u001b[0m \u001b[0mmessage\u001b[0m\u001b[1;33m:\u001b[0m\u001b[1;33m\u001b[0m\u001b[1;33m\u001b[0m\u001b[0m\n",
      "\u001b[1;32mc:\\users\\alija\\miniconda3\\lib\\site-packages\\kafka\\consumer\\group.py\u001b[0m in \u001b[0;36m__next__\u001b[1;34m(self)\u001b[0m\n\u001b[0;32m   1191\u001b[0m             \u001b[1;32mreturn\u001b[0m \u001b[0mself\u001b[0m\u001b[1;33m.\u001b[0m\u001b[0mnext_v1\u001b[0m\u001b[1;33m(\u001b[0m\u001b[1;33m)\u001b[0m\u001b[1;33m\u001b[0m\u001b[1;33m\u001b[0m\u001b[0m\n\u001b[0;32m   1192\u001b[0m         \u001b[1;32melse\u001b[0m\u001b[1;33m:\u001b[0m\u001b[1;33m\u001b[0m\u001b[1;33m\u001b[0m\u001b[0m\n\u001b[1;32m-> 1193\u001b[1;33m             \u001b[1;32mreturn\u001b[0m \u001b[0mself\u001b[0m\u001b[1;33m.\u001b[0m\u001b[0mnext_v2\u001b[0m\u001b[1;33m(\u001b[0m\u001b[1;33m)\u001b[0m\u001b[1;33m\u001b[0m\u001b[1;33m\u001b[0m\u001b[0m\n\u001b[0m\u001b[0;32m   1194\u001b[0m \u001b[1;33m\u001b[0m\u001b[0m\n\u001b[0;32m   1195\u001b[0m     \u001b[1;32mdef\u001b[0m \u001b[0mnext_v2\u001b[0m\u001b[1;33m(\u001b[0m\u001b[0mself\u001b[0m\u001b[1;33m)\u001b[0m\u001b[1;33m:\u001b[0m\u001b[1;33m\u001b[0m\u001b[1;33m\u001b[0m\u001b[0m\n",
      "\u001b[1;32mc:\\users\\alija\\miniconda3\\lib\\site-packages\\kafka\\consumer\\group.py\u001b[0m in \u001b[0;36mnext_v2\u001b[1;34m(self)\u001b[0m\n\u001b[0;32m   1199\u001b[0m                 \u001b[0mself\u001b[0m\u001b[1;33m.\u001b[0m\u001b[0m_iterator\u001b[0m \u001b[1;33m=\u001b[0m \u001b[0mself\u001b[0m\u001b[1;33m.\u001b[0m\u001b[0m_message_generator_v2\u001b[0m\u001b[1;33m(\u001b[0m\u001b[1;33m)\u001b[0m\u001b[1;33m\u001b[0m\u001b[1;33m\u001b[0m\u001b[0m\n\u001b[0;32m   1200\u001b[0m             \u001b[1;32mtry\u001b[0m\u001b[1;33m:\u001b[0m\u001b[1;33m\u001b[0m\u001b[1;33m\u001b[0m\u001b[0m\n\u001b[1;32m-> 1201\u001b[1;33m                 \u001b[1;32mreturn\u001b[0m \u001b[0mnext\u001b[0m\u001b[1;33m(\u001b[0m\u001b[0mself\u001b[0m\u001b[1;33m.\u001b[0m\u001b[0m_iterator\u001b[0m\u001b[1;33m)\u001b[0m\u001b[1;33m\u001b[0m\u001b[1;33m\u001b[0m\u001b[0m\n\u001b[0m\u001b[0;32m   1202\u001b[0m             \u001b[1;32mexcept\u001b[0m \u001b[0mStopIteration\u001b[0m\u001b[1;33m:\u001b[0m\u001b[1;33m\u001b[0m\u001b[1;33m\u001b[0m\u001b[0m\n\u001b[0;32m   1203\u001b[0m                 \u001b[0mself\u001b[0m\u001b[1;33m.\u001b[0m\u001b[0m_iterator\u001b[0m \u001b[1;33m=\u001b[0m \u001b[1;32mNone\u001b[0m\u001b[1;33m\u001b[0m\u001b[1;33m\u001b[0m\u001b[0m\n",
      "\u001b[1;32mc:\\users\\alija\\miniconda3\\lib\\site-packages\\kafka\\consumer\\group.py\u001b[0m in \u001b[0;36m_message_generator_v2\u001b[1;34m(self)\u001b[0m\n\u001b[0;32m   1114\u001b[0m     \u001b[1;32mdef\u001b[0m \u001b[0m_message_generator_v2\u001b[0m\u001b[1;33m(\u001b[0m\u001b[0mself\u001b[0m\u001b[1;33m)\u001b[0m\u001b[1;33m:\u001b[0m\u001b[1;33m\u001b[0m\u001b[1;33m\u001b[0m\u001b[0m\n\u001b[0;32m   1115\u001b[0m         \u001b[0mtimeout_ms\u001b[0m \u001b[1;33m=\u001b[0m \u001b[1;36m1000\u001b[0m \u001b[1;33m*\u001b[0m \u001b[1;33m(\u001b[0m\u001b[0mself\u001b[0m\u001b[1;33m.\u001b[0m\u001b[0m_consumer_timeout\u001b[0m \u001b[1;33m-\u001b[0m \u001b[0mtime\u001b[0m\u001b[1;33m.\u001b[0m\u001b[0mtime\u001b[0m\u001b[1;33m(\u001b[0m\u001b[1;33m)\u001b[0m\u001b[1;33m)\u001b[0m\u001b[1;33m\u001b[0m\u001b[1;33m\u001b[0m\u001b[0m\n\u001b[1;32m-> 1116\u001b[1;33m         \u001b[0mrecord_map\u001b[0m \u001b[1;33m=\u001b[0m \u001b[0mself\u001b[0m\u001b[1;33m.\u001b[0m\u001b[0mpoll\u001b[0m\u001b[1;33m(\u001b[0m\u001b[0mtimeout_ms\u001b[0m\u001b[1;33m=\u001b[0m\u001b[0mtimeout_ms\u001b[0m\u001b[1;33m,\u001b[0m \u001b[0mupdate_offsets\u001b[0m\u001b[1;33m=\u001b[0m\u001b[1;32mFalse\u001b[0m\u001b[1;33m)\u001b[0m\u001b[1;33m\u001b[0m\u001b[1;33m\u001b[0m\u001b[0m\n\u001b[0m\u001b[0;32m   1117\u001b[0m         \u001b[1;32mfor\u001b[0m \u001b[0mtp\u001b[0m\u001b[1;33m,\u001b[0m \u001b[0mrecords\u001b[0m \u001b[1;32min\u001b[0m \u001b[0msix\u001b[0m\u001b[1;33m.\u001b[0m\u001b[0miteritems\u001b[0m\u001b[1;33m(\u001b[0m\u001b[0mrecord_map\u001b[0m\u001b[1;33m)\u001b[0m\u001b[1;33m:\u001b[0m\u001b[1;33m\u001b[0m\u001b[1;33m\u001b[0m\u001b[0m\n\u001b[0;32m   1118\u001b[0m             \u001b[1;31m# Generators are stateful, and it is possible that the tp / records\u001b[0m\u001b[1;33m\u001b[0m\u001b[1;33m\u001b[0m\u001b[1;33m\u001b[0m\u001b[0m\n",
      "\u001b[1;32mc:\\users\\alija\\miniconda3\\lib\\site-packages\\kafka\\consumer\\group.py\u001b[0m in \u001b[0;36mpoll\u001b[1;34m(self, timeout_ms, max_records, update_offsets)\u001b[0m\n\u001b[0;32m    653\u001b[0m         \u001b[0mremaining\u001b[0m \u001b[1;33m=\u001b[0m \u001b[0mtimeout_ms\u001b[0m\u001b[1;33m\u001b[0m\u001b[1;33m\u001b[0m\u001b[0m\n\u001b[0;32m    654\u001b[0m         \u001b[1;32mwhile\u001b[0m \u001b[1;32mTrue\u001b[0m\u001b[1;33m:\u001b[0m\u001b[1;33m\u001b[0m\u001b[1;33m\u001b[0m\u001b[0m\n\u001b[1;32m--> 655\u001b[1;33m             \u001b[0mrecords\u001b[0m \u001b[1;33m=\u001b[0m \u001b[0mself\u001b[0m\u001b[1;33m.\u001b[0m\u001b[0m_poll_once\u001b[0m\u001b[1;33m(\u001b[0m\u001b[0mremaining\u001b[0m\u001b[1;33m,\u001b[0m \u001b[0mmax_records\u001b[0m\u001b[1;33m,\u001b[0m \u001b[0mupdate_offsets\u001b[0m\u001b[1;33m=\u001b[0m\u001b[0mupdate_offsets\u001b[0m\u001b[1;33m)\u001b[0m\u001b[1;33m\u001b[0m\u001b[1;33m\u001b[0m\u001b[0m\n\u001b[0m\u001b[0;32m    656\u001b[0m             \u001b[1;32mif\u001b[0m \u001b[0mrecords\u001b[0m\u001b[1;33m:\u001b[0m\u001b[1;33m\u001b[0m\u001b[1;33m\u001b[0m\u001b[0m\n\u001b[0;32m    657\u001b[0m                 \u001b[1;32mreturn\u001b[0m \u001b[0mrecords\u001b[0m\u001b[1;33m\u001b[0m\u001b[1;33m\u001b[0m\u001b[0m\n",
      "\u001b[1;32mc:\\users\\alija\\miniconda3\\lib\\site-packages\\kafka\\consumer\\group.py\u001b[0m in \u001b[0;36m_poll_once\u001b[1;34m(self, timeout_ms, max_records, update_offsets)\u001b[0m\n\u001b[0;32m    700\u001b[0m \u001b[1;33m\u001b[0m\u001b[0m\n\u001b[0;32m    701\u001b[0m         \u001b[0mtimeout_ms\u001b[0m \u001b[1;33m=\u001b[0m \u001b[0mmin\u001b[0m\u001b[1;33m(\u001b[0m\u001b[0mtimeout_ms\u001b[0m\u001b[1;33m,\u001b[0m \u001b[0mself\u001b[0m\u001b[1;33m.\u001b[0m\u001b[0m_coordinator\u001b[0m\u001b[1;33m.\u001b[0m\u001b[0mtime_to_next_poll\u001b[0m\u001b[1;33m(\u001b[0m\u001b[1;33m)\u001b[0m \u001b[1;33m*\u001b[0m \u001b[1;36m1000\u001b[0m\u001b[1;33m)\u001b[0m\u001b[1;33m\u001b[0m\u001b[1;33m\u001b[0m\u001b[0m\n\u001b[1;32m--> 702\u001b[1;33m         \u001b[0mself\u001b[0m\u001b[1;33m.\u001b[0m\u001b[0m_client\u001b[0m\u001b[1;33m.\u001b[0m\u001b[0mpoll\u001b[0m\u001b[1;33m(\u001b[0m\u001b[0mtimeout_ms\u001b[0m\u001b[1;33m=\u001b[0m\u001b[0mtimeout_ms\u001b[0m\u001b[1;33m)\u001b[0m\u001b[1;33m\u001b[0m\u001b[1;33m\u001b[0m\u001b[0m\n\u001b[0m\u001b[0;32m    703\u001b[0m         \u001b[1;31m# after the long poll, we should check whether the group needs to rebalance\u001b[0m\u001b[1;33m\u001b[0m\u001b[1;33m\u001b[0m\u001b[1;33m\u001b[0m\u001b[0m\n\u001b[0;32m    704\u001b[0m         \u001b[1;31m# prior to returning data so that the group can stabilize faster\u001b[0m\u001b[1;33m\u001b[0m\u001b[1;33m\u001b[0m\u001b[1;33m\u001b[0m\u001b[0m\n",
      "\u001b[1;32mc:\\users\\alija\\miniconda3\\lib\\site-packages\\kafka\\client_async.py\u001b[0m in \u001b[0;36mpoll\u001b[1;34m(self, timeout_ms, future)\u001b[0m\n\u001b[0;32m    600\u001b[0m                     \u001b[0mtimeout\u001b[0m \u001b[1;33m=\u001b[0m \u001b[0mmax\u001b[0m\u001b[1;33m(\u001b[0m\u001b[1;36m0\u001b[0m\u001b[1;33m,\u001b[0m \u001b[0mtimeout\u001b[0m\u001b[1;33m)\u001b[0m  \u001b[1;31m# avoid negative timeouts\u001b[0m\u001b[1;33m\u001b[0m\u001b[1;33m\u001b[0m\u001b[0m\n\u001b[0;32m    601\u001b[0m \u001b[1;33m\u001b[0m\u001b[0m\n\u001b[1;32m--> 602\u001b[1;33m                 \u001b[0mself\u001b[0m\u001b[1;33m.\u001b[0m\u001b[0m_poll\u001b[0m\u001b[1;33m(\u001b[0m\u001b[0mtimeout\u001b[0m \u001b[1;33m/\u001b[0m \u001b[1;36m1000\u001b[0m\u001b[1;33m)\u001b[0m\u001b[1;33m\u001b[0m\u001b[1;33m\u001b[0m\u001b[0m\n\u001b[0m\u001b[0;32m    603\u001b[0m \u001b[1;33m\u001b[0m\u001b[0m\n\u001b[0;32m    604\u001b[0m             \u001b[1;31m# called without the lock to avoid deadlock potential\u001b[0m\u001b[1;33m\u001b[0m\u001b[1;33m\u001b[0m\u001b[1;33m\u001b[0m\u001b[0m\n",
      "\u001b[1;32mc:\\users\\alija\\miniconda3\\lib\\site-packages\\kafka\\client_async.py\u001b[0m in \u001b[0;36m_poll\u001b[1;34m(self, timeout)\u001b[0m\n\u001b[0;32m    632\u001b[0m \u001b[1;33m\u001b[0m\u001b[0m\n\u001b[0;32m    633\u001b[0m         \u001b[0mstart_select\u001b[0m \u001b[1;33m=\u001b[0m \u001b[0mtime\u001b[0m\u001b[1;33m.\u001b[0m\u001b[0mtime\u001b[0m\u001b[1;33m(\u001b[0m\u001b[1;33m)\u001b[0m\u001b[1;33m\u001b[0m\u001b[1;33m\u001b[0m\u001b[0m\n\u001b[1;32m--> 634\u001b[1;33m         \u001b[0mready\u001b[0m \u001b[1;33m=\u001b[0m \u001b[0mself\u001b[0m\u001b[1;33m.\u001b[0m\u001b[0m_selector\u001b[0m\u001b[1;33m.\u001b[0m\u001b[0mselect\u001b[0m\u001b[1;33m(\u001b[0m\u001b[0mtimeout\u001b[0m\u001b[1;33m)\u001b[0m\u001b[1;33m\u001b[0m\u001b[1;33m\u001b[0m\u001b[0m\n\u001b[0m\u001b[0;32m    635\u001b[0m         \u001b[0mend_select\u001b[0m \u001b[1;33m=\u001b[0m \u001b[0mtime\u001b[0m\u001b[1;33m.\u001b[0m\u001b[0mtime\u001b[0m\u001b[1;33m(\u001b[0m\u001b[1;33m)\u001b[0m\u001b[1;33m\u001b[0m\u001b[1;33m\u001b[0m\u001b[0m\n\u001b[0;32m    636\u001b[0m         \u001b[1;32mif\u001b[0m \u001b[0mself\u001b[0m\u001b[1;33m.\u001b[0m\u001b[0m_sensors\u001b[0m\u001b[1;33m:\u001b[0m\u001b[1;33m\u001b[0m\u001b[1;33m\u001b[0m\u001b[0m\n",
      "\u001b[1;32mc:\\users\\alija\\miniconda3\\lib\\selectors.py\u001b[0m in \u001b[0;36mselect\u001b[1;34m(self, timeout)\u001b[0m\n\u001b[0;32m    321\u001b[0m         \u001b[0mready\u001b[0m \u001b[1;33m=\u001b[0m \u001b[1;33m[\u001b[0m\u001b[1;33m]\u001b[0m\u001b[1;33m\u001b[0m\u001b[1;33m\u001b[0m\u001b[0m\n\u001b[0;32m    322\u001b[0m         \u001b[1;32mtry\u001b[0m\u001b[1;33m:\u001b[0m\u001b[1;33m\u001b[0m\u001b[1;33m\u001b[0m\u001b[0m\n\u001b[1;32m--> 323\u001b[1;33m             \u001b[0mr\u001b[0m\u001b[1;33m,\u001b[0m \u001b[0mw\u001b[0m\u001b[1;33m,\u001b[0m \u001b[0m_\u001b[0m \u001b[1;33m=\u001b[0m \u001b[0mself\u001b[0m\u001b[1;33m.\u001b[0m\u001b[0m_select\u001b[0m\u001b[1;33m(\u001b[0m\u001b[0mself\u001b[0m\u001b[1;33m.\u001b[0m\u001b[0m_readers\u001b[0m\u001b[1;33m,\u001b[0m \u001b[0mself\u001b[0m\u001b[1;33m.\u001b[0m\u001b[0m_writers\u001b[0m\u001b[1;33m,\u001b[0m \u001b[1;33m[\u001b[0m\u001b[1;33m]\u001b[0m\u001b[1;33m,\u001b[0m \u001b[0mtimeout\u001b[0m\u001b[1;33m)\u001b[0m\u001b[1;33m\u001b[0m\u001b[1;33m\u001b[0m\u001b[0m\n\u001b[0m\u001b[0;32m    324\u001b[0m         \u001b[1;32mexcept\u001b[0m \u001b[0mInterruptedError\u001b[0m\u001b[1;33m:\u001b[0m\u001b[1;33m\u001b[0m\u001b[1;33m\u001b[0m\u001b[0m\n\u001b[0;32m    325\u001b[0m             \u001b[1;32mreturn\u001b[0m \u001b[0mready\u001b[0m\u001b[1;33m\u001b[0m\u001b[1;33m\u001b[0m\u001b[0m\n",
      "\u001b[1;32mc:\\users\\alija\\miniconda3\\lib\\selectors.py\u001b[0m in \u001b[0;36m_select\u001b[1;34m(self, r, w, _, timeout)\u001b[0m\n\u001b[0;32m    312\u001b[0m     \u001b[1;32mif\u001b[0m \u001b[0msys\u001b[0m\u001b[1;33m.\u001b[0m\u001b[0mplatform\u001b[0m \u001b[1;33m==\u001b[0m \u001b[1;34m'win32'\u001b[0m\u001b[1;33m:\u001b[0m\u001b[1;33m\u001b[0m\u001b[1;33m\u001b[0m\u001b[0m\n\u001b[0;32m    313\u001b[0m         \u001b[1;32mdef\u001b[0m \u001b[0m_select\u001b[0m\u001b[1;33m(\u001b[0m\u001b[0mself\u001b[0m\u001b[1;33m,\u001b[0m \u001b[0mr\u001b[0m\u001b[1;33m,\u001b[0m \u001b[0mw\u001b[0m\u001b[1;33m,\u001b[0m \u001b[0m_\u001b[0m\u001b[1;33m,\u001b[0m \u001b[0mtimeout\u001b[0m\u001b[1;33m=\u001b[0m\u001b[1;32mNone\u001b[0m\u001b[1;33m)\u001b[0m\u001b[1;33m:\u001b[0m\u001b[1;33m\u001b[0m\u001b[1;33m\u001b[0m\u001b[0m\n\u001b[1;32m--> 314\u001b[1;33m             \u001b[0mr\u001b[0m\u001b[1;33m,\u001b[0m \u001b[0mw\u001b[0m\u001b[1;33m,\u001b[0m \u001b[0mx\u001b[0m \u001b[1;33m=\u001b[0m \u001b[0mselect\u001b[0m\u001b[1;33m.\u001b[0m\u001b[0mselect\u001b[0m\u001b[1;33m(\u001b[0m\u001b[0mr\u001b[0m\u001b[1;33m,\u001b[0m \u001b[0mw\u001b[0m\u001b[1;33m,\u001b[0m \u001b[0mw\u001b[0m\u001b[1;33m,\u001b[0m \u001b[0mtimeout\u001b[0m\u001b[1;33m)\u001b[0m\u001b[1;33m\u001b[0m\u001b[1;33m\u001b[0m\u001b[0m\n\u001b[0m\u001b[0;32m    315\u001b[0m             \u001b[1;32mreturn\u001b[0m \u001b[0mr\u001b[0m\u001b[1;33m,\u001b[0m \u001b[0mw\u001b[0m \u001b[1;33m+\u001b[0m \u001b[0mx\u001b[0m\u001b[1;33m,\u001b[0m \u001b[1;33m[\u001b[0m\u001b[1;33m]\u001b[0m\u001b[1;33m\u001b[0m\u001b[1;33m\u001b[0m\u001b[0m\n\u001b[0;32m    316\u001b[0m     \u001b[1;32melse\u001b[0m\u001b[1;33m:\u001b[0m\u001b[1;33m\u001b[0m\u001b[1;33m\u001b[0m\u001b[0m\n",
      "\u001b[1;31mKeyboardInterrupt\u001b[0m: "
     ]
    }
   ],
   "source": [
    "import datetime\n",
    "\n",
    "for message in consumer:\n",
    "    message = message.value\n",
    "    if 'content' not in message:\n",
    "        continue\n",
    "    \n",
    "    #Inserting data to Elastic Search:\n",
    "    try:\n",
    "        elasticSearch.index(index='twitter_bors',doc_type='twitt',body = message, id =message['id'])\n",
    "    except:\n",
    "        print(\"An exception occurred\")\n",
    "    \n",
    "    \n",
    "    #At the same time, inserting data to data frame to be injected to Cassandra tables:\n",
    "    id=int(message['id'])\n",
    "    content=message['content']\n",
    "    date = datetime.datetime.strptime(message['sendTimePersian'], \"%Y/%m/%d  %H:%M\")\n",
    "    year=date.year\n",
    "    month=date.month\n",
    "    day=date.day\n",
    "    hour=date.hour\n",
    "    minute=date.minute\n",
    "    \n",
    "    for h in message['hashtags']:\n",
    "        new_row={'hashtag':h,'id':id,'year':year,'month':month,'day':day,'hour':hour,'minute':minute,}\n",
    "        df=df.append(new_row, ignore_index=True)\n",
    "        \n",
    "    producer.send('statistics', key=message['id'],value=message)\n"
   ]
  },
  {
   "cell_type": "code",
   "execution_count": 71,
   "id": "db874c45",
   "metadata": {
    "collapsed": true
   },
   "outputs": [
    {
     "data": {
      "text/html": [
       "<div>\n",
       "<style scoped>\n",
       "    .dataframe tbody tr th:only-of-type {\n",
       "        vertical-align: middle;\n",
       "    }\n",
       "\n",
       "    .dataframe tbody tr th {\n",
       "        vertical-align: top;\n",
       "    }\n",
       "\n",
       "    .dataframe thead th {\n",
       "        text-align: right;\n",
       "    }\n",
       "</style>\n",
       "<table border=\"1\" class=\"dataframe\">\n",
       "  <thead>\n",
       "    <tr style=\"text-align: right;\">\n",
       "      <th></th>\n",
       "      <th>hashtag</th>\n",
       "      <th>id</th>\n",
       "      <th>year</th>\n",
       "      <th>month</th>\n",
       "      <th>day</th>\n",
       "      <th>hour</th>\n",
       "      <th>minute</th>\n",
       "    </tr>\n",
       "  </thead>\n",
       "  <tbody>\n",
       "    <tr>\n",
       "      <th>0</th>\n",
       "      <td>شلرد</td>\n",
       "      <td>321482732</td>\n",
       "      <td>1400</td>\n",
       "      <td>4</td>\n",
       "      <td>19</td>\n",
       "      <td>16</td>\n",
       "      <td>5</td>\n",
       "    </tr>\n",
       "    <tr>\n",
       "      <th>1</th>\n",
       "      <td>فاهواز</td>\n",
       "      <td>321482718</td>\n",
       "      <td>1400</td>\n",
       "      <td>4</td>\n",
       "      <td>19</td>\n",
       "      <td>16</td>\n",
       "      <td>5</td>\n",
       "    </tr>\n",
       "    <tr>\n",
       "      <th>2</th>\n",
       "      <td>شکف</td>\n",
       "      <td>321482707</td>\n",
       "      <td>1400</td>\n",
       "      <td>4</td>\n",
       "      <td>19</td>\n",
       "      <td>16</td>\n",
       "      <td>5</td>\n",
       "    </tr>\n",
       "    <tr>\n",
       "      <th>3</th>\n",
       "      <td>سیدکو</td>\n",
       "      <td>321482677</td>\n",
       "      <td>1400</td>\n",
       "      <td>4</td>\n",
       "      <td>19</td>\n",
       "      <td>16</td>\n",
       "      <td>4</td>\n",
       "    </tr>\n",
       "    <tr>\n",
       "      <th>4</th>\n",
       "      <td>آینده</td>\n",
       "      <td>321482618</td>\n",
       "      <td>1400</td>\n",
       "      <td>4</td>\n",
       "      <td>19</td>\n",
       "      <td>16</td>\n",
       "      <td>4</td>\n",
       "    </tr>\n",
       "    <tr>\n",
       "      <th>5</th>\n",
       "      <td>حریل</td>\n",
       "      <td>321482596</td>\n",
       "      <td>1400</td>\n",
       "      <td>4</td>\n",
       "      <td>19</td>\n",
       "      <td>16</td>\n",
       "      <td>4</td>\n",
       "    </tr>\n",
       "    <tr>\n",
       "      <th>6</th>\n",
       "      <td>بزاگرس</td>\n",
       "      <td>321482581</td>\n",
       "      <td>1400</td>\n",
       "      <td>4</td>\n",
       "      <td>19</td>\n",
       "      <td>16</td>\n",
       "      <td>4</td>\n",
       "    </tr>\n",
       "    <tr>\n",
       "      <th>7</th>\n",
       "      <td>شلرد</td>\n",
       "      <td>321283095</td>\n",
       "      <td>1400</td>\n",
       "      <td>4</td>\n",
       "      <td>19</td>\n",
       "      <td>6</td>\n",
       "      <td>49</td>\n",
       "    </tr>\n",
       "    <tr>\n",
       "      <th>8</th>\n",
       "      <td>برکت</td>\n",
       "      <td>321482556</td>\n",
       "      <td>1400</td>\n",
       "      <td>4</td>\n",
       "      <td>19</td>\n",
       "      <td>16</td>\n",
       "      <td>4</td>\n",
       "    </tr>\n",
       "    <tr>\n",
       "      <th>9</th>\n",
       "      <td>فنوال</td>\n",
       "      <td>321482552</td>\n",
       "      <td>1400</td>\n",
       "      <td>4</td>\n",
       "      <td>19</td>\n",
       "      <td>16</td>\n",
       "      <td>4</td>\n",
       "    </tr>\n",
       "    <tr>\n",
       "      <th>10</th>\n",
       "      <td>شلرد</td>\n",
       "      <td>321482732</td>\n",
       "      <td>1400</td>\n",
       "      <td>4</td>\n",
       "      <td>19</td>\n",
       "      <td>16</td>\n",
       "      <td>5</td>\n",
       "    </tr>\n",
       "    <tr>\n",
       "      <th>11</th>\n",
       "      <td>فاهواز</td>\n",
       "      <td>321482718</td>\n",
       "      <td>1400</td>\n",
       "      <td>4</td>\n",
       "      <td>19</td>\n",
       "      <td>16</td>\n",
       "      <td>5</td>\n",
       "    </tr>\n",
       "    <tr>\n",
       "      <th>12</th>\n",
       "      <td>شکف</td>\n",
       "      <td>321482707</td>\n",
       "      <td>1400</td>\n",
       "      <td>4</td>\n",
       "      <td>19</td>\n",
       "      <td>16</td>\n",
       "      <td>5</td>\n",
       "    </tr>\n",
       "    <tr>\n",
       "      <th>13</th>\n",
       "      <td>سیدکو</td>\n",
       "      <td>321482677</td>\n",
       "      <td>1400</td>\n",
       "      <td>4</td>\n",
       "      <td>19</td>\n",
       "      <td>16</td>\n",
       "      <td>4</td>\n",
       "    </tr>\n",
       "    <tr>\n",
       "      <th>14</th>\n",
       "      <td>آینده</td>\n",
       "      <td>321482618</td>\n",
       "      <td>1400</td>\n",
       "      <td>4</td>\n",
       "      <td>19</td>\n",
       "      <td>16</td>\n",
       "      <td>4</td>\n",
       "    </tr>\n",
       "    <tr>\n",
       "      <th>15</th>\n",
       "      <td>حریل</td>\n",
       "      <td>321482596</td>\n",
       "      <td>1400</td>\n",
       "      <td>4</td>\n",
       "      <td>19</td>\n",
       "      <td>16</td>\n",
       "      <td>4</td>\n",
       "    </tr>\n",
       "    <tr>\n",
       "      <th>16</th>\n",
       "      <td>بزاگرس</td>\n",
       "      <td>321482581</td>\n",
       "      <td>1400</td>\n",
       "      <td>4</td>\n",
       "      <td>19</td>\n",
       "      <td>16</td>\n",
       "      <td>4</td>\n",
       "    </tr>\n",
       "    <tr>\n",
       "      <th>17</th>\n",
       "      <td>شلرد</td>\n",
       "      <td>321283095</td>\n",
       "      <td>1400</td>\n",
       "      <td>4</td>\n",
       "      <td>19</td>\n",
       "      <td>6</td>\n",
       "      <td>49</td>\n",
       "    </tr>\n",
       "    <tr>\n",
       "      <th>18</th>\n",
       "      <td>برکت</td>\n",
       "      <td>321482556</td>\n",
       "      <td>1400</td>\n",
       "      <td>4</td>\n",
       "      <td>19</td>\n",
       "      <td>16</td>\n",
       "      <td>4</td>\n",
       "    </tr>\n",
       "    <tr>\n",
       "      <th>19</th>\n",
       "      <td>فنوال</td>\n",
       "      <td>321482552</td>\n",
       "      <td>1400</td>\n",
       "      <td>4</td>\n",
       "      <td>19</td>\n",
       "      <td>16</td>\n",
       "      <td>4</td>\n",
       "    </tr>\n",
       "    <tr>\n",
       "      <th>20</th>\n",
       "      <td>وپسا</td>\n",
       "      <td>321482807</td>\n",
       "      <td>1400</td>\n",
       "      <td>4</td>\n",
       "      <td>19</td>\n",
       "      <td>16</td>\n",
       "      <td>5</td>\n",
       "    </tr>\n",
       "    <tr>\n",
       "      <th>21</th>\n",
       "      <td>شلرد</td>\n",
       "      <td>321482732</td>\n",
       "      <td>1400</td>\n",
       "      <td>4</td>\n",
       "      <td>19</td>\n",
       "      <td>16</td>\n",
       "      <td>5</td>\n",
       "    </tr>\n",
       "    <tr>\n",
       "      <th>22</th>\n",
       "      <td>فاهواز</td>\n",
       "      <td>321482718</td>\n",
       "      <td>1400</td>\n",
       "      <td>4</td>\n",
       "      <td>19</td>\n",
       "      <td>16</td>\n",
       "      <td>5</td>\n",
       "    </tr>\n",
       "    <tr>\n",
       "      <th>23</th>\n",
       "      <td>شکف</td>\n",
       "      <td>321482707</td>\n",
       "      <td>1400</td>\n",
       "      <td>4</td>\n",
       "      <td>19</td>\n",
       "      <td>16</td>\n",
       "      <td>5</td>\n",
       "    </tr>\n",
       "    <tr>\n",
       "      <th>24</th>\n",
       "      <td>سیدکو</td>\n",
       "      <td>321482677</td>\n",
       "      <td>1400</td>\n",
       "      <td>4</td>\n",
       "      <td>19</td>\n",
       "      <td>16</td>\n",
       "      <td>4</td>\n",
       "    </tr>\n",
       "    <tr>\n",
       "      <th>25</th>\n",
       "      <td>آینده</td>\n",
       "      <td>321482618</td>\n",
       "      <td>1400</td>\n",
       "      <td>4</td>\n",
       "      <td>19</td>\n",
       "      <td>16</td>\n",
       "      <td>4</td>\n",
       "    </tr>\n",
       "    <tr>\n",
       "      <th>26</th>\n",
       "      <td>حریل</td>\n",
       "      <td>321482596</td>\n",
       "      <td>1400</td>\n",
       "      <td>4</td>\n",
       "      <td>19</td>\n",
       "      <td>16</td>\n",
       "      <td>4</td>\n",
       "    </tr>\n",
       "    <tr>\n",
       "      <th>27</th>\n",
       "      <td>بزاگرس</td>\n",
       "      <td>321482581</td>\n",
       "      <td>1400</td>\n",
       "      <td>4</td>\n",
       "      <td>19</td>\n",
       "      <td>16</td>\n",
       "      <td>4</td>\n",
       "    </tr>\n",
       "    <tr>\n",
       "      <th>28</th>\n",
       "      <td>شلرد</td>\n",
       "      <td>321283095</td>\n",
       "      <td>1400</td>\n",
       "      <td>4</td>\n",
       "      <td>19</td>\n",
       "      <td>6</td>\n",
       "      <td>49</td>\n",
       "    </tr>\n",
       "    <tr>\n",
       "      <th>29</th>\n",
       "      <td>برکت</td>\n",
       "      <td>321482556</td>\n",
       "      <td>1400</td>\n",
       "      <td>4</td>\n",
       "      <td>19</td>\n",
       "      <td>16</td>\n",
       "      <td>4</td>\n",
       "    </tr>\n",
       "  </tbody>\n",
       "</table>\n",
       "</div>"
      ],
      "text/plain": [
       "   hashtag         id  year month day hour minute\n",
       "0     شلرد  321482732  1400     4  19   16      5\n",
       "1   فاهواز  321482718  1400     4  19   16      5\n",
       "2      شکف  321482707  1400     4  19   16      5\n",
       "3    سیدکو  321482677  1400     4  19   16      4\n",
       "4    آینده  321482618  1400     4  19   16      4\n",
       "5     حریل  321482596  1400     4  19   16      4\n",
       "6   بزاگرس  321482581  1400     4  19   16      4\n",
       "7     شلرد  321283095  1400     4  19    6     49\n",
       "8     برکت  321482556  1400     4  19   16      4\n",
       "9    فنوال  321482552  1400     4  19   16      4\n",
       "10    شلرد  321482732  1400     4  19   16      5\n",
       "11  فاهواز  321482718  1400     4  19   16      5\n",
       "12     شکف  321482707  1400     4  19   16      5\n",
       "13   سیدکو  321482677  1400     4  19   16      4\n",
       "14   آینده  321482618  1400     4  19   16      4\n",
       "15    حریل  321482596  1400     4  19   16      4\n",
       "16  بزاگرس  321482581  1400     4  19   16      4\n",
       "17    شلرد  321283095  1400     4  19    6     49\n",
       "18    برکت  321482556  1400     4  19   16      4\n",
       "19   فنوال  321482552  1400     4  19   16      4\n",
       "20    وپسا  321482807  1400     4  19   16      5\n",
       "21    شلرد  321482732  1400     4  19   16      5\n",
       "22  فاهواز  321482718  1400     4  19   16      5\n",
       "23     شکف  321482707  1400     4  19   16      5\n",
       "24   سیدکو  321482677  1400     4  19   16      4\n",
       "25   آینده  321482618  1400     4  19   16      4\n",
       "26    حریل  321482596  1400     4  19   16      4\n",
       "27  بزاگرس  321482581  1400     4  19   16      4\n",
       "28    شلرد  321283095  1400     4  19    6     49\n",
       "29    برکت  321482556  1400     4  19   16      4"
      ]
     },
     "execution_count": 71,
     "metadata": {},
     "output_type": "execute_result"
    }
   ],
   "source": [
    "df"
   ]
  },
  {
   "cell_type": "code",
   "execution_count": 8,
   "id": "4fba2a7c",
   "metadata": {},
   "outputs": [
    {
     "data": {
      "text/html": [
       "<div>\n",
       "<style scoped>\n",
       "    .dataframe tbody tr th:only-of-type {\n",
       "        vertical-align: middle;\n",
       "    }\n",
       "\n",
       "    .dataframe tbody tr th {\n",
       "        vertical-align: top;\n",
       "    }\n",
       "\n",
       "    .dataframe thead th {\n",
       "        text-align: right;\n",
       "    }\n",
       "</style>\n",
       "<table border=\"1\" class=\"dataframe\">\n",
       "  <thead>\n",
       "    <tr style=\"text-align: right;\">\n",
       "      <th></th>\n",
       "      <th>hashtag</th>\n",
       "      <th>id</th>\n",
       "      <th>year</th>\n",
       "      <th>month</th>\n",
       "      <th>day</th>\n",
       "      <th>hour</th>\n",
       "      <th>minute</th>\n",
       "    </tr>\n",
       "  </thead>\n",
       "  <tbody>\n",
       "    <tr>\n",
       "      <th>402</th>\n",
       "      <td>شپلی</td>\n",
       "      <td>320210026</td>\n",
       "      <td>1400</td>\n",
       "      <td>4</td>\n",
       "      <td>17</td>\n",
       "      <td>0</td>\n",
       "      <td>3</td>\n",
       "    </tr>\n",
       "  </tbody>\n",
       "</table>\n",
       "</div>"
      ],
      "text/plain": [
       "    hashtag         id  year month day hour minute\n",
       "402    شپلی  320210026  1400     4  17    0      3"
      ]
     },
     "execution_count": 8,
     "metadata": {},
     "output_type": "execute_result"
    }
   ],
   "source": [
    "df[df.iloc[:,0]=='شپلی']"
   ]
  },
  {
   "cell_type": "markdown",
   "id": "76fd1f88",
   "metadata": {},
   "source": [
    "# Elastic Search Sample Queries"
   ]
  },
  {
   "cell_type": "code",
   "execution_count": 37,
   "id": "cffddcaf",
   "metadata": {},
   "outputs": [
    {
     "name": "stdout",
     "output_type": "stream",
     "text": [
      "{'id': '320813014', 'sendTime': '2021-07-09T14:24:15Z', 'sendTimePersian': '1400/04/18 18:54', 'senderName': 'داود زنجانی', 'senderUsername': 'al33541575masi', 'senderProfileImage': '7e0981af-5444-4e56-bba6-d75dcbd8725d', 'content': '#کاما :دوستان سهامدار کاما اگر یکی از دو خبر افزایش سرمایه 84درصدی مرحله اول یا بورسی شدن سهام کانی کربن طبس مورد تایید سازمان بورس قرار گیرد در کوتاه مدت حداقل قیمت کاما کمتر از 2000تومان نخواهد بود.مراقب سهام ارزشمند خود باشید واگر خرید یا اضافه نمی کنید بهیچ عنوان فروشنده نباشید.', 'type': 'twit', 'scoredPostDate': '1625840725903', 'finalPullDatePersian': '', 'hashtags': ['کاما'], 'links': [], 'keywords': ['سازمان', 'دوستان', 'درصدی', 'خرید', 'خبر', 'تومان', 'تایید', 'بورسی', 'افزایش', 'اضافه', 'ارزشمند', ':', '۸۴', 'بورس']}\n"
     ]
    }
   ],
   "source": [
    "res = elasticSearch.get(index=\"twitter_bors\", id='320813014')\n",
    "print(res['_source'])"
   ]
  },
  {
   "cell_type": "code",
   "execution_count": 51,
   "id": "25739664",
   "metadata": {},
   "outputs": [
    {
     "name": "stdout",
     "output_type": "stream",
     "text": [
      "Got 2 Hits:\n",
      "{'id': '320813026', 'sendTime': '2021-07-09T14:24:33Z', 'sendTimePersian': '1400/04/18 18:54', 'senderName': 'تهران بورس', 'senderUsername': 'nabatali', 'senderProfileImage': 'fb8f1f9d-a66d-480b-88b2-e0c150a236ea', 'content': '#شپلی دوستان عزیز شرمنده یک سوالی دارم ممنون میشم جوابم رو بدید..روزانه چقدر میشه از حساب به حساب کارگزاری انتقال داد!؟؟۵۰میلیون؟؟؟چجوری میشه پول بیشتری در یک روز انتقال داد؟', 'type': 'twit', 'scoredPostDate': '1625840659777', 'finalPullDatePersian': '', 'hashtags': ['شپلی'], 'links': [], 'keywords': ['روزانه', 'سوالی', 'شپلی', 'روز', 'دوستان', 'جوابم', '؟؟؟', '؟', '۵۰']}\n",
      "{'id': '320812966', 'sendTime': '2021-07-09T14:22:17Z', 'sendTimePersian': '1400/04/18 18:52', 'senderName': 'مهدی ایمنی', 'senderUsername': 'mahdiimeni', 'senderProfileImage': '3194ea7e-4fef-4f8a-bdc7-46131537f17b', 'content': '#وخارزم \\n- از آخرین باری که تحلیل کردم در کمتر از یک ماه 50 درصد رشد کرده!', 'type': 'twit', 'imageUid': 'fbf2fb34-6810-435d-acab-99769e93929b', 'mediaContentType': 'image/jpeg', 'scoredPostDate': '1625841321326', 'hasChart': 'true', 'finalPullDatePersian': '', 'hashtags': ['وخارزم'], 'links': [], 'keywords': ['درصد', 'ماه', 'کمتر', '۵۰']}\n"
     ]
    }
   ],
   "source": [
    "res = elasticSearch.search(index=\"twitter_bors\", body={\"query\": {\"ids\": { 'values': [320813026,320812966]}}})\n",
    "print(\"Got %d Hits:\" % res['hits']['total']['value'])\n",
    "for hit in res['hits']['hits']:\n",
    "    print(hit['_source'])"
   ]
  },
  {
   "cell_type": "markdown",
   "id": "b34dbafc",
   "metadata": {},
   "source": [
    "# تمام پست های مربوط به یک هشتگ"
   ]
  },
  {
   "cell_type": "code",
   "execution_count": 56,
   "id": "85527532",
   "metadata": {},
   "outputs": [
    {
     "data": {
      "text/plain": [
       "<cassandra.cluster.ResultSet at 0x1a0b9628748>"
      ]
     },
     "execution_count": 56,
     "metadata": {},
     "output_type": "execute_result"
    }
   ],
   "source": [
    "query=\"CREATE TABLE IF NOT EXISTS mydb.hashtag(\\\n",
    "hashtag text,\\\n",
    "id int,\\\n",
    "PRIMARY KEY (hashtag, id)\\\n",
    ");\"\n",
    "\n",
    "session.execute(query)"
   ]
  },
  {
   "cell_type": "code",
   "execution_count": 57,
   "id": "9db1fbed",
   "metadata": {},
   "outputs": [
    {
     "data": {
      "text/plain": [
       "<cassandra.cluster.ResultSet at 0x1a0b961fdc8>"
      ]
     },
     "execution_count": 57,
     "metadata": {},
     "output_type": "execute_result"
    }
   ],
   "source": [
    "session.execute(\"TRUNCATE mydb.hashtag;\")"
   ]
  },
  {
   "cell_type": "code",
   "execution_count": 58,
   "id": "f2351fbc",
   "metadata": {},
   "outputs": [
    {
     "data": {
      "text/plain": [
       "<cassandra.cluster.ResultSet at 0x1a0b9604f88>"
      ]
     },
     "execution_count": 58,
     "metadata": {},
     "output_type": "execute_result"
    }
   ],
   "source": [
    "import pandas as pd\n",
    "import numpy as np\n",
    "from cassandra.query import BatchStatement\n",
    "from cassandra import ConsistencyLevel\n",
    "\n",
    "ps = session.prepare(\"INSERT INTO mydb.hashtag (hashtag,id) VALUES (?, ?)\")\n",
    "batch = BatchStatement(consistency_level=ConsistencyLevel.QUORUM)\n",
    "\n",
    "for i in range(np.int32(np.floor(df.shape[0]/100))):\n",
    "    batch = BatchStatement(consistency_level=ConsistencyLevel.QUORUM)\n",
    "    for j in range(100):\n",
    "        batch.add(ps,(df.iloc[i*100+j,0], df.iloc[i*100+j,1]))\n",
    "    session.execute(batch)\n",
    "\n",
    "batch = BatchStatement(consistency_level=ConsistencyLevel.QUORUM)\n",
    "for i in range(np.int32(np.floor(df.shape[0]/100))*100,df.shape[0]):\n",
    "    batch.add(ps,(df.iloc[i,0], df.iloc[i,1]))\n",
    "    \n",
    "session.execute(batch)"
   ]
  },
  {
   "cell_type": "code",
   "execution_count": 61,
   "id": "e97217a7",
   "metadata": {
    "scrolled": true
   },
   "outputs": [
    {
     "name": "stdout",
     "output_type": "stream",
     "text": [
      "Row(hashtag='شپلی', id=320813026)\n",
      "Row(hashtag='غصینو', id=320812949)\n",
      "Row(hashtag='زقیام', id=320812911)\n",
      "Row(hashtag='کیمیا', id=320812885)\n",
      "Row(hashtag='شاخص_بورس', id=318770833)\n",
      "Row(hashtag='کاما', id=320813014)\n",
      "Row(hashtag='وخارزم', id=320812946)\n",
      "Row(hashtag='وخارزم', id=320812966)\n",
      "Row(hashtag='فملی', id=315327806)\n"
     ]
    }
   ],
   "source": [
    "result=session.execute(\"select * from mydb.hashtag \") #where hashtag='شپلی'\n",
    "for row in result:\n",
    "    print(row)"
   ]
  },
  {
   "cell_type": "code",
   "execution_count": 62,
   "id": "34116a25",
   "metadata": {},
   "outputs": [
    {
     "name": "stdout",
     "output_type": "stream",
     "text": [
      "315327806\n"
     ]
    }
   ],
   "source": [
    "result=session.execute(\"select * from mydb.hashtag where hashtag='فملی'\") #\n",
    "ids_list=[]\n",
    "for row in result:\n",
    "    ids_list.append(row.id)\n",
    "    print(row.id)"
   ]
  },
  {
   "cell_type": "code",
   "execution_count": 64,
   "id": "68fbe76a",
   "metadata": {},
   "outputs": [
    {
     "name": "stdout",
     "output_type": "stream",
     "text": [
      "Got 1 Hits:\n",
      "{'id': '315327806', 'sendTime': '2021-06-30T15:21:14Z', 'sendTimePersian': '1400/04/09 19:51', 'retwitSendTime': '2021-07-09T14:23:31Z', 'retwitSendTimePersian': '1400/04/18 18:53', 'retwitSenderName': 'ramsess', 'retwitSenderUsername': 'ramsess', 'retwitSenderProfileImage': 'default', 'senderName': 'ramsess', 'senderUsername': 'ramsess', 'senderProfileImage': 'default', 'content': '#فملی : *طولانی شدن فرآیند مذاکرات وین به افزایش قیمت دلار منجر شد* \\n\\n *کاهش خوشبینی دلار به احیای برجام* \\n\\n۰۸/۰۴/۱۴۰۰\\nکسب و کار نیوز- \\n *قیمت دلار در معاملات به 25 هزار و 76 تومان افزایش یافت. ورود دلار به کانال 25 هزار تومان نشان می دهد که انتظارات از مذاکرات وین تغییر کرده و به دلیل طولانی شدن فرآیند مذاکرات احتمال نتیجه بخش نبودن آن نیز مطرح است.* \\nنویسنده : *شایلی قرائی* \\n *به گزارش کسب و کار نیوز ، یک کارشناس اقتصادی در این رابطه می گوید: در شرایط فعلی موضوعی که بیشتر از هر چیزی بر قیمت ارز تاثیر دارد برآوردها از نتیجه مذاکرات وین و احیای برجام است. در حال حاضر نحوه پیشبرد مذاکرات گونه ای نیست که فعالان اقتصادی پیش بینی کرده بودند.*\\n *در همین رابطه سید کمال سید علی، معاون اسبق ارزی بانک مرکزی در خصوص دلایل افزایش نرخ دلار گفت: قیمت دلار از سه جنبه تحت فشار قرار دارد. وی در توضیح این مطلب ادامه داد: از یک سو بازار به نام\\u200cهای مطرح شده برای حضور در کابینه واکنش نشان می\\u200cدهد چرا که در این مقاطع زمانی در حقیقت بازار شایعات به شدت داغ می\\u200cشود و در نتیجه گزینه\\u200cهای مطرح شده، واکنش منفی بازار را در پی دارند اما از نام\\u200cها که بگذریم به سیاست\\u200cها می\\u200cرسیم. در حقیقت سیاست\\u200cهای دولت سیزدهم در قبال مساله ارز اصلا روشن نیست و ما در یک نوع خلا اطلاعاتی به سر می\\u200cبریم .\\n او ادامه داد: اگر روشن شود که سیاست دولت سیزدهم در قبال مساله ارز و تامین ارزی صنایع چیست و موضع وزارت صنعت، معدن و تجارت دولت سیزدهم در قبال مسائل اقتصاد روشن شود، بازار پیش\\u200cبینی دقیق\\u200cتری نسبت به قیمت خواهد داشت.وی ادامه داد مورد سومی که سبب شده است روند قیمت\\u200cها در بازار ارز افزایشی باشد نیز به مساله مذاکرات وین برمی\\u200cگردد .* \\n *او تاکید کرد: پیش\\u200cبینی\\u200cها دلالت بر آن داشت که این مذاکرات بسیار زودتر از این\\u200cها به نتیجه می\\u200cرسد اما در عمل چنین اتفاقی رخ نداده و حتی حساسیت افکار عمومی نیز به روند این مذاکرات کاهش یافته که این علامت، علامت چندان مثبتی نیست .او پیش\\u200cبینی کرد: درصورت مشخص شدن نام\\u200cها و سیاست\\u200cها در دولت سیزدهم، وضعیت کمی روشن\\u200cتر خواهد شد اما تا زمانی که مسائل داخلی و خارجی روشن نشود، نمی\\u200eتوان انتظار داشت که تغییر چندانی را تجربه نماید.* / کسب و کار نیوز', 'lastLikeNickName': 'پوریا', 'likeCount': '1', 'retwitCount': '1', 'type': 'retwit', 'scoredPostDate': '1625067181398', 'retwitId': '320813005', 'finalPullDatePersian': '', 'hashtags': ['فملی'], 'links': [], 'keywords': ['تجارت', 'تاکید', 'تامین', 'تاثیر', 'بینی', 'برجام*', 'برجام', 'برآوردها', 'بانک', 'این\\u200cها', 'انتظارات', 'انتظار', 'افکار', 'افزایشی', 'اطلاعاتی', 'اصلا', 'اسبق', 'احتمال', 'اتفاقی', '/', '*کاهش', '*طولانی', '*شایلی', '*در', '*به', '*او', 'توضیح', 'جنبه', 'حاضر', 'حساسیت', 'صنعت', 'صنایع', 'شرایط', 'شدت', 'شایعات', 'سی\\u200cهای', 'سومی', 'سو', 'سر', 'زودتر', 'روشن\\u200cتر', 'رخ', 'دلیل', 'دلایل', 'دلالت', 'دقیق\\u200cتری', 'درصورت', 'داغ', 'داخلی', 'خوشبینی', 'خواهد_.', 'خلا', 'خارجی', 'حضور', '۷۶', 'اقتصاد', 'دولت', 'دلار']}\n"
     ]
    }
   ],
   "source": [
    "res = elasticSearch.search(index=\"twitter_bors\", body={\"query\": {\"ids\": { 'values': ids_list}}})\n",
    "print(\"Got %d Hits:\" % res['hits']['total']['value'])\n",
    "for hit in res['hits']['hits']:\n",
    "    print(hit['_source'])"
   ]
  },
  {
   "cell_type": "markdown",
   "id": "749b4835",
   "metadata": {},
   "source": [
    "# تمام پست های مربوط به یک هشتگ در یک بازه زمانی خاص"
   ]
  },
  {
   "cell_type": "code",
   "execution_count": 67,
   "id": "1a680cf0",
   "metadata": {},
   "outputs": [
    {
     "data": {
      "text/plain": [
       "<cassandra.cluster.ResultSet at 0x1a0b95a8948>"
      ]
     },
     "execution_count": 67,
     "metadata": {},
     "output_type": "execute_result"
    }
   ],
   "source": [
    "query=\"CREATE TABLE IF NOT EXISTS mydb.hashtag_interval(\\\n",
    "hashtag text,\\\n",
    "day int,\\\n",
    "hour int,\\\n",
    "minute int,\\\n",
    "id int,\\\n",
    "PRIMARY KEY (hashtag, day, hour, minute, id)\\\n",
    ");\"\n",
    "\n",
    "session.execute(query)"
   ]
  },
  {
   "cell_type": "code",
   "execution_count": null,
   "id": "9f078db4",
   "metadata": {},
   "outputs": [],
   "source": [
    "session.execute(\"TRUNCATE mydb.hashtag_interval;\")"
   ]
  },
  {
   "cell_type": "code",
   "execution_count": 84,
   "id": "953409a6",
   "metadata": {},
   "outputs": [
    {
     "data": {
      "text/plain": [
       "<cassandra.cluster.ResultSet at 0x1a0b967af48>"
      ]
     },
     "execution_count": 84,
     "metadata": {},
     "output_type": "execute_result"
    }
   ],
   "source": [
    "import pandas as pd\n",
    "import numpy as np\n",
    "from cassandra.query import BatchStatement\n",
    "from cassandra import ConsistencyLevel\n",
    "\n",
    "ps = session.prepare(\"INSERT INTO mydb.hashtag_interval (hashtag, day, hour, minute, id) VALUES (?, ?, ?, ?, ?)\")\n",
    "batch = BatchStatement(consistency_level=ConsistencyLevel.QUORUM)\n",
    "\n",
    "for i in range(np.int32(np.floor(df.shape[0]/100))):\n",
    "    batch = BatchStatement(consistency_level=ConsistencyLevel.QUORUM)\n",
    "    for j in range(100):\n",
    "        batch.add(ps,(df.iloc[i*100+j,0], df.iloc[i*100+j,4], df.iloc[i*100+j,5], df.iloc[i*100+j,6], df.iloc[i*100+j,1]))\n",
    "    session.execute(batch)\n",
    "\n",
    "batch = BatchStatement(consistency_level=ConsistencyLevel.QUORUM)\n",
    "for i in range(np.int32(np.floor(df.shape[0]/100))*100,df.shape[0]):\n",
    "    batch.add(ps,(df.iloc[i,0], df.iloc[i,4], df.iloc[i,5], df.iloc[i,6], df.iloc[i,1]))\n",
    "    \n",
    "session.execute(batch)"
   ]
  },
  {
   "cell_type": "code",
   "execution_count": 85,
   "id": "c627941a",
   "metadata": {},
   "outputs": [
    {
     "name": "stdout",
     "output_type": "stream",
     "text": [
      "Row(hashtag='سیدکو', day=19, hour=16, minute=4, id=321482677)\n",
      "Row(hashtag='فنوال', day=19, hour=16, minute=4, id=321482552)\n",
      "Row(hashtag='بزاگرس', day=19, hour=16, minute=4, id=321482581)\n",
      "Row(hashtag='برکت', day=19, hour=16, minute=4, id=321482556)\n",
      "Row(hashtag='شکف', day=19, hour=16, minute=5, id=321482707)\n",
      "Row(hashtag='وپسا', day=19, hour=16, minute=5, id=321482807)\n",
      "Row(hashtag='فاهواز', day=19, hour=16, minute=5, id=321482718)\n",
      "Row(hashtag='شلرد', day=19, hour=6, minute=49, id=321283095)\n",
      "Row(hashtag='شلرد', day=19, hour=16, minute=5, id=321482732)\n",
      "Row(hashtag='آینده', day=19, hour=16, minute=4, id=321482618)\n",
      "Row(hashtag='حریل', day=19, hour=16, minute=4, id=321482596)\n"
     ]
    }
   ],
   "source": [
    "result=session.execute(\"select * from mydb.hashtag_interval \") #where hashtag='شپلی'\n",
    "for row in result:\n",
    "    print(row)"
   ]
  },
  {
   "cell_type": "code",
   "execution_count": 97,
   "id": "22c0041c",
   "metadata": {},
   "outputs": [
    {
     "name": "stdout",
     "output_type": "stream",
     "text": [
      "Row(hashtag='شلرد', day=19, hour=6, minute=49, id=321283095)\n",
      "Row(hashtag='شلرد', day=19, hour=16, minute=5, id=321482732)\n"
     ]
    }
   ],
   "source": [
    "result=session.execute(\"select * from mydb.hashtag_interval where hashtag='شلرد' and day=19 and hour>4 and hour <18\") #\n",
    "ids_list=[]\n",
    "for row in result:\n",
    "    ids_list.append(row.id)\n",
    "    print(row)"
   ]
  },
  {
   "cell_type": "code",
   "execution_count": 98,
   "id": "2c6249e4",
   "metadata": {},
   "outputs": [
    {
     "name": "stdout",
     "output_type": "stream",
     "text": [
      "Got 2 Hits:\n",
      "{'id': '321482732', 'sendTime': '2021-07-10T11:35:22Z', 'sendTimePersian': '1400/04/19 16:05', 'parentSendTime': '2021-07-10T11:33:36Z', 'parentSendTimePersian': '1400/04/19 16:03', 'parentId': '321482467', 'parentSenderName': 'بورسی', 'parentSenderUsername': 'vahidkhobpanah', 'parentSenderProfileImage': 'default', 'parentContent': 'بی سواد کجا پایینتر برو درست و حسابی گزارشو بخون تنی یک میلیون هم گرونتر', 'senderName': 'Unknown', 'senderUsername': 'unknown12345', 'senderProfileImage': 'default', 'content': '#شلرد یعنی تو باسوادتری🤣🤣🤣', 'type': 'quote', 'finalPullDatePersian': '', 'hashtags': ['شلرد'], 'links': [], 'keywords': ['']}\n",
      "{'id': '321283095', 'sendTime': '2021-07-10T02:19:30Z', 'sendTimePersian': '1400/04/19 06:49', 'retwitSendTime': '2021-07-10T11:34:13Z', 'retwitSendTimePersian': '1400/04/19 16:04', 'retwitSenderName': 'بورسی', 'retwitSenderUsername': 'vahidkhobpanah', 'retwitSenderProfileImage': 'default', 'senderName': 'بورسی', 'senderUsername': 'vahidkhobpanah', 'senderProfileImage': 'default', 'content': '#شلرد', 'lastLikeNickName': 'milad100', 'likeCount': '1', 'retwitCount': '1', 'type': 'retwit', 'imageUid': '758d0b32-8c0f-47a2-9a4e-e353af697712', 'mediaContentType': 'image/jpeg', 'scoredPostDate': '1625884221612', 'retwitId': '321482574', 'finalPullDatePersian': '', 'hashtags': ['شلرد'], 'links': [], 'keywords': ['شلرد']}\n"
     ]
    }
   ],
   "source": [
    "res = elasticSearch.search(index=\"twitter_bors\", body={\"query\": {\"ids\": { 'values': ids_list}}})\n",
    "print(\"Got %d Hits:\" % res['hits']['total']['value'])\n",
    "for hit in res['hits']['hits']:\n",
    "    print(hit['_source'])"
   ]
  },
  {
   "cell_type": "markdown",
   "id": "a3a74a19",
   "metadata": {},
   "source": [
    "# تمام پست ها در یک بازه زمانی خاص"
   ]
  },
  {
   "cell_type": "code",
   "execution_count": 136,
   "id": "0cd5281c",
   "metadata": {},
   "outputs": [
    {
     "data": {
      "text/plain": [
       "<cassandra.cluster.ResultSet at 0x1a0b9685708>"
      ]
     },
     "execution_count": 136,
     "metadata": {},
     "output_type": "execute_result"
    }
   ],
   "source": [
    "query=\"CREATE TABLE IF NOT EXISTS mydb.total_interval(\\\n",
    "year int,\\\n",
    "month int,\\\n",
    "day int,\\\n",
    "hour int,\\\n",
    "minute int,\\\n",
    "id int,\\\n",
    "PRIMARY KEY ((year, month), day, hour, minute, id)\\\n",
    ");\"\n",
    "\n",
    "session.execute(query)"
   ]
  },
  {
   "cell_type": "code",
   "execution_count": 135,
   "id": "f188e0d2",
   "metadata": {},
   "outputs": [
    {
     "data": {
      "text/plain": [
       "<cassandra.cluster.ResultSet at 0x1a0b961ff48>"
      ]
     },
     "execution_count": 135,
     "metadata": {},
     "output_type": "execute_result"
    }
   ],
   "source": [
    "# session.execute(\"TRUNCATE mydb.total_interval;\")\n",
    "session.execute(\"drop table mydb.total_interval;\")"
   ]
  },
  {
   "cell_type": "code",
   "execution_count": 104,
   "id": "b33957c5",
   "metadata": {},
   "outputs": [
    {
     "data": {
      "text/html": [
       "<div>\n",
       "<style scoped>\n",
       "    .dataframe tbody tr th:only-of-type {\n",
       "        vertical-align: middle;\n",
       "    }\n",
       "\n",
       "    .dataframe tbody tr th {\n",
       "        vertical-align: top;\n",
       "    }\n",
       "\n",
       "    .dataframe thead th {\n",
       "        text-align: right;\n",
       "    }\n",
       "</style>\n",
       "<table border=\"1\" class=\"dataframe\">\n",
       "  <thead>\n",
       "    <tr style=\"text-align: right;\">\n",
       "      <th></th>\n",
       "      <th>hashtag</th>\n",
       "      <th>id</th>\n",
       "      <th>year</th>\n",
       "      <th>month</th>\n",
       "      <th>day</th>\n",
       "      <th>hour</th>\n",
       "      <th>minute</th>\n",
       "    </tr>\n",
       "  </thead>\n",
       "  <tbody>\n",
       "    <tr>\n",
       "      <th>0</th>\n",
       "      <td>شلرد</td>\n",
       "      <td>321482732</td>\n",
       "      <td>1400</td>\n",
       "      <td>4</td>\n",
       "      <td>19</td>\n",
       "      <td>16</td>\n",
       "      <td>5</td>\n",
       "    </tr>\n",
       "    <tr>\n",
       "      <th>1</th>\n",
       "      <td>فاهواز</td>\n",
       "      <td>321482718</td>\n",
       "      <td>1400</td>\n",
       "      <td>4</td>\n",
       "      <td>19</td>\n",
       "      <td>16</td>\n",
       "      <td>5</td>\n",
       "    </tr>\n",
       "    <tr>\n",
       "      <th>2</th>\n",
       "      <td>شکف</td>\n",
       "      <td>321482707</td>\n",
       "      <td>1400</td>\n",
       "      <td>4</td>\n",
       "      <td>19</td>\n",
       "      <td>16</td>\n",
       "      <td>5</td>\n",
       "    </tr>\n",
       "    <tr>\n",
       "      <th>3</th>\n",
       "      <td>سیدکو</td>\n",
       "      <td>321482677</td>\n",
       "      <td>1400</td>\n",
       "      <td>4</td>\n",
       "      <td>19</td>\n",
       "      <td>16</td>\n",
       "      <td>4</td>\n",
       "    </tr>\n",
       "    <tr>\n",
       "      <th>4</th>\n",
       "      <td>آینده</td>\n",
       "      <td>321482618</td>\n",
       "      <td>1400</td>\n",
       "      <td>4</td>\n",
       "      <td>19</td>\n",
       "      <td>16</td>\n",
       "      <td>4</td>\n",
       "    </tr>\n",
       "  </tbody>\n",
       "</table>\n",
       "</div>"
      ],
      "text/plain": [
       "  hashtag         id  year month day hour minute\n",
       "0    شلرد  321482732  1400     4  19   16      5\n",
       "1  فاهواز  321482718  1400     4  19   16      5\n",
       "2     شکف  321482707  1400     4  19   16      5\n",
       "3   سیدکو  321482677  1400     4  19   16      4\n",
       "4   آینده  321482618  1400     4  19   16      4"
      ]
     },
     "execution_count": 104,
     "metadata": {},
     "output_type": "execute_result"
    }
   ],
   "source": [
    "df.head()"
   ]
  },
  {
   "cell_type": "code",
   "execution_count": 137,
   "id": "9d4bfd9b",
   "metadata": {},
   "outputs": [
    {
     "data": {
      "text/plain": [
       "<cassandra.cluster.ResultSet at 0x1a0b96c5448>"
      ]
     },
     "execution_count": 137,
     "metadata": {},
     "output_type": "execute_result"
    }
   ],
   "source": [
    "import pandas as pd\n",
    "import numpy as np\n",
    "from cassandra.query import BatchStatement\n",
    "from cassandra import ConsistencyLevel\n",
    "\n",
    "ps = session.prepare(\"INSERT INTO mydb.total_interval (year, month, day, hour, minute, id) VALUES (?, ?, ?, ?, ?, ?)\")\n",
    "batch = BatchStatement(consistency_level=ConsistencyLevel.QUORUM)\n",
    "\n",
    "for i in range(np.int32(np.floor(df.shape[0]/100))):\n",
    "    batch = BatchStatement(consistency_level=ConsistencyLevel.QUORUM)\n",
    "    for j in range(100):\n",
    "        batch.add(ps,(df.iloc[i*100+j,2], df.iloc[i*100+j,3], df.iloc[i*100+j,4], df.iloc[i*100+j,5], df.iloc[i*100+j,6], df.iloc[i*100+j,1]))\n",
    "    session.execute(batch)\n",
    "\n",
    "batch = BatchStatement(consistency_level=ConsistencyLevel.QUORUM)\n",
    "for i in range(np.int32(np.floor(df.shape[0]/100))*100,df.shape[0]):\n",
    "    batch.add(ps,(df.iloc[i,2], df.iloc[i,3], df.iloc[i,4], df.iloc[i,5], df.iloc[i,6], df.iloc[i,1]))\n",
    "    \n",
    "session.execute(batch)"
   ]
  },
  {
   "cell_type": "code",
   "execution_count": 138,
   "id": "17711829",
   "metadata": {},
   "outputs": [
    {
     "name": "stdout",
     "output_type": "stream",
     "text": [
      "Row(year=1400, month=4, day=19, hour=6, minute=49, id=321283095)\n",
      "Row(year=1400, month=4, day=19, hour=16, minute=4, id=321482552)\n",
      "Row(year=1400, month=4, day=19, hour=16, minute=4, id=321482556)\n",
      "Row(year=1400, month=4, day=19, hour=16, minute=4, id=321482581)\n",
      "Row(year=1400, month=4, day=19, hour=16, minute=4, id=321482596)\n",
      "Row(year=1400, month=4, day=19, hour=16, minute=4, id=321482618)\n",
      "Row(year=1400, month=4, day=19, hour=16, minute=4, id=321482677)\n",
      "Row(year=1400, month=4, day=19, hour=16, minute=5, id=321482707)\n",
      "Row(year=1400, month=4, day=19, hour=16, minute=5, id=321482718)\n",
      "Row(year=1400, month=4, day=19, hour=16, minute=5, id=321482732)\n",
      "Row(year=1400, month=4, day=19, hour=16, minute=5, id=321482807)\n"
     ]
    }
   ],
   "source": [
    "result=session.execute(\"select * from mydb.total_interval \") #where hashtag='شپلی'\n",
    "for row in result:\n",
    "    print(row)"
   ]
  },
  {
   "cell_type": "code",
   "execution_count": 142,
   "id": "b7273c91",
   "metadata": {},
   "outputs": [
    {
     "name": "stdout",
     "output_type": "stream",
     "text": [
      "Row(year=1400, month=4, day=19, hour=6, minute=49, id=321283095)\n",
      "Row(year=1400, month=4, day=19, hour=16, minute=4, id=321482552)\n",
      "Row(year=1400, month=4, day=19, hour=16, minute=4, id=321482556)\n",
      "Row(year=1400, month=4, day=19, hour=16, minute=4, id=321482581)\n",
      "Row(year=1400, month=4, day=19, hour=16, minute=4, id=321482596)\n",
      "Row(year=1400, month=4, day=19, hour=16, minute=4, id=321482618)\n",
      "Row(year=1400, month=4, day=19, hour=16, minute=4, id=321482677)\n",
      "Row(year=1400, month=4, day=19, hour=16, minute=5, id=321482707)\n",
      "Row(year=1400, month=4, day=19, hour=16, minute=5, id=321482718)\n",
      "Row(year=1400, month=4, day=19, hour=16, minute=5, id=321482732)\n",
      "Row(year=1400, month=4, day=19, hour=16, minute=5, id=321482807)\n"
     ]
    }
   ],
   "source": [
    "result=session.execute(\"select * from mydb.total_interval where year=1400 and month=4 \") #\n",
    "ids_list=[]\n",
    "for row in result:\n",
    "    ids_list.append(row.id)\n",
    "    print(row)"
   ]
  },
  {
   "cell_type": "code",
   "execution_count": 143,
   "id": "48ffdfaf",
   "metadata": {
    "collapsed": true
   },
   "outputs": [
    {
     "name": "stdout",
     "output_type": "stream",
     "text": [
      "Got 11 Hits:\n",
      "{'id': '321482552', 'sendTime': '2021-07-10T11:34:09Z', 'sendTimePersian': '1400/04/19 16:04', 'senderName': 'A.NOURI', 'senderUsername': 'nouriiraj', 'senderProfileImage': '01307f71-5fea-4be1-8b42-b25d8056e48c', 'content': '#فنوال اقای بازیگر حقوقی خودشرکت \\nبچرخ تا بچرخیم تو .... پول شرکت وملت دستت است و باید فردای مجمع به خاطر این حماقت و تعلل در رشدسهم باید به خیلی از نباید های سهامداران تو مجمع جوابگو باشی، ولی ما برایمان فرقی نمیکند این مجمع هیچ،مجمع بعدی هم با تو هستیم \\nولی یه چیز بگم ا ح م ق تر از حقوقی فنوال در هیچ سهام در طول 15 سال سابقه بورسی خود ندیده بودم \\nبا این لجاجت :\\n1- بازه زمانی  اصلاح قیمتی  فنوال  تموم شده و به زور فنوال را فریزکردید و با این کا و بازی ها و معاملات لگاریتمی و الگوریتی دستتان خوانده شده.\\n2- باعث شدید گپ قیمتی فنوال پر نشه و  با این کار افزایش سرمایه از سود و تجدید را به تاخیر میاندازید.\\n3-مزایده بار سوم فپارس که از لحاظ قانونی بازه زمانی برگزاری آن سپری شده و به خاطر تصاحب تمام کارخانه توسط تیم محمدیون تعلل میکنن.(سه حالت برای فپارس : 1- برگشت به بازار سرمایه  - 2 - خرید 42% باقی مانده سهم به صورت تقسیطی توسط سهامدار عمده یعنی محمدیون - 3- فروش از طریق مزایده ولی اینبار ارزش گذاری و قیمت با دلار 22000 تومانی و سودسازی حداقل خالص 2000 هزار ملیاردی و حداقل سود سازی 1500 تومانب برای هر سهم\\n4- خط تولید ورق رنگی تمام اتومات از اول تیر ماه پس از سه ماه تولید آزمایشی موفق بر مدار تولید موفق قرار گرفته و در گزارش مالی و ماهانه سوددهی فنوال در تیر ماه و مرداد ماه منظور خواهد شد.پس با این حساب بچرخ تا ما هم بچرخیم \\nازش اینو دارد یکسال دیگه با سهم بمونیم \\nدوستان بهترین پیشنهاد تک سهم فنوال \\nدر بورس کسانی موفق هستن که از پول مازادی که دارند تک سهم ریسک میکنند البته فنوال ریسک نیستسرمایه گذاری موفق و پر بازده است\\nدیر و زود دارد ولی سوخت وسوز نه\\nپر سود باشید سهامداران قدیمی فنوال \\nگنج در خرابه هاست  فنوال همان گنجی است ولی فعلا با لباس نقمت ،یعنی نعمت است ولی با لباس نقمت فریبکاری میکنند و  روز روشن به دور از دید همگان چراخ خاموش سهام ملت بی چاره را جمع میکنند. من با چشم خود میبینم معاملات الگوریتمی را ولی کو ناظر؟\\nدر پیش خود و خدای خویش همینقدر که سبب آگاهی سهامداران میشوم  و اینها  از نقشه شوم تیم حقوقی آگاه میسازم و آنها را به آینده ای مطمئن در این سهم نوید میدهم ،شاکرم امید که خداوند به خاطر پتانسلی که این سهم دارد ما را رو سفید در مقابل سهامداران قرار دهد.', 'type': 'twit', 'scoredPostDate': '1625917010133', 'finalPullDatePersian': '', 'hashtags': ['فنوال'], 'links': [], 'keywords': ['برایمان', 'برگزاری', 'بعدی', 'بورسی', 'تاخیر', 'تجدید', 'تر', 'تصاحب', 'تقسیطی', 'تموم', 'تومانب', 'بازار', 'اینها', 'شوم', 'اینبار', '؟', 'آزمایشی', 'آگاه', 'آگاهی', 'آینده\\u200cای', 'ا', 'اتومات', 'ارزش', 'ازش', 'اصلاح', 'افزایش', 'اقای', 'الگوریتمی', 'الگوریتی', 'امید', 'تومانی', 'جوابگو', 'ح', 'سفید', 'رنگی', 'روز', 'روشن', 'زود', 'زور', 'سابقه', 'سال', 'سهامدار', 'حالت', '(', 'سوددهی', 'سودسازی', 'سپری', 'شاکرم', 'شدید', 'شرکت', 'رشدسهم', 'دیگه', 'دیر', 'دید', 'حساب', 'حماقت', 'خالص', 'خاموش', 'خداوند', 'خدای', 'خرابه', 'خرید', 'خط', 'خودشرکت', 'دستت', 'دستتان', 'دوستان', '…', 'بورس', 'دلار']}\n",
      "{'id': '321482807', 'sendTime': '2021-07-10T11:35:55Z', 'sendTimePersian': '1400/04/19 16:05', 'senderName': 'Saman', 'senderUsername': 'saman9999', 'senderProfileImage': 'default', 'content': '#وپسا    بورس  باعث  بی ارزش  شدن  سرمایه  شده  و می شود  سهم  نزدیک  ۸۰۰  تومان شده  ۱۸۰  تومان   اسم  این کار  چیست', 'type': 'twit', 'scoredPostDate': '1625917074815', 'finalPullDatePersian': '', 'hashtags': ['وپسا'], 'links': [], 'keywords': ['کار', '۱۸۰', '۸۰۰', 'بورس']}\n",
      "{'id': '321482732', 'sendTime': '2021-07-10T11:35:22Z', 'sendTimePersian': '1400/04/19 16:05', 'parentSendTime': '2021-07-10T11:33:36Z', 'parentSendTimePersian': '1400/04/19 16:03', 'parentId': '321482467', 'parentSenderName': 'بورسی', 'parentSenderUsername': 'vahidkhobpanah', 'parentSenderProfileImage': 'default', 'parentContent': 'بی سواد کجا پایینتر برو درست و حسابی گزارشو بخون تنی یک میلیون هم گرونتر', 'senderName': 'Unknown', 'senderUsername': 'unknown12345', 'senderProfileImage': 'default', 'content': '#شلرد یعنی تو باسوادتری🤣🤣🤣', 'type': 'quote', 'finalPullDatePersian': '', 'hashtags': ['شلرد'], 'links': [], 'keywords': ['']}\n",
      "{'id': '321482718', 'sendTime': '2021-07-10T11:35:16Z', 'sendTimePersian': '1400/04/19 16:05', 'senderName': 'امید', 'senderUsername': 'ahmad26584', 'senderProfileImage': 'default', 'content': '#فاهواز', 'type': 'twit', 'scoredPostDate': '1625916916546', 'finalPullDatePersian': '', 'hashtags': ['فاهواز'], 'links': [], 'keywords': ['فاهواز']}\n",
      "{'id': '321482707', 'sendTime': '2021-07-10T11:35:09Z', 'sendTimePersian': '1400/04/19 16:05', 'senderName': 'داش مشتي', 'senderUsername': 'dashmashtii', 'senderProfileImage': 'default', 'content': '#شکف قبلنا يه دادشي جزو درصديهاي شكف بود كه فكر ميكرد خيلي زرنگه و همه كاره سهمه ،\\nاين داداش به ظاهر زرنگ را چند تا داداش از اون زرنگ تَر خ ر كردند و از سهمي كه حدود ١٠ سال نگه داشته بود مفت و مجاني پياده كردند !\\nاون داداش اولي وقتي فهميد كه چه كلاهي سرش رفته كه قيمّت سهمش تقريبا ١٠ برابر شده بود ولي با پول فروش شكفش بعد از يك سال تازه برگشته بود سر جاي اولش ،\\nاون داداش اولي چند تا دونه سهم براي روز مبادا ته حسابش نگه داشته بود و الان فكر ميكنه با اون چندر غاز سهمش ميتونه قيمّت را پايين بكشه و دوباره سوار بشه ،\\nداداش اولي وقتي يه بار خ ر شدي يعني دوباره هم خ ر ميشي و وقتي سهمتو از صف فروش قورت دادند و دوباره قيمّت سهمت ١٠ برابر شد ،اون موقع با گوش آويزون انگشت حسرت به دهان خواهي گرفت ،\\nقبلا چقدر بهت گفتم اينقدر به سهامدارا ظلم نكن و اينقدر با سهم بازي نكن و نوسان نگير ،ميگفتي زنم مريضه و سهم مال زنم هست و كذا ،\\nاوني كه بيماره خودتي مشتي \\nچاه كن هميشه ته چاهه ،از كارهات درس عبرت بگير \\nيه جوري از سهم پياده ات ميكنند كه خودت هم نفهمي...', 'type': 'twit', 'scoredPostDate': '1625916972689', 'finalPullDatePersian': '', 'hashtags': ['شکف'], 'links': [], 'keywords': ['دادشی', 'خودت', 'حسرت', 'حسابش', 'جوری', 'جزو', 'تقریبا', 'بیماره', 'ظلم', 'بهت', 'بازی', 'اونی', 'اولش', 'انگشت', 'الان', 'آویزون', 'درس', 'درصدای', 'دهان', 'دونه', 'ظاهر', 'صف', 'شکف', 'شکف', 'سوار', 'سهمی', 'سهمه', 'سهمتو', 'سهمت', 'سهامدارا', 'سرش', 'سر', 'زرنگ\\u200cتر', 'زرنگ', 'روز', '…']}\n",
      "{'id': '321482677', 'sendTime': '2021-07-10T11:34:53Z', 'sendTimePersian': '1400/04/19 16:04', 'senderName': 'صبرایوب', 'senderUsername': 'saeed35743', 'senderProfileImage': 'default', 'content': '#سیدکو پولبک تمام تا ۷۵۰راحت میره', 'type': 'twit', 'scoredPostDate': '1625916900801', 'finalPullDatePersian': '', 'hashtags': ['سیدکو'], 'links': [], 'keywords': ['پولبک', '۷۵۰']}\n",
      "{'id': '321482618', 'sendTime': '2021-07-10T11:34:26Z', 'sendTimePersian': '1400/04/19 16:04', 'senderName': 'محمد سجاد', 'senderUsername': 'sajjadofficial', 'senderProfileImage': 'default', 'content': '#آینده تایم فریم ماهانه\\nاصلاح تا محدوده مشخص شده ادامه خواهد داشت.', 'type': 'twit', 'imageUid': '5770d71b-87fc-4c9f-a63b-6d0d5f2374a4', 'mediaContentType': 'image/png', 'scoredPostDate': '1625916936792', 'finalPullDatePersian': '', 'hashtags': ['آینده'], 'links': [], 'keywords': ['خواهد_داشت', 'فریم', 'ماهانه', 'محدوده']}\n",
      "{'id': '321482596', 'sendTime': '2021-07-10T11:34:21Z', 'sendTimePersian': '1400/04/19 16:04', 'parentSendTime': '2021-07-07T05:58:45Z', 'parentSendTimePersian': '1400/04/16 10:28', 'parentId': '319935169', 'parentSenderName': 'kiomars.nejati', 'parentSenderUsername': 'kiomarsmejati', 'parentSenderProfileImage': '4c128d23-6371-4574-b3c3-6d841b5b3b1c', 'parentContent': '#حریل بنظر من هفته بعد حریل موج صعودی داره .میتونه اهداف 470 بزنه.البته با حرکات نوسانی خیلیها پیاده و سهم به اهدافش حرکت شتابان داره', 'parentImageUid': '01d98b2f-a9cd-4abf-b159-68d085a85677', 'senderName': 'مارینر', 'senderUsername': 'hassan21q', 'senderProfileImage': '5e39bde4-0619-4914-bfb6-db8865ca6f16', 'content': '#حریل\\nتا وقتی عرضه ی حآفرین انجام نشه ساید میزنه.', 'type': 'quote', 'mediaContentType': 'image/jpeg', 'finalPullDatePersian': '', 'hashtags': ['حریل'], 'links': [], 'keywords': ['حآفرین', 'ساید', 'عرضه\\u200cی']}\n",
      "{'id': '321482581', 'sendTime': '2021-07-10T11:34:15Z', 'sendTimePersian': '1400/04/19 16:04', 'senderName': 'it2000', 'senderUsername': 'it2000', 'senderProfileImage': '505d0a86-23be-48d8-9051-a82e844ab481', 'content': '#بزاگرس \\n\\nبزاگرس\\n\\t \\nحجم معاملات\\t2.39 میلیون برگ سهم\\tارزش معاملات\\t1.29 میلیارد تومان\\n\\nقیمت پایانی\\t5343 ریال  (%4.09+)\\tقیمت آخرین معامله\\t5389 ریال (%4.99+)\\n\\nحمایت\\t385-420 تومان\\n\\nمقاومت ها\\t585-620 تومان\\n\\t\\nاین نماد از محدوده حمایتی 420 تومان و با برخورد به کف کانال صعودی با افزایش تقاضا مسیر رشد را در پیش گرفت.\\n\\nمهمترین مقاومت سهم در محدوده 585-620 تومان قرار دارد که می تواند سهم را با چالش عرضه روبرو سازد.\\n\\n\\n\\nشکست پر قدرت این مقاومت و در ادامه سقف کانال صعودی برای ادامه روند افزایشی حیاتی است.', 'lastLikeNickName': 'it2000', 'likeCount': '1', 'type': 'twit', 'scoredPostDate': '1625917016581', 'finalPullDatePersian': '', 'hashtags': ['بزاگرس'], 'links': [], 'keywords': ['بزاگرس', 'مهمترین', 'حمایت', 'ارزش', 'افزایش', 'افزایشی', 'برخورد', 'برگ', 'بزاگرس', 'تقاضا', 'حجم', 'حمایتی', 'معامله', 'حیاتی', 'روبرو', 'سقف', 'شکست', 'عرضه', 'قدرت', 'قرار', 'مسیر', '۹۹']}\n",
      "{'id': '321283095', 'sendTime': '2021-07-10T02:19:30Z', 'sendTimePersian': '1400/04/19 06:49', 'retwitSendTime': '2021-07-10T11:34:13Z', 'retwitSendTimePersian': '1400/04/19 16:04', 'retwitSenderName': 'بورسی', 'retwitSenderUsername': 'vahidkhobpanah', 'retwitSenderProfileImage': 'default', 'senderName': 'بورسی', 'senderUsername': 'vahidkhobpanah', 'senderProfileImage': 'default', 'content': '#شلرد', 'lastLikeNickName': 'milad100', 'likeCount': '1', 'retwitCount': '1', 'type': 'retwit', 'imageUid': '758d0b32-8c0f-47a2-9a4e-e353af697712', 'mediaContentType': 'image/jpeg', 'scoredPostDate': '1625884221612', 'retwitId': '321482574', 'finalPullDatePersian': '', 'hashtags': ['شلرد'], 'links': [], 'keywords': ['شلرد']}\n"
     ]
    }
   ],
   "source": [
    "res = elasticSearch.search(index=\"twitter_bors\", body={\"query\": {\"ids\": { 'values': ids_list}}})\n",
    "print(\"Got %d Hits:\" % res['hits']['total']['value'])\n",
    "for hit in res['hits']['hits']:\n",
    "    print(hit['_source'])"
   ]
  },
  {
   "cell_type": "code",
   "execution_count": 148,
   "id": "3032b7ea",
   "metadata": {},
   "outputs": [
    {
     "name": "stdout",
     "output_type": "stream",
     "text": [
      "Row(year=1400, month=4, day=19, hour=16, minute=5, id=321482707)\n",
      "Row(year=1400, month=4, day=19, hour=16, minute=5, id=321482718)\n",
      "Row(year=1400, month=4, day=19, hour=16, minute=5, id=321482732)\n",
      "Row(year=1400, month=4, day=19, hour=16, minute=5, id=321482807)\n"
     ]
    }
   ],
   "source": [
    "result=session.execute(\"select * from mydb.total_interval where year=1400 and month=4 and day=19 and hour=16 and minute>4\") #\n",
    "ids_list=[]\n",
    "for row in result:\n",
    "    ids_list.append(row.id)\n",
    "    print(row)"
   ]
  },
  {
   "cell_type": "code",
   "execution_count": null,
   "id": "1a8a14c7",
   "metadata": {},
   "outputs": [],
   "source": [
    "res = elasticSearch.search(index=\"twitter_bors\", body={\"query\": {\"ids\": { 'values': ids_list}}})\n",
    "print(\"Got %d Hits:\" % res['hits']['total']['value'])\n",
    "for hit in res['hits']['hits']:\n",
    "    print(hit['_source'])"
   ]
  },
  {
   "cell_type": "markdown",
   "id": "18386a15",
   "metadata": {},
   "source": [
    "# Finding Statistics using Cassandra"
   ]
  },
  {
   "cell_type": "code",
   "execution_count": 151,
   "id": "142a3283",
   "metadata": {},
   "outputs": [
    {
     "name": "stdout",
     "output_type": "stream",
     "text": [
      "Row(count=4)\n"
     ]
    }
   ],
   "source": [
    "result=session.execute(\"select count(*) from mydb.total_interval where year=1400 and month=4 and day=19 and hour=16 and minute>4\") #\n",
    "for row in result:\n",
    "    print(row)"
   ]
  },
  {
   "cell_type": "code",
   "execution_count": 153,
   "id": "8878f6e2",
   "metadata": {},
   "outputs": [
    {
     "name": "stdout",
     "output_type": "stream",
     "text": [
      "Row(system_avg_hour=15)\n"
     ]
    }
   ],
   "source": [
    "result=session.execute(\"select avg(hour) from mydb.total_interval where year=1400 and month=4 and day=19\") #\n",
    "for row in result:\n",
    "    print(row)"
   ]
  }
 ],
 "metadata": {
  "kernelspec": {
   "display_name": "Python 3",
   "language": "python",
   "name": "python3"
  },
  "language_info": {
   "codemirror_mode": {
    "name": "ipython",
    "version": 3
   },
   "file_extension": ".py",
   "mimetype": "text/x-python",
   "name": "python",
   "nbconvert_exporter": "python",
   "pygments_lexer": "ipython3",
   "version": "3.7.6"
  }
 },
 "nbformat": 4,
 "nbformat_minor": 5
}
