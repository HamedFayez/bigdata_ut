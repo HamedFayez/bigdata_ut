{
 "cells": [
  {
   "cell_type": "code",
   "execution_count": 1,
   "id": "29ead450",
   "metadata": {
    "collapsed": true
   },
   "outputs": [
    {
     "name": "stdout",
     "output_type": "stream",
     "text": [
      "Requirement already satisfied: cassandra-driver in c:\\users\\alija\\miniconda3\\lib\\site-packages (3.25.0)\n",
      "Requirement already satisfied: six>=1.9 in c:\\users\\alija\\miniconda3\\lib\\site-packages (from cassandra-driver) (1.14.0)\n",
      "Requirement already satisfied: geomet<0.3,>=0.1 in c:\\users\\alija\\miniconda3\\lib\\site-packages (from cassandra-driver) (0.2.1.post1)\n",
      "Requirement already satisfied: click in c:\\users\\alija\\miniconda3\\lib\\site-packages (from geomet<0.3,>=0.1->cassandra-driver) (8.0.1)\n",
      "Requirement already satisfied: importlib-metadata; python_version < \"3.8\" in c:\\users\\alija\\appdata\\roaming\\python\\python37\\site-packages (from click->geomet<0.3,>=0.1->cassandra-driver) (4.0.1)\n",
      "Requirement already satisfied: colorama; platform_system == \"Windows\" in c:\\users\\alija\\appdata\\roaming\\python\\python37\\site-packages (from click->geomet<0.3,>=0.1->cassandra-driver) (0.4.4)\n",
      "Requirement already satisfied: zipp>=0.5 in c:\\users\\alija\\appdata\\roaming\\python\\python37\\site-packages (from importlib-metadata; python_version < \"3.8\"->click->geomet<0.3,>=0.1->cassandra-driver) (3.4.1)\n",
      "Requirement already satisfied: typing-extensions>=3.6.4; python_version < \"3.8\" in c:\\users\\alija\\appdata\\roaming\\python\\python37\\site-packages (from importlib-metadata; python_version < \"3.8\"->click->geomet<0.3,>=0.1->cassandra-driver) (3.10.0.0)\n"
     ]
    }
   ],
   "source": [
    "!pip install cassandra-driver"
   ]
  },
  {
   "cell_type": "code",
   "execution_count": 5,
   "id": "1f9da538",
   "metadata": {},
   "outputs": [
    {
     "data": {
      "text/plain": [
       "'3.25.0'"
      ]
     },
     "execution_count": 5,
     "metadata": {},
     "output_type": "execute_result"
    }
   ],
   "source": [
    "from json import loads\n",
    "import cassandra\n",
    "cassandra. __version__"
   ]
  },
  {
   "cell_type": "code",
   "execution_count": 7,
   "id": "5c3aa559",
   "metadata": {},
   "outputs": [],
   "source": [
    "from cassandra.cluster import Cluster\n",
    "from elasticsearch import Elasticsearch\n",
    "\n",
    "cluster = Cluster()\n",
    "session = cluster.connect()\n",
    "session.execute(\"CREATE KEYSPACE IF NOT EXISTS mydb WITH REPLICATION = { 'class' : 'SimpleStrategy', 'replication_factor' : 1 };\")\n",
    "\n",
    "elasticSearch = Elasticsearch([{'host':'localhost','port':9200}])"
   ]
  },
  {
   "cell_type": "code",
   "execution_count": 8,
   "id": "935c8df1",
   "metadata": {},
   "outputs": [],
   "source": [
    "from kafka import KafkaConsumer\n",
    "from kafka import KafkaProducer\n",
    "import time\n",
    "import re\n",
    "import json\n",
    "from json import loads\n",
    "from time import sleep\n",
    "from json import dumps\n",
    "import requests\n",
    "\n",
    "consumer = KafkaConsumer(\n",
    "    'persistence',\n",
    "     bootstrap_servers=['192.168.1.3:9092'],\n",
    "     auto_offset_reset='earliest',\n",
    "     enable_auto_commit=True,\n",
    "     group_id='my-group3',\n",
    "     api_version=(0,10),\n",
    "     value_deserializer=lambda x: loads(x.decode('utf-8')))\n",
    "\n",
    "producer = KafkaProducer(bootstrap_servers=['192.168.1.3:9092'],key_serializer=str.encode,api_version=(0,10),\n",
    "                         value_serializer=lambda x:dumps(x).encode('utf-8'))"
   ]
  },
  {
   "cell_type": "markdown",
   "id": "f5ab1912",
   "metadata": {},
   "source": [
    "# Make a Dataframe to store the consumer contents:"
   ]
  },
  {
   "cell_type": "code",
   "execution_count": 9,
   "id": "27195c96",
   "metadata": {},
   "outputs": [
    {
     "data": {
      "text/html": [
       "<div>\n",
       "<style scoped>\n",
       "    .dataframe tbody tr th:only-of-type {\n",
       "        vertical-align: middle;\n",
       "    }\n",
       "\n",
       "    .dataframe tbody tr th {\n",
       "        vertical-align: top;\n",
       "    }\n",
       "\n",
       "    .dataframe thead th {\n",
       "        text-align: right;\n",
       "    }\n",
       "</style>\n",
       "<table border=\"1\" class=\"dataframe\">\n",
       "  <thead>\n",
       "    <tr style=\"text-align: right;\">\n",
       "      <th></th>\n",
       "      <th>hashtag</th>\n",
       "      <th>id</th>\n",
       "      <th>year</th>\n",
       "      <th>month</th>\n",
       "      <th>day</th>\n",
       "      <th>hour</th>\n",
       "      <th>minute</th>\n",
       "    </tr>\n",
       "  </thead>\n",
       "  <tbody>\n",
       "  </tbody>\n",
       "</table>\n",
       "</div>"
      ],
      "text/plain": [
       "Empty DataFrame\n",
       "Columns: [hashtag, id, year, month, day, hour, minute]\n",
       "Index: []"
      ]
     },
     "execution_count": 9,
     "metadata": {},
     "output_type": "execute_result"
    }
   ],
   "source": [
    "import pandas as pd\n",
    "df=pd.DataFrame(columns=['hashtag','id','year', 'month','day','hour','minute'])\n",
    "df"
   ]
  },
  {
   "cell_type": "code",
   "execution_count": 10,
   "id": "889e559f",
   "metadata": {
    "collapsed": true
   },
   "outputs": [
    {
     "name": "stderr",
     "output_type": "stream",
     "text": [
      "c:\\users\\alija\\miniconda3\\lib\\site-packages\\elasticsearch\\connection\\base.py:200: ElasticsearchWarning: [types removal] Specifying types in document index requests is deprecated, use the typeless endpoints instead (/{index}/_doc/{id}, /{index}/_doc, or /{index}/_create/{id}).\n",
      "  warnings.warn(message, category=ElasticsearchWarning)\n"
     ]
    },
    {
     "ename": "KeyboardInterrupt",
     "evalue": "",
     "output_type": "error",
     "traceback": [
      "\u001b[1;31m---------------------------------------------------------------------------\u001b[0m",
      "\u001b[1;31mKeyboardInterrupt\u001b[0m                         Traceback (most recent call last)",
      "\u001b[1;32m<ipython-input-10-05b022d71e36>\u001b[0m in \u001b[0;36m<module>\u001b[1;34m\u001b[0m\n\u001b[0;32m     25\u001b[0m     \u001b[1;32mfor\u001b[0m \u001b[0mh\u001b[0m \u001b[1;32min\u001b[0m \u001b[0mmessage\u001b[0m\u001b[1;33m[\u001b[0m\u001b[1;34m'hashtags'\u001b[0m\u001b[1;33m]\u001b[0m\u001b[1;33m:\u001b[0m\u001b[1;33m\u001b[0m\u001b[1;33m\u001b[0m\u001b[0m\n\u001b[0;32m     26\u001b[0m         \u001b[0mnew_row\u001b[0m\u001b[1;33m=\u001b[0m\u001b[1;33m{\u001b[0m\u001b[1;34m'hashtag'\u001b[0m\u001b[1;33m:\u001b[0m\u001b[0mh\u001b[0m\u001b[1;33m,\u001b[0m\u001b[1;34m'id'\u001b[0m\u001b[1;33m:\u001b[0m\u001b[0mid\u001b[0m\u001b[1;33m,\u001b[0m\u001b[1;34m'year'\u001b[0m\u001b[1;33m:\u001b[0m\u001b[0myear\u001b[0m\u001b[1;33m,\u001b[0m\u001b[1;34m'month'\u001b[0m\u001b[1;33m:\u001b[0m\u001b[0mmonth\u001b[0m\u001b[1;33m,\u001b[0m\u001b[1;34m'day'\u001b[0m\u001b[1;33m:\u001b[0m\u001b[0mday\u001b[0m\u001b[1;33m,\u001b[0m\u001b[1;34m'hour'\u001b[0m\u001b[1;33m:\u001b[0m\u001b[0mhour\u001b[0m\u001b[1;33m,\u001b[0m\u001b[1;34m'minute'\u001b[0m\u001b[1;33m:\u001b[0m\u001b[0mminute\u001b[0m\u001b[1;33m,\u001b[0m\u001b[1;33m}\u001b[0m\u001b[1;33m\u001b[0m\u001b[1;33m\u001b[0m\u001b[0m\n\u001b[1;32m---> 27\u001b[1;33m         \u001b[0mdf\u001b[0m\u001b[1;33m=\u001b[0m\u001b[0mdf\u001b[0m\u001b[1;33m.\u001b[0m\u001b[0mappend\u001b[0m\u001b[1;33m(\u001b[0m\u001b[0mnew_row\u001b[0m\u001b[1;33m,\u001b[0m \u001b[0mignore_index\u001b[0m\u001b[1;33m=\u001b[0m\u001b[1;32mTrue\u001b[0m\u001b[1;33m)\u001b[0m\u001b[1;33m\u001b[0m\u001b[1;33m\u001b[0m\u001b[0m\n\u001b[0m\u001b[0;32m     28\u001b[0m \u001b[1;33m\u001b[0m\u001b[0m\n\u001b[0;32m     29\u001b[0m     \u001b[0mproducer\u001b[0m\u001b[1;33m.\u001b[0m\u001b[0msend\u001b[0m\u001b[1;33m(\u001b[0m\u001b[1;34m'statistics'\u001b[0m\u001b[1;33m,\u001b[0m \u001b[0mkey\u001b[0m\u001b[1;33m=\u001b[0m\u001b[0mmessage\u001b[0m\u001b[1;33m[\u001b[0m\u001b[1;34m'id'\u001b[0m\u001b[1;33m]\u001b[0m\u001b[1;33m,\u001b[0m\u001b[0mvalue\u001b[0m\u001b[1;33m=\u001b[0m\u001b[0mmessage\u001b[0m\u001b[1;33m)\u001b[0m\u001b[1;33m\u001b[0m\u001b[1;33m\u001b[0m\u001b[0m\n",
      "\u001b[1;32mc:\\users\\alija\\miniconda3\\lib\\site-packages\\pandas\\core\\frame.py\u001b[0m in \u001b[0;36mappend\u001b[1;34m(self, other, ignore_index, verify_integrity, sort)\u001b[0m\n\u001b[0;32m   7984\u001b[0m                 \u001b[0mignore_index\u001b[0m\u001b[1;33m=\u001b[0m\u001b[0mignore_index\u001b[0m\u001b[1;33m,\u001b[0m\u001b[1;33m\u001b[0m\u001b[1;33m\u001b[0m\u001b[0m\n\u001b[0;32m   7985\u001b[0m                 \u001b[0mverify_integrity\u001b[0m\u001b[1;33m=\u001b[0m\u001b[0mverify_integrity\u001b[0m\u001b[1;33m,\u001b[0m\u001b[1;33m\u001b[0m\u001b[1;33m\u001b[0m\u001b[0m\n\u001b[1;32m-> 7986\u001b[1;33m                 \u001b[0msort\u001b[0m\u001b[1;33m=\u001b[0m\u001b[0msort\u001b[0m\u001b[1;33m,\u001b[0m\u001b[1;33m\u001b[0m\u001b[1;33m\u001b[0m\u001b[0m\n\u001b[0m\u001b[0;32m   7987\u001b[0m             )\n\u001b[0;32m   7988\u001b[0m         ).__finalize__(self, method=\"append\")\n",
      "\u001b[1;32mc:\\users\\alija\\miniconda3\\lib\\site-packages\\pandas\\core\\reshape\\concat.py\u001b[0m in \u001b[0;36mconcat\u001b[1;34m(objs, axis, join, ignore_index, keys, levels, names, verify_integrity, sort, copy)\u001b[0m\n\u001b[0;32m    293\u001b[0m         \u001b[0mverify_integrity\u001b[0m\u001b[1;33m=\u001b[0m\u001b[0mverify_integrity\u001b[0m\u001b[1;33m,\u001b[0m\u001b[1;33m\u001b[0m\u001b[1;33m\u001b[0m\u001b[0m\n\u001b[0;32m    294\u001b[0m         \u001b[0mcopy\u001b[0m\u001b[1;33m=\u001b[0m\u001b[0mcopy\u001b[0m\u001b[1;33m,\u001b[0m\u001b[1;33m\u001b[0m\u001b[1;33m\u001b[0m\u001b[0m\n\u001b[1;32m--> 295\u001b[1;33m         \u001b[0msort\u001b[0m\u001b[1;33m=\u001b[0m\u001b[0msort\u001b[0m\u001b[1;33m,\u001b[0m\u001b[1;33m\u001b[0m\u001b[1;33m\u001b[0m\u001b[0m\n\u001b[0m\u001b[0;32m    296\u001b[0m     )\n\u001b[0;32m    297\u001b[0m \u001b[1;33m\u001b[0m\u001b[0m\n",
      "\u001b[1;32mc:\\users\\alija\\miniconda3\\lib\\site-packages\\pandas\\core\\reshape\\concat.py\u001b[0m in \u001b[0;36m__init__\u001b[1;34m(self, objs, axis, join, keys, levels, names, ignore_index, verify_integrity, copy, sort)\u001b[0m\n\u001b[0;32m    371\u001b[0m \u001b[1;33m\u001b[0m\u001b[0m\n\u001b[0;32m    372\u001b[0m             \u001b[1;31m# consolidate\u001b[0m\u001b[1;33m\u001b[0m\u001b[1;33m\u001b[0m\u001b[1;33m\u001b[0m\u001b[0m\n\u001b[1;32m--> 373\u001b[1;33m             \u001b[0mobj\u001b[0m\u001b[1;33m.\u001b[0m\u001b[0m_consolidate_inplace\u001b[0m\u001b[1;33m(\u001b[0m\u001b[1;33m)\u001b[0m\u001b[1;33m\u001b[0m\u001b[1;33m\u001b[0m\u001b[0m\n\u001b[0m\u001b[0;32m    374\u001b[0m             \u001b[0mndims\u001b[0m\u001b[1;33m.\u001b[0m\u001b[0madd\u001b[0m\u001b[1;33m(\u001b[0m\u001b[0mobj\u001b[0m\u001b[1;33m.\u001b[0m\u001b[0mndim\u001b[0m\u001b[1;33m)\u001b[0m\u001b[1;33m\u001b[0m\u001b[1;33m\u001b[0m\u001b[0m\n\u001b[0;32m    375\u001b[0m \u001b[1;33m\u001b[0m\u001b[0m\n",
      "\u001b[1;32mc:\\users\\alija\\miniconda3\\lib\\site-packages\\pandas\\core\\generic.py\u001b[0m in \u001b[0;36m_consolidate_inplace\u001b[1;34m(self)\u001b[0m\n\u001b[0;32m   5539\u001b[0m             \u001b[0mself\u001b[0m\u001b[1;33m.\u001b[0m\u001b[0m_mgr\u001b[0m \u001b[1;33m=\u001b[0m \u001b[0mself\u001b[0m\u001b[1;33m.\u001b[0m\u001b[0m_mgr\u001b[0m\u001b[1;33m.\u001b[0m\u001b[0mconsolidate\u001b[0m\u001b[1;33m(\u001b[0m\u001b[1;33m)\u001b[0m\u001b[1;33m\u001b[0m\u001b[1;33m\u001b[0m\u001b[0m\n\u001b[0;32m   5540\u001b[0m \u001b[1;33m\u001b[0m\u001b[0m\n\u001b[1;32m-> 5541\u001b[1;33m         \u001b[0mself\u001b[0m\u001b[1;33m.\u001b[0m\u001b[0m_protect_consolidate\u001b[0m\u001b[1;33m(\u001b[0m\u001b[0mf\u001b[0m\u001b[1;33m)\u001b[0m\u001b[1;33m\u001b[0m\u001b[1;33m\u001b[0m\u001b[0m\n\u001b[0m\u001b[0;32m   5542\u001b[0m \u001b[1;33m\u001b[0m\u001b[0m\n\u001b[0;32m   5543\u001b[0m     \u001b[1;33m@\u001b[0m\u001b[0mfinal\u001b[0m\u001b[1;33m\u001b[0m\u001b[1;33m\u001b[0m\u001b[0m\n",
      "\u001b[1;32mc:\\users\\alija\\miniconda3\\lib\\site-packages\\pandas\\core\\generic.py\u001b[0m in \u001b[0;36m_protect_consolidate\u001b[1;34m(self, f)\u001b[0m\n\u001b[0;32m   5527\u001b[0m         \"\"\"\n\u001b[0;32m   5528\u001b[0m         \u001b[0mblocks_before\u001b[0m \u001b[1;33m=\u001b[0m \u001b[0mlen\u001b[0m\u001b[1;33m(\u001b[0m\u001b[0mself\u001b[0m\u001b[1;33m.\u001b[0m\u001b[0m_mgr\u001b[0m\u001b[1;33m.\u001b[0m\u001b[0mblocks\u001b[0m\u001b[1;33m)\u001b[0m\u001b[1;33m\u001b[0m\u001b[1;33m\u001b[0m\u001b[0m\n\u001b[1;32m-> 5529\u001b[1;33m         \u001b[0mresult\u001b[0m \u001b[1;33m=\u001b[0m \u001b[0mf\u001b[0m\u001b[1;33m(\u001b[0m\u001b[1;33m)\u001b[0m\u001b[1;33m\u001b[0m\u001b[1;33m\u001b[0m\u001b[0m\n\u001b[0m\u001b[0;32m   5530\u001b[0m         \u001b[1;32mif\u001b[0m \u001b[0mlen\u001b[0m\u001b[1;33m(\u001b[0m\u001b[0mself\u001b[0m\u001b[1;33m.\u001b[0m\u001b[0m_mgr\u001b[0m\u001b[1;33m.\u001b[0m\u001b[0mblocks\u001b[0m\u001b[1;33m)\u001b[0m \u001b[1;33m!=\u001b[0m \u001b[0mblocks_before\u001b[0m\u001b[1;33m:\u001b[0m\u001b[1;33m\u001b[0m\u001b[1;33m\u001b[0m\u001b[0m\n\u001b[0;32m   5531\u001b[0m             \u001b[0mself\u001b[0m\u001b[1;33m.\u001b[0m\u001b[0m_clear_item_cache\u001b[0m\u001b[1;33m(\u001b[0m\u001b[1;33m)\u001b[0m\u001b[1;33m\u001b[0m\u001b[1;33m\u001b[0m\u001b[0m\n",
      "\u001b[1;32mc:\\users\\alija\\miniconda3\\lib\\site-packages\\pandas\\core\\generic.py\u001b[0m in \u001b[0;36mf\u001b[1;34m()\u001b[0m\n\u001b[0;32m   5537\u001b[0m \u001b[1;33m\u001b[0m\u001b[0m\n\u001b[0;32m   5538\u001b[0m         \u001b[1;32mdef\u001b[0m \u001b[0mf\u001b[0m\u001b[1;33m(\u001b[0m\u001b[1;33m)\u001b[0m\u001b[1;33m:\u001b[0m\u001b[1;33m\u001b[0m\u001b[1;33m\u001b[0m\u001b[0m\n\u001b[1;32m-> 5539\u001b[1;33m             \u001b[0mself\u001b[0m\u001b[1;33m.\u001b[0m\u001b[0m_mgr\u001b[0m \u001b[1;33m=\u001b[0m \u001b[0mself\u001b[0m\u001b[1;33m.\u001b[0m\u001b[0m_mgr\u001b[0m\u001b[1;33m.\u001b[0m\u001b[0mconsolidate\u001b[0m\u001b[1;33m(\u001b[0m\u001b[1;33m)\u001b[0m\u001b[1;33m\u001b[0m\u001b[1;33m\u001b[0m\u001b[0m\n\u001b[0m\u001b[0;32m   5540\u001b[0m \u001b[1;33m\u001b[0m\u001b[0m\n\u001b[0;32m   5541\u001b[0m         \u001b[0mself\u001b[0m\u001b[1;33m.\u001b[0m\u001b[0m_protect_consolidate\u001b[0m\u001b[1;33m(\u001b[0m\u001b[0mf\u001b[0m\u001b[1;33m)\u001b[0m\u001b[1;33m\u001b[0m\u001b[1;33m\u001b[0m\u001b[0m\n",
      "\u001b[1;32mc:\\users\\alija\\miniconda3\\lib\\site-packages\\pandas\\core\\internals\\managers.py\u001b[0m in \u001b[0;36mconsolidate\u001b[1;34m(self)\u001b[0m\n\u001b[0;32m    986\u001b[0m         \u001b[0mbm\u001b[0m \u001b[1;33m=\u001b[0m \u001b[0mtype\u001b[0m\u001b[1;33m(\u001b[0m\u001b[0mself\u001b[0m\u001b[1;33m)\u001b[0m\u001b[1;33m(\u001b[0m\u001b[0mself\u001b[0m\u001b[1;33m.\u001b[0m\u001b[0mblocks\u001b[0m\u001b[1;33m,\u001b[0m \u001b[0mself\u001b[0m\u001b[1;33m.\u001b[0m\u001b[0maxes\u001b[0m\u001b[1;33m)\u001b[0m\u001b[1;33m\u001b[0m\u001b[1;33m\u001b[0m\u001b[0m\n\u001b[0;32m    987\u001b[0m         \u001b[0mbm\u001b[0m\u001b[1;33m.\u001b[0m\u001b[0m_is_consolidated\u001b[0m \u001b[1;33m=\u001b[0m \u001b[1;32mFalse\u001b[0m\u001b[1;33m\u001b[0m\u001b[1;33m\u001b[0m\u001b[0m\n\u001b[1;32m--> 988\u001b[1;33m         \u001b[0mbm\u001b[0m\u001b[1;33m.\u001b[0m\u001b[0m_consolidate_inplace\u001b[0m\u001b[1;33m(\u001b[0m\u001b[1;33m)\u001b[0m\u001b[1;33m\u001b[0m\u001b[1;33m\u001b[0m\u001b[0m\n\u001b[0m\u001b[0;32m    989\u001b[0m         \u001b[1;32mreturn\u001b[0m \u001b[0mbm\u001b[0m\u001b[1;33m\u001b[0m\u001b[1;33m\u001b[0m\u001b[0m\n\u001b[0;32m    990\u001b[0m \u001b[1;33m\u001b[0m\u001b[0m\n",
      "\u001b[1;32mc:\\users\\alija\\miniconda3\\lib\\site-packages\\pandas\\core\\internals\\managers.py\u001b[0m in \u001b[0;36m_consolidate_inplace\u001b[1;34m(self)\u001b[0m\n\u001b[0;32m    991\u001b[0m     \u001b[1;32mdef\u001b[0m \u001b[0m_consolidate_inplace\u001b[0m\u001b[1;33m(\u001b[0m\u001b[0mself\u001b[0m\u001b[1;33m)\u001b[0m \u001b[1;33m->\u001b[0m \u001b[1;32mNone\u001b[0m\u001b[1;33m:\u001b[0m\u001b[1;33m\u001b[0m\u001b[1;33m\u001b[0m\u001b[0m\n\u001b[0;32m    992\u001b[0m         \u001b[1;32mif\u001b[0m \u001b[1;32mnot\u001b[0m \u001b[0mself\u001b[0m\u001b[1;33m.\u001b[0m\u001b[0mis_consolidated\u001b[0m\u001b[1;33m(\u001b[0m\u001b[1;33m)\u001b[0m\u001b[1;33m:\u001b[0m\u001b[1;33m\u001b[0m\u001b[1;33m\u001b[0m\u001b[0m\n\u001b[1;32m--> 993\u001b[1;33m             \u001b[0mself\u001b[0m\u001b[1;33m.\u001b[0m\u001b[0mblocks\u001b[0m \u001b[1;33m=\u001b[0m \u001b[0mtuple\u001b[0m\u001b[1;33m(\u001b[0m\u001b[0m_consolidate\u001b[0m\u001b[1;33m(\u001b[0m\u001b[0mself\u001b[0m\u001b[1;33m.\u001b[0m\u001b[0mblocks\u001b[0m\u001b[1;33m)\u001b[0m\u001b[1;33m)\u001b[0m\u001b[1;33m\u001b[0m\u001b[1;33m\u001b[0m\u001b[0m\n\u001b[0m\u001b[0;32m    994\u001b[0m             \u001b[0mself\u001b[0m\u001b[1;33m.\u001b[0m\u001b[0m_is_consolidated\u001b[0m \u001b[1;33m=\u001b[0m \u001b[1;32mTrue\u001b[0m\u001b[1;33m\u001b[0m\u001b[1;33m\u001b[0m\u001b[0m\n\u001b[0;32m    995\u001b[0m             \u001b[0mself\u001b[0m\u001b[1;33m.\u001b[0m\u001b[0m_known_consolidated\u001b[0m \u001b[1;33m=\u001b[0m \u001b[1;32mTrue\u001b[0m\u001b[1;33m\u001b[0m\u001b[1;33m\u001b[0m\u001b[0m\n",
      "\u001b[1;32mc:\\users\\alija\\miniconda3\\lib\\site-packages\\pandas\\core\\internals\\managers.py\u001b[0m in \u001b[0;36m_consolidate\u001b[1;34m(blocks)\u001b[0m\n\u001b[0;32m   1915\u001b[0m     \u001b[1;32mfor\u001b[0m \u001b[1;33m(\u001b[0m\u001b[0m_can_consolidate\u001b[0m\u001b[1;33m,\u001b[0m \u001b[0mdtype\u001b[0m\u001b[1;33m)\u001b[0m\u001b[1;33m,\u001b[0m \u001b[0mgroup_blocks\u001b[0m \u001b[1;32min\u001b[0m \u001b[0mgrouper\u001b[0m\u001b[1;33m:\u001b[0m\u001b[1;33m\u001b[0m\u001b[1;33m\u001b[0m\u001b[0m\n\u001b[0;32m   1916\u001b[0m         merged_blocks = _merge_blocks(\n\u001b[1;32m-> 1917\u001b[1;33m             \u001b[0mlist\u001b[0m\u001b[1;33m(\u001b[0m\u001b[0mgroup_blocks\u001b[0m\u001b[1;33m)\u001b[0m\u001b[1;33m,\u001b[0m \u001b[0mdtype\u001b[0m\u001b[1;33m=\u001b[0m\u001b[0mdtype\u001b[0m\u001b[1;33m,\u001b[0m \u001b[0mcan_consolidate\u001b[0m\u001b[1;33m=\u001b[0m\u001b[0m_can_consolidate\u001b[0m\u001b[1;33m\u001b[0m\u001b[1;33m\u001b[0m\u001b[0m\n\u001b[0m\u001b[0;32m   1918\u001b[0m         )\n\u001b[0;32m   1919\u001b[0m         \u001b[0mnew_blocks\u001b[0m \u001b[1;33m=\u001b[0m \u001b[0mextend_blocks\u001b[0m\u001b[1;33m(\u001b[0m\u001b[0mmerged_blocks\u001b[0m\u001b[1;33m,\u001b[0m \u001b[0mnew_blocks\u001b[0m\u001b[1;33m)\u001b[0m\u001b[1;33m\u001b[0m\u001b[1;33m\u001b[0m\u001b[0m\n",
      "\u001b[1;32mc:\\users\\alija\\miniconda3\\lib\\site-packages\\pandas\\core\\internals\\managers.py\u001b[0m in \u001b[0;36m_merge_blocks\u001b[1;34m(blocks, dtype, can_consolidate)\u001b[0m\n\u001b[0;32m   1937\u001b[0m         \u001b[1;31m# combination of those slices is a slice, too.\u001b[0m\u001b[1;33m\u001b[0m\u001b[1;33m\u001b[0m\u001b[1;33m\u001b[0m\u001b[0m\n\u001b[0;32m   1938\u001b[0m         \u001b[0mnew_mgr_locs\u001b[0m \u001b[1;33m=\u001b[0m \u001b[0mnp\u001b[0m\u001b[1;33m.\u001b[0m\u001b[0mconcatenate\u001b[0m\u001b[1;33m(\u001b[0m\u001b[1;33m[\u001b[0m\u001b[0mb\u001b[0m\u001b[1;33m.\u001b[0m\u001b[0mmgr_locs\u001b[0m\u001b[1;33m.\u001b[0m\u001b[0mas_array\u001b[0m \u001b[1;32mfor\u001b[0m \u001b[0mb\u001b[0m \u001b[1;32min\u001b[0m \u001b[0mblocks\u001b[0m\u001b[1;33m]\u001b[0m\u001b[1;33m)\u001b[0m\u001b[1;33m\u001b[0m\u001b[1;33m\u001b[0m\u001b[0m\n\u001b[1;32m-> 1939\u001b[1;33m         \u001b[0mnew_values\u001b[0m \u001b[1;33m=\u001b[0m \u001b[0mnp\u001b[0m\u001b[1;33m.\u001b[0m\u001b[0mvstack\u001b[0m\u001b[1;33m(\u001b[0m\u001b[1;33m[\u001b[0m\u001b[0mb\u001b[0m\u001b[1;33m.\u001b[0m\u001b[0mvalues\u001b[0m \u001b[1;32mfor\u001b[0m \u001b[0mb\u001b[0m \u001b[1;32min\u001b[0m \u001b[0mblocks\u001b[0m\u001b[1;33m]\u001b[0m\u001b[1;33m)\u001b[0m\u001b[1;33m\u001b[0m\u001b[1;33m\u001b[0m\u001b[0m\n\u001b[0m\u001b[0;32m   1940\u001b[0m \u001b[1;33m\u001b[0m\u001b[0m\n\u001b[0;32m   1941\u001b[0m         \u001b[0margsort\u001b[0m \u001b[1;33m=\u001b[0m \u001b[0mnp\u001b[0m\u001b[1;33m.\u001b[0m\u001b[0margsort\u001b[0m\u001b[1;33m(\u001b[0m\u001b[0mnew_mgr_locs\u001b[0m\u001b[1;33m)\u001b[0m\u001b[1;33m\u001b[0m\u001b[1;33m\u001b[0m\u001b[0m\n",
      "\u001b[1;32m<__array_function__ internals>\u001b[0m in \u001b[0;36mvstack\u001b[1;34m(*args, **kwargs)\u001b[0m\n",
      "\u001b[1;32mc:\\users\\alija\\miniconda3\\lib\\site-packages\\numpy\\core\\shape_base.py\u001b[0m in \u001b[0;36mvstack\u001b[1;34m(tup)\u001b[0m\n\u001b[0;32m    281\u001b[0m     \u001b[1;32mif\u001b[0m \u001b[1;32mnot\u001b[0m \u001b[0misinstance\u001b[0m\u001b[1;33m(\u001b[0m\u001b[0marrs\u001b[0m\u001b[1;33m,\u001b[0m \u001b[0mlist\u001b[0m\u001b[1;33m)\u001b[0m\u001b[1;33m:\u001b[0m\u001b[1;33m\u001b[0m\u001b[1;33m\u001b[0m\u001b[0m\n\u001b[0;32m    282\u001b[0m         \u001b[0marrs\u001b[0m \u001b[1;33m=\u001b[0m \u001b[1;33m[\u001b[0m\u001b[0marrs\u001b[0m\u001b[1;33m]\u001b[0m\u001b[1;33m\u001b[0m\u001b[1;33m\u001b[0m\u001b[0m\n\u001b[1;32m--> 283\u001b[1;33m     \u001b[1;32mreturn\u001b[0m \u001b[0m_nx\u001b[0m\u001b[1;33m.\u001b[0m\u001b[0mconcatenate\u001b[0m\u001b[1;33m(\u001b[0m\u001b[0marrs\u001b[0m\u001b[1;33m,\u001b[0m \u001b[1;36m0\u001b[0m\u001b[1;33m)\u001b[0m\u001b[1;33m\u001b[0m\u001b[1;33m\u001b[0m\u001b[0m\n\u001b[0m\u001b[0;32m    284\u001b[0m \u001b[1;33m\u001b[0m\u001b[0m\n\u001b[0;32m    285\u001b[0m \u001b[1;33m\u001b[0m\u001b[0m\n",
      "\u001b[1;32m<__array_function__ internals>\u001b[0m in \u001b[0;36mconcatenate\u001b[1;34m(*args, **kwargs)\u001b[0m\n",
      "\u001b[1;31mKeyboardInterrupt\u001b[0m: "
     ]
    }
   ],
   "source": [
    "import datetime\n",
    "\n",
    "for message in consumer:\n",
    "    message = message.value\n",
    "    if 'content' not in message:\n",
    "        continue\n",
    "    \n",
    "    #Inserting data to Elastic Search:\n",
    "    try:\n",
    "        elasticSearch.index(index='twitter_bors',doc_type='twitt',body = message, id =message['id'])\n",
    "    except:\n",
    "        print(\"An exception occurred\")\n",
    "    \n",
    "    \n",
    "    #At the same time, inserting data to data frame to be injected to Cassandra tables:\n",
    "    id=int(message['id'])\n",
    "    content=message['content']\n",
    "    date = datetime.datetime.strptime(message['sendTimePersian'], \"%Y/%m/%d  %H:%M\")\n",
    "    year=date.year\n",
    "    month=date.month\n",
    "    day=date.day\n",
    "    hour=date.hour\n",
    "    minute=date.minute\n",
    "    \n",
    "    for h in message['hashtags']:\n",
    "        new_row={'hashtag':h,'id':id,'year':year,'month':month,'day':day,'hour':hour,'minute':minute,}\n",
    "        df=df.append(new_row, ignore_index=True)\n",
    "        \n",
    "    producer.send('statistics', key=message['id'],value=message)\n"
   ]
  },
  {
   "cell_type": "code",
   "execution_count": 11,
   "id": "db874c45",
   "metadata": {},
   "outputs": [
    {
     "data": {
      "text/html": [
       "<div>\n",
       "<style scoped>\n",
       "    .dataframe tbody tr th:only-of-type {\n",
       "        vertical-align: middle;\n",
       "    }\n",
       "\n",
       "    .dataframe tbody tr th {\n",
       "        vertical-align: top;\n",
       "    }\n",
       "\n",
       "    .dataframe thead th {\n",
       "        text-align: right;\n",
       "    }\n",
       "</style>\n",
       "<table border=\"1\" class=\"dataframe\">\n",
       "  <thead>\n",
       "    <tr style=\"text-align: right;\">\n",
       "      <th></th>\n",
       "      <th>hashtag</th>\n",
       "      <th>id</th>\n",
       "      <th>year</th>\n",
       "      <th>month</th>\n",
       "      <th>day</th>\n",
       "      <th>hour</th>\n",
       "      <th>minute</th>\n",
       "    </tr>\n",
       "  </thead>\n",
       "  <tbody>\n",
       "    <tr>\n",
       "      <th>0</th>\n",
       "      <td>شاخص_بورس</td>\n",
       "      <td>327959859</td>\n",
       "      <td>1400</td>\n",
       "      <td>4</td>\n",
       "      <td>28</td>\n",
       "      <td>14</td>\n",
       "      <td>43</td>\n",
       "    </tr>\n",
       "    <tr>\n",
       "      <th>1</th>\n",
       "      <td>فروی</td>\n",
       "      <td>327959717</td>\n",
       "      <td>1400</td>\n",
       "      <td>4</td>\n",
       "      <td>28</td>\n",
       "      <td>14</td>\n",
       "      <td>41</td>\n",
       "    </tr>\n",
       "    <tr>\n",
       "      <th>2</th>\n",
       "      <td>کاما</td>\n",
       "      <td>327959709</td>\n",
       "      <td>1400</td>\n",
       "      <td>4</td>\n",
       "      <td>28</td>\n",
       "      <td>14</td>\n",
       "      <td>41</td>\n",
       "    </tr>\n",
       "    <tr>\n",
       "      <th>3</th>\n",
       "      <td>نوین</td>\n",
       "      <td>327959667</td>\n",
       "      <td>1400</td>\n",
       "      <td>4</td>\n",
       "      <td>28</td>\n",
       "      <td>14</td>\n",
       "      <td>41</td>\n",
       "    </tr>\n",
       "    <tr>\n",
       "      <th>4</th>\n",
       "      <td>خاور</td>\n",
       "      <td>327959661</td>\n",
       "      <td>1400</td>\n",
       "      <td>4</td>\n",
       "      <td>28</td>\n",
       "      <td>14</td>\n",
       "      <td>41</td>\n",
       "    </tr>\n",
       "    <tr>\n",
       "      <th>...</th>\n",
       "      <td>...</td>\n",
       "      <td>...</td>\n",
       "      <td>...</td>\n",
       "      <td>...</td>\n",
       "      <td>...</td>\n",
       "      <td>...</td>\n",
       "      <td>...</td>\n",
       "    </tr>\n",
       "    <tr>\n",
       "      <th>101</th>\n",
       "      <td>خپارس</td>\n",
       "      <td>327960374</td>\n",
       "      <td>1400</td>\n",
       "      <td>4</td>\n",
       "      <td>28</td>\n",
       "      <td>14</td>\n",
       "      <td>45</td>\n",
       "    </tr>\n",
       "    <tr>\n",
       "      <th>102</th>\n",
       "      <td>سپید</td>\n",
       "      <td>327960329</td>\n",
       "      <td>1400</td>\n",
       "      <td>4</td>\n",
       "      <td>28</td>\n",
       "      <td>14</td>\n",
       "      <td>45</td>\n",
       "    </tr>\n",
       "    <tr>\n",
       "      <th>103</th>\n",
       "      <td>وخارزم</td>\n",
       "      <td>327960322</td>\n",
       "      <td>1400</td>\n",
       "      <td>4</td>\n",
       "      <td>28</td>\n",
       "      <td>14</td>\n",
       "      <td>45</td>\n",
       "    </tr>\n",
       "    <tr>\n",
       "      <th>104</th>\n",
       "      <td>جم</td>\n",
       "      <td>327960318</td>\n",
       "      <td>1400</td>\n",
       "      <td>4</td>\n",
       "      <td>28</td>\n",
       "      <td>14</td>\n",
       "      <td>45</td>\n",
       "    </tr>\n",
       "    <tr>\n",
       "      <th>105</th>\n",
       "      <td>خاور</td>\n",
       "      <td>327960279</td>\n",
       "      <td>1400</td>\n",
       "      <td>4</td>\n",
       "      <td>28</td>\n",
       "      <td>14</td>\n",
       "      <td>45</td>\n",
       "    </tr>\n",
       "  </tbody>\n",
       "</table>\n",
       "<p>106 rows × 7 columns</p>\n",
       "</div>"
      ],
      "text/plain": [
       "       hashtag         id  year month day hour minute\n",
       "0    شاخص_بورس  327959859  1400     4  28   14     43\n",
       "1         فروی  327959717  1400     4  28   14     41\n",
       "2         کاما  327959709  1400     4  28   14     41\n",
       "3         نوین  327959667  1400     4  28   14     41\n",
       "4         خاور  327959661  1400     4  28   14     41\n",
       "..         ...        ...   ...   ...  ..  ...    ...\n",
       "101      خپارس  327960374  1400     4  28   14     45\n",
       "102       سپید  327960329  1400     4  28   14     45\n",
       "103     وخارزم  327960322  1400     4  28   14     45\n",
       "104         جم  327960318  1400     4  28   14     45\n",
       "105       خاور  327960279  1400     4  28   14     45\n",
       "\n",
       "[106 rows x 7 columns]"
      ]
     },
     "execution_count": 11,
     "metadata": {},
     "output_type": "execute_result"
    }
   ],
   "source": [
    "df"
   ]
  },
  {
   "cell_type": "code",
   "execution_count": 10,
   "id": "4fba2a7c",
   "metadata": {
    "collapsed": true
   },
   "outputs": [
    {
     "data": {
      "text/html": [
       "<div>\n",
       "<style scoped>\n",
       "    .dataframe tbody tr th:only-of-type {\n",
       "        vertical-align: middle;\n",
       "    }\n",
       "\n",
       "    .dataframe tbody tr th {\n",
       "        vertical-align: top;\n",
       "    }\n",
       "\n",
       "    .dataframe thead th {\n",
       "        text-align: right;\n",
       "    }\n",
       "</style>\n",
       "<table border=\"1\" class=\"dataframe\">\n",
       "  <thead>\n",
       "    <tr style=\"text-align: right;\">\n",
       "      <th></th>\n",
       "      <th>hashtag</th>\n",
       "      <th>id</th>\n",
       "      <th>year</th>\n",
       "      <th>month</th>\n",
       "      <th>day</th>\n",
       "      <th>hour</th>\n",
       "      <th>minute</th>\n",
       "    </tr>\n",
       "  </thead>\n",
       "  <tbody>\n",
       "    <tr>\n",
       "      <th>1</th>\n",
       "      <td>شپلی</td>\n",
       "      <td>327955297</td>\n",
       "      <td>1400</td>\n",
       "      <td>4</td>\n",
       "      <td>28</td>\n",
       "      <td>14</td>\n",
       "      <td>9</td>\n",
       "    </tr>\n",
       "    <tr>\n",
       "      <th>6</th>\n",
       "      <td>شپلی</td>\n",
       "      <td>327955200</td>\n",
       "      <td>1400</td>\n",
       "      <td>4</td>\n",
       "      <td>28</td>\n",
       "      <td>14</td>\n",
       "      <td>8</td>\n",
       "    </tr>\n",
       "    <tr>\n",
       "      <th>11</th>\n",
       "      <td>شپلی</td>\n",
       "      <td>327955297</td>\n",
       "      <td>1400</td>\n",
       "      <td>4</td>\n",
       "      <td>28</td>\n",
       "      <td>14</td>\n",
       "      <td>9</td>\n",
       "    </tr>\n",
       "    <tr>\n",
       "      <th>16</th>\n",
       "      <td>شپلی</td>\n",
       "      <td>327955200</td>\n",
       "      <td>1400</td>\n",
       "      <td>4</td>\n",
       "      <td>28</td>\n",
       "      <td>14</td>\n",
       "      <td>8</td>\n",
       "    </tr>\n",
       "    <tr>\n",
       "      <th>19</th>\n",
       "      <td>شپلی</td>\n",
       "      <td>327955297</td>\n",
       "      <td>1400</td>\n",
       "      <td>4</td>\n",
       "      <td>28</td>\n",
       "      <td>14</td>\n",
       "      <td>9</td>\n",
       "    </tr>\n",
       "    <tr>\n",
       "      <th>24</th>\n",
       "      <td>شپلی</td>\n",
       "      <td>327955200</td>\n",
       "      <td>1400</td>\n",
       "      <td>4</td>\n",
       "      <td>28</td>\n",
       "      <td>14</td>\n",
       "      <td>8</td>\n",
       "    </tr>\n",
       "    <tr>\n",
       "      <th>27</th>\n",
       "      <td>شپلی</td>\n",
       "      <td>327955297</td>\n",
       "      <td>1400</td>\n",
       "      <td>4</td>\n",
       "      <td>28</td>\n",
       "      <td>14</td>\n",
       "      <td>9</td>\n",
       "    </tr>\n",
       "    <tr>\n",
       "      <th>32</th>\n",
       "      <td>شپلی</td>\n",
       "      <td>327955200</td>\n",
       "      <td>1400</td>\n",
       "      <td>4</td>\n",
       "      <td>28</td>\n",
       "      <td>14</td>\n",
       "      <td>8</td>\n",
       "    </tr>\n",
       "    <tr>\n",
       "      <th>35</th>\n",
       "      <td>شپلی</td>\n",
       "      <td>327955297</td>\n",
       "      <td>1400</td>\n",
       "      <td>4</td>\n",
       "      <td>28</td>\n",
       "      <td>14</td>\n",
       "      <td>9</td>\n",
       "    </tr>\n",
       "    <tr>\n",
       "      <th>40</th>\n",
       "      <td>شپلی</td>\n",
       "      <td>327955200</td>\n",
       "      <td>1400</td>\n",
       "      <td>4</td>\n",
       "      <td>28</td>\n",
       "      <td>14</td>\n",
       "      <td>8</td>\n",
       "    </tr>\n",
       "  </tbody>\n",
       "</table>\n",
       "</div>"
      ],
      "text/plain": [
       "   hashtag         id  year month day hour minute\n",
       "1     شپلی  327955297  1400     4  28   14      9\n",
       "6     شپلی  327955200  1400     4  28   14      8\n",
       "11    شپلی  327955297  1400     4  28   14      9\n",
       "16    شپلی  327955200  1400     4  28   14      8\n",
       "19    شپلی  327955297  1400     4  28   14      9\n",
       "24    شپلی  327955200  1400     4  28   14      8\n",
       "27    شپلی  327955297  1400     4  28   14      9\n",
       "32    شپلی  327955200  1400     4  28   14      8\n",
       "35    شپلی  327955297  1400     4  28   14      9\n",
       "40    شپلی  327955200  1400     4  28   14      8"
      ]
     },
     "execution_count": 10,
     "metadata": {},
     "output_type": "execute_result"
    }
   ],
   "source": [
    "df[df.iloc[:,0]=='شپلی']"
   ]
  },
  {
   "cell_type": "markdown",
   "id": "76fd1f88",
   "metadata": {},
   "source": [
    "# Elastic Search Sample Queries"
   ]
  },
  {
   "cell_type": "code",
   "execution_count": 12,
   "id": "cffddcaf",
   "metadata": {},
   "outputs": [
    {
     "name": "stdout",
     "output_type": "stream",
     "text": [
      "{'id': '327960279', 'sendTime': '2021-07-19T10:15:22Z', 'sendTimePersian': '1400/04/28 14:45', 'senderName': 'اماتور  موفق', 'senderUsername': 'amin_invesment', 'senderProfileImage': 'default', 'content': '#خاور \\nنمیشه که حد اقل در دو سال گذشته تمام سهام های خودرویی هم از تجهیزات هم از ساختمان و  هم از زمین افزایش سرمایه بدن اما خاور بخش تجهیزاتش حذف بشه حداقل باید گفت نهایت کم لطفی است در حق سهام داران خرد\\n و اگر با بد بینی نگاه کنیم برنامه هماهنگ به نفع حقوقی ها شرکت ایرانخودرو و تلیاردر ها است  با رنگ و لعاب قانون', 'type': 'twit', 'scoredPostDate': '1626689785435', 'finalPullDatePersian': '', 'hashtags': ['خاور'], 'links': [], 'keywords': ['خاور', 'حقوقی\\u200cها', 'حق', 'حذف', 'تلیاردر\\u200cها', 'تجهیزاتش', 'تجهیزات', 'بینی', 'برنامه', 'بدن', 'بد', 'ایرانخودرو', 'اقل', 'گذشته']}\n"
     ]
    }
   ],
   "source": [
    "res = elasticSearch.get(index=\"twitter_bors\", id='327960279')\n",
    "print(res['_source'])"
   ]
  },
  {
   "cell_type": "code",
   "execution_count": 13,
   "id": "25739664",
   "metadata": {},
   "outputs": [
    {
     "name": "stdout",
     "output_type": "stream",
     "text": [
      "Got 2 Hits:\n",
      "{'id': '327957755', 'sendTime': '2021-07-19T09:57:45Z', 'sendTimePersian': '1400/04/28 14:27', 'senderName': 'shirkohb', 'senderUsername': 'shirkohb', 'senderProfileImage': 'af832b29-7649-4923-90ab-95444fd7acc0', 'content': '#خودکفا \\nبورس شده گدا خونه ، یه عده گدا گشنه با چندرغاز پول اومدن اینجا ، شب و روز بیست و چهار ساعت گله ، طعنه ، بدو بیراه گفتن به این و اون ، همینه عزیز من بازار ، شما که دو تومن تو جیبات نیس غلط کردی اومدی اینجا ، شرکت با این همه عظمت و تشکیلات هیچ کاری نداره بیاد به امثال شماها جواب بده که چرا پونصد هزار تومنت نشده یه تومن ... برو عزیز من اینجا خودتو اذیت نکن کارخونه پولسازی نیس که ... برو بساط دس فروشی را بنداز بیشتر سود می\\u200cکنی ... دیگه نه خودتو اذیت کن نه دیگران و ... اینجا کسانی هستند پانزده بیست ساله تو بورس نمیان حتی تحلیلم بزارن ... آدم یه زره فکر کنه میبینه رسیدن به هر چیزی زمان میخواد ... صبر نداری برو ماریو که بهت گفتم و انجام بده ...', 'type': 'twit', 'scoredPostDate': '1626688714007', 'finalPullDatePersian': '', 'hashtags': ['خودکفا'], 'links': [], 'keywords': ['آدم', 'امثال', 'انجام', 'اون', 'بازار', 'بدو', 'بساط', 'بنداز', 'بهت', 'بیراه', 'تحلیلم', 'تشکیلات', 'تومنت', 'جواب', 'جیبات', 'خونه', 'دس', 'دیگه', 'روز', 'زره', 'زمان', 'ساعت', 'بورس']}\n",
      "{'id': '327957732', 'sendTime': '2021-07-19T09:57:38Z', 'sendTimePersian': '1400/04/28 14:27', 'senderName': 'Korush', 'senderUsername': 'korush123456789', 'senderProfileImage': '952ab015-25f0-404d-b04f-f91c54bde8e9', 'content': '#کاما شیطون اول سحر افشا زد \\nیه استارت پر قدرت', 'type': 'twit', 'scoredPostDate': '1626688665182', 'finalPullDatePersian': '', 'hashtags': ['کاما'], 'links': [], 'keywords': ['شیطون', 'قدرت', 'یه']}\n"
     ]
    }
   ],
   "source": [
    "res = elasticSearch.search(index=\"twitter_bors\", body={\"query\": {\"ids\": { 'values': [327957732,327957755]}}})\n",
    "print(\"Got %d Hits:\" % res['hits']['total']['value'])\n",
    "for hit in res['hits']['hits']:\n",
    "    print(hit['_source'])"
   ]
  },
  {
   "cell_type": "markdown",
   "id": "b34dbafc",
   "metadata": {},
   "source": [
    "# تمام پست های مربوط به یک هشتگ"
   ]
  },
  {
   "cell_type": "code",
   "execution_count": 14,
   "id": "85527532",
   "metadata": {},
   "outputs": [
    {
     "data": {
      "text/plain": [
       "<cassandra.cluster.ResultSet at 0x1dd641c07c8>"
      ]
     },
     "execution_count": 14,
     "metadata": {},
     "output_type": "execute_result"
    }
   ],
   "source": [
    "query=\"CREATE TABLE IF NOT EXISTS mydb.hashtag(\\\n",
    "hashtag text,\\\n",
    "id int,\\\n",
    "PRIMARY KEY (hashtag, id)\\\n",
    ");\"\n",
    "\n",
    "session.execute(query)"
   ]
  },
  {
   "cell_type": "code",
   "execution_count": 15,
   "id": "9db1fbed",
   "metadata": {},
   "outputs": [
    {
     "data": {
      "text/plain": [
       "<cassandra.cluster.ResultSet at 0x1dd645edbc8>"
      ]
     },
     "execution_count": 15,
     "metadata": {},
     "output_type": "execute_result"
    }
   ],
   "source": [
    "session.execute(\"TRUNCATE mydb.hashtag;\")"
   ]
  },
  {
   "cell_type": "code",
   "execution_count": 16,
   "id": "f2351fbc",
   "metadata": {},
   "outputs": [
    {
     "data": {
      "text/plain": [
       "<cassandra.cluster.ResultSet at 0x1dd64419b88>"
      ]
     },
     "execution_count": 16,
     "metadata": {},
     "output_type": "execute_result"
    }
   ],
   "source": [
    "import pandas as pd\n",
    "import numpy as np\n",
    "from cassandra.query import BatchStatement\n",
    "from cassandra import ConsistencyLevel\n",
    "\n",
    "ps = session.prepare(\"INSERT INTO mydb.hashtag (hashtag,id) VALUES (?, ?)\")\n",
    "batch = BatchStatement(consistency_level=ConsistencyLevel.QUORUM)\n",
    "\n",
    "for i in range(np.int32(np.floor(df.shape[0]/100))):\n",
    "    batch = BatchStatement(consistency_level=ConsistencyLevel.QUORUM)\n",
    "    for j in range(100):\n",
    "        batch.add(ps,(df.iloc[i*100+j,0], df.iloc[i*100+j,1]))\n",
    "    session.execute(batch)\n",
    "\n",
    "batch = BatchStatement(consistency_level=ConsistencyLevel.QUORUM)\n",
    "for i in range(np.int32(np.floor(df.shape[0]/100))*100,df.shape[0]):\n",
    "    batch.add(ps,(df.iloc[i,0], df.iloc[i,1]))\n",
    "    \n",
    "session.execute(batch)"
   ]
  },
  {
   "cell_type": "code",
   "execution_count": 17,
   "id": "e97217a7",
   "metadata": {
    "scrolled": true
   },
   "outputs": [
    {
     "name": "stdout",
     "output_type": "stream",
     "text": [
      "Row(hashtag='شپلی', id=327960011)\n",
      "Row(hashtag='غسالم', id=327960387)\n",
      "Row(hashtag='فروی', id=327959717)\n",
      "Row(hashtag='سپید', id=327960329)\n",
      "Row(hashtag='برکت', id=327959597)\n",
      "Row(hashtag='نوین', id=327959667)\n",
      "Row(hashtag='خپارس', id=327960374)\n",
      "Row(hashtag='شاخص_بورس', id=327959859)\n",
      "Row(hashtag='شاخص_بورس', id=327960124)\n",
      "Row(hashtag='غشهداب', id=327960132)\n",
      "Row(hashtag='کاما', id=327959709)\n",
      "Row(hashtag='جم', id=327960318)\n",
      "Row(hashtag='وخارزم', id=327960322)\n",
      "Row(hashtag='خودرو', id=327959563)\n",
      "Row(hashtag='خودرو', id=327959981)\n",
      "Row(hashtag='خاور', id=327959661)\n",
      "Row(hashtag='خاور', id=327960279)\n",
      "Row(hashtag='دی', id=327960164)\n"
     ]
    }
   ],
   "source": [
    "result=session.execute(\"select * from mydb.hashtag \")\n",
    "for row in result:\n",
    "    print(row)"
   ]
  },
  {
   "cell_type": "code",
   "execution_count": 18,
   "id": "34116a25",
   "metadata": {},
   "outputs": [
    {
     "name": "stdout",
     "output_type": "stream",
     "text": [
      "327959563\n",
      "327959981\n"
     ]
    }
   ],
   "source": [
    "result=session.execute(\"select * from mydb.hashtag where hashtag='خودرو'\") #\n",
    "ids_list=[]\n",
    "for row in result:\n",
    "    ids_list.append(row.id)\n",
    "    print(row.id)"
   ]
  },
  {
   "cell_type": "code",
   "execution_count": 19,
   "id": "68fbe76a",
   "metadata": {},
   "outputs": [
    {
     "name": "stdout",
     "output_type": "stream",
     "text": [
      "Got 2 Hits:\n",
      "{'id': '327959563', 'sendTime': '2021-07-19T10:10:24Z', 'sendTimePersian': '1400/04/28 14:40', 'senderName': 'roham', 'senderUsername': 'ramgol', 'senderProfileImage': '4e660afd-ea12-44ad-9d44-f7bd555d0bc6', 'content': '#خودرو با قیمت حدود ۲۵۰ باز میشه و بعدش تا حدود ۱۶۰ تومن ریزش داره مجددا رشد اما آهسته و پیوسته', 'type': 'twit', 'scoredPostDate': '1626689424655', 'finalPullDatePersian': '', 'hashtags': ['خودرو'], 'links': [], 'keywords': ['مجددا', 'پیوسته', '۱۶۰', '۲۵۰']}\n",
      "{'id': '327959981', 'sendTime': '2021-07-19T10:13:52Z', 'sendTimePersian': '1400/04/28 14:43', 'senderName': 'roham', 'senderUsername': 'ramgol', 'senderProfileImage': '4e660afd-ea12-44ad-9d44-f7bd555d0bc6', 'content': '#خودرو بورس تا دوشنبه آینده تعطیل شد....', 'type': 'twit', 'scoredPostDate': '1626689625994', 'finalPullDatePersian': '', 'hashtags': ['خودرو'], 'links': [], 'keywords': ['دوشنبه', '…', 'بورس']}\n"
     ]
    }
   ],
   "source": [
    "res = elasticSearch.search(index=\"twitter_bors\", body={\"query\": {\"ids\": { 'values': ids_list}}})\n",
    "print(\"Got %d Hits:\" % res['hits']['total']['value'])\n",
    "for hit in res['hits']['hits']:\n",
    "    print(hit['_source'])"
   ]
  },
  {
   "cell_type": "code",
   "execution_count": 40,
   "id": "4c56d18c",
   "metadata": {},
   "outputs": [
    {
     "data": {
      "text/plain": [
       "[327957732]"
      ]
     },
     "execution_count": 40,
     "metadata": {},
     "output_type": "execute_result"
    }
   ],
   "source": [
    "ids_list"
   ]
  },
  {
   "cell_type": "markdown",
   "id": "749b4835",
   "metadata": {},
   "source": [
    "# تمام پست های مربوط به یک هشتگ در یک بازه زمانی خاص"
   ]
  },
  {
   "cell_type": "code",
   "execution_count": 20,
   "id": "1a680cf0",
   "metadata": {},
   "outputs": [
    {
     "data": {
      "text/plain": [
       "<cassandra.cluster.ResultSet at 0x1dd641be248>"
      ]
     },
     "execution_count": 20,
     "metadata": {},
     "output_type": "execute_result"
    }
   ],
   "source": [
    "query=\"CREATE TABLE IF NOT EXISTS mydb.hashtag_interval(\\\n",
    "hashtag text,\\\n",
    "day int,\\\n",
    "hour int,\\\n",
    "minute int,\\\n",
    "id int,\\\n",
    "PRIMARY KEY (hashtag, day, hour, minute, id)\\\n",
    ");\"\n",
    "\n",
    "session.execute(query)"
   ]
  },
  {
   "cell_type": "code",
   "execution_count": 21,
   "id": "9f078db4",
   "metadata": {},
   "outputs": [
    {
     "data": {
      "text/plain": [
       "<cassandra.cluster.ResultSet at 0x1dd645ed9c8>"
      ]
     },
     "execution_count": 21,
     "metadata": {},
     "output_type": "execute_result"
    }
   ],
   "source": [
    "session.execute(\"TRUNCATE mydb.hashtag_interval;\")"
   ]
  },
  {
   "cell_type": "code",
   "execution_count": 22,
   "id": "953409a6",
   "metadata": {},
   "outputs": [
    {
     "data": {
      "text/plain": [
       "<cassandra.cluster.ResultSet at 0x1dd641c28c8>"
      ]
     },
     "execution_count": 22,
     "metadata": {},
     "output_type": "execute_result"
    }
   ],
   "source": [
    "import pandas as pd\n",
    "import numpy as np\n",
    "from cassandra.query import BatchStatement\n",
    "from cassandra import ConsistencyLevel\n",
    "\n",
    "ps = session.prepare(\"INSERT INTO mydb.hashtag_interval (hashtag, day, hour, minute, id) VALUES (?, ?, ?, ?, ?)\")\n",
    "batch = BatchStatement(consistency_level=ConsistencyLevel.QUORUM)\n",
    "\n",
    "for i in range(np.int32(np.floor(df.shape[0]/100))):\n",
    "    batch = BatchStatement(consistency_level=ConsistencyLevel.QUORUM)\n",
    "    for j in range(100):\n",
    "        batch.add(ps,(df.iloc[i*100+j,0], df.iloc[i*100+j,4], df.iloc[i*100+j,5], df.iloc[i*100+j,6], df.iloc[i*100+j,1]))\n",
    "    session.execute(batch)\n",
    "\n",
    "batch = BatchStatement(consistency_level=ConsistencyLevel.QUORUM)\n",
    "for i in range(np.int32(np.floor(df.shape[0]/100))*100,df.shape[0]):\n",
    "    batch.add(ps,(df.iloc[i,0], df.iloc[i,4], df.iloc[i,5], df.iloc[i,6], df.iloc[i,1]))\n",
    "    \n",
    "session.execute(batch)"
   ]
  },
  {
   "cell_type": "code",
   "execution_count": 23,
   "id": "c627941a",
   "metadata": {},
   "outputs": [
    {
     "name": "stdout",
     "output_type": "stream",
     "text": [
      "Row(hashtag='شپلی', day=28, hour=14, minute=44, id=327960011)\n",
      "Row(hashtag='غسالم', day=28, hour=14, minute=46, id=327960387)\n",
      "Row(hashtag='فروی', day=28, hour=14, minute=41, id=327959717)\n",
      "Row(hashtag='سپید', day=28, hour=14, minute=45, id=327960329)\n",
      "Row(hashtag='برکت', day=28, hour=14, minute=40, id=327959597)\n",
      "Row(hashtag='نوین', day=28, hour=14, minute=41, id=327959667)\n",
      "Row(hashtag='خپارس', day=28, hour=14, minute=45, id=327960374)\n",
      "Row(hashtag='شاخص_بورس', day=28, hour=14, minute=43, id=327959859)\n",
      "Row(hashtag='شاخص_بورس', day=28, hour=14, minute=44, id=327960124)\n",
      "Row(hashtag='غشهداب', day=28, hour=14, minute=44, id=327960132)\n",
      "Row(hashtag='کاما', day=28, hour=14, minute=41, id=327959709)\n",
      "Row(hashtag='جم', day=28, hour=14, minute=45, id=327960318)\n",
      "Row(hashtag='وخارزم', day=28, hour=14, minute=45, id=327960322)\n",
      "Row(hashtag='خودرو', day=28, hour=14, minute=40, id=327959563)\n",
      "Row(hashtag='خودرو', day=28, hour=14, minute=43, id=327959981)\n",
      "Row(hashtag='خاور', day=28, hour=14, minute=41, id=327959661)\n",
      "Row(hashtag='خاور', day=28, hour=14, minute=45, id=327960279)\n",
      "Row(hashtag='دی', day=28, hour=14, minute=45, id=327960164)\n"
     ]
    }
   ],
   "source": [
    "result=session.execute(\"select * from mydb.hashtag_interval \") #where hashtag='شپلی'\n",
    "for row in result:\n",
    "    print(row)"
   ]
  },
  {
   "cell_type": "code",
   "execution_count": 27,
   "id": "22c0041c",
   "metadata": {},
   "outputs": [
    {
     "name": "stdout",
     "output_type": "stream",
     "text": [
      "Row(hashtag='خودرو', day=28, hour=14, minute=43, id=327959981)\n"
     ]
    }
   ],
   "source": [
    "result=session.execute(\"select * from mydb.hashtag_interval where hashtag='خودرو' and day=28 and hour=14 and minute>41\") #\n",
    "ids_list=[]\n",
    "for row in result:\n",
    "    ids_list.append(row.id)\n",
    "    print(row)"
   ]
  },
  {
   "cell_type": "code",
   "execution_count": 28,
   "id": "2c6249e4",
   "metadata": {},
   "outputs": [
    {
     "name": "stdout",
     "output_type": "stream",
     "text": [
      "Got 1 Hits:\n",
      "{'id': '327959981', 'sendTime': '2021-07-19T10:13:52Z', 'sendTimePersian': '1400/04/28 14:43', 'senderName': 'roham', 'senderUsername': 'ramgol', 'senderProfileImage': '4e660afd-ea12-44ad-9d44-f7bd555d0bc6', 'content': '#خودرو بورس تا دوشنبه آینده تعطیل شد....', 'type': 'twit', 'scoredPostDate': '1626689625994', 'finalPullDatePersian': '', 'hashtags': ['خودرو'], 'links': [], 'keywords': ['دوشنبه', '…', 'بورس']}\n"
     ]
    }
   ],
   "source": [
    "res = elasticSearch.search(index=\"twitter_bors\", body={\"query\": {\"ids\": { 'values': ids_list}}})\n",
    "print(\"Got %d Hits:\" % res['hits']['total']['value'])\n",
    "for hit in res['hits']['hits']:\n",
    "    print(hit['_source'])"
   ]
  },
  {
   "cell_type": "markdown",
   "id": "a3a74a19",
   "metadata": {},
   "source": [
    "# تمام پست ها در یک بازه زمانی خاص"
   ]
  },
  {
   "cell_type": "code",
   "execution_count": 29,
   "id": "0cd5281c",
   "metadata": {},
   "outputs": [
    {
     "data": {
      "text/plain": [
       "<cassandra.cluster.ResultSet at 0x1dd6407d9c8>"
      ]
     },
     "execution_count": 29,
     "metadata": {},
     "output_type": "execute_result"
    }
   ],
   "source": [
    "query=\"CREATE TABLE IF NOT EXISTS mydb.total_interval(\\\n",
    "year int,\\\n",
    "month int,\\\n",
    "day int,\\\n",
    "hour int,\\\n",
    "minute int,\\\n",
    "id int,\\\n",
    "PRIMARY KEY ((year, month), day, hour, minute, id)\\\n",
    ");\"\n",
    "\n",
    "session.execute(query)"
   ]
  },
  {
   "cell_type": "code",
   "execution_count": 30,
   "id": "f188e0d2",
   "metadata": {},
   "outputs": [
    {
     "data": {
      "text/plain": [
       "<cassandra.cluster.ResultSet at 0x1dd641be288>"
      ]
     },
     "execution_count": 30,
     "metadata": {},
     "output_type": "execute_result"
    }
   ],
   "source": [
    "session.execute(\"TRUNCATE mydb.total_interval;\")\n",
    "# session.execute(\"drop table mydb.total_interval;\")"
   ]
  },
  {
   "cell_type": "code",
   "execution_count": 104,
   "id": "b33957c5",
   "metadata": {
    "collapsed": true
   },
   "outputs": [
    {
     "data": {
      "text/html": [
       "<div>\n",
       "<style scoped>\n",
       "    .dataframe tbody tr th:only-of-type {\n",
       "        vertical-align: middle;\n",
       "    }\n",
       "\n",
       "    .dataframe tbody tr th {\n",
       "        vertical-align: top;\n",
       "    }\n",
       "\n",
       "    .dataframe thead th {\n",
       "        text-align: right;\n",
       "    }\n",
       "</style>\n",
       "<table border=\"1\" class=\"dataframe\">\n",
       "  <thead>\n",
       "    <tr style=\"text-align: right;\">\n",
       "      <th></th>\n",
       "      <th>hashtag</th>\n",
       "      <th>id</th>\n",
       "      <th>year</th>\n",
       "      <th>month</th>\n",
       "      <th>day</th>\n",
       "      <th>hour</th>\n",
       "      <th>minute</th>\n",
       "    </tr>\n",
       "  </thead>\n",
       "  <tbody>\n",
       "    <tr>\n",
       "      <th>0</th>\n",
       "      <td>شلرد</td>\n",
       "      <td>321482732</td>\n",
       "      <td>1400</td>\n",
       "      <td>4</td>\n",
       "      <td>19</td>\n",
       "      <td>16</td>\n",
       "      <td>5</td>\n",
       "    </tr>\n",
       "    <tr>\n",
       "      <th>1</th>\n",
       "      <td>فاهواز</td>\n",
       "      <td>321482718</td>\n",
       "      <td>1400</td>\n",
       "      <td>4</td>\n",
       "      <td>19</td>\n",
       "      <td>16</td>\n",
       "      <td>5</td>\n",
       "    </tr>\n",
       "    <tr>\n",
       "      <th>2</th>\n",
       "      <td>شکف</td>\n",
       "      <td>321482707</td>\n",
       "      <td>1400</td>\n",
       "      <td>4</td>\n",
       "      <td>19</td>\n",
       "      <td>16</td>\n",
       "      <td>5</td>\n",
       "    </tr>\n",
       "    <tr>\n",
       "      <th>3</th>\n",
       "      <td>سیدکو</td>\n",
       "      <td>321482677</td>\n",
       "      <td>1400</td>\n",
       "      <td>4</td>\n",
       "      <td>19</td>\n",
       "      <td>16</td>\n",
       "      <td>4</td>\n",
       "    </tr>\n",
       "    <tr>\n",
       "      <th>4</th>\n",
       "      <td>آینده</td>\n",
       "      <td>321482618</td>\n",
       "      <td>1400</td>\n",
       "      <td>4</td>\n",
       "      <td>19</td>\n",
       "      <td>16</td>\n",
       "      <td>4</td>\n",
       "    </tr>\n",
       "  </tbody>\n",
       "</table>\n",
       "</div>"
      ],
      "text/plain": [
       "  hashtag         id  year month day hour minute\n",
       "0    شلرد  321482732  1400     4  19   16      5\n",
       "1  فاهواز  321482718  1400     4  19   16      5\n",
       "2     شکف  321482707  1400     4  19   16      5\n",
       "3   سیدکو  321482677  1400     4  19   16      4\n",
       "4   آینده  321482618  1400     4  19   16      4"
      ]
     },
     "execution_count": 104,
     "metadata": {},
     "output_type": "execute_result"
    }
   ],
   "source": [
    "df.head()"
   ]
  },
  {
   "cell_type": "code",
   "execution_count": 31,
   "id": "9d4bfd9b",
   "metadata": {},
   "outputs": [
    {
     "data": {
      "text/plain": [
       "<cassandra.cluster.ResultSet at 0x1dd63dc8dc8>"
      ]
     },
     "execution_count": 31,
     "metadata": {},
     "output_type": "execute_result"
    }
   ],
   "source": [
    "import pandas as pd\n",
    "import numpy as np\n",
    "from cassandra.query import BatchStatement\n",
    "from cassandra import ConsistencyLevel\n",
    "\n",
    "ps = session.prepare(\"INSERT INTO mydb.total_interval (year, month, day, hour, minute, id) VALUES (?, ?, ?, ?, ?, ?)\")\n",
    "batch = BatchStatement(consistency_level=ConsistencyLevel.QUORUM)\n",
    "\n",
    "for i in range(np.int32(np.floor(df.shape[0]/100))):\n",
    "    batch = BatchStatement(consistency_level=ConsistencyLevel.QUORUM)\n",
    "    for j in range(100):\n",
    "        batch.add(ps,(df.iloc[i*100+j,2], df.iloc[i*100+j,3], df.iloc[i*100+j,4], df.iloc[i*100+j,5], df.iloc[i*100+j,6], df.iloc[i*100+j,1]))\n",
    "    session.execute(batch)\n",
    "\n",
    "batch = BatchStatement(consistency_level=ConsistencyLevel.QUORUM)\n",
    "for i in range(np.int32(np.floor(df.shape[0]/100))*100,df.shape[0]):\n",
    "    batch.add(ps,(df.iloc[i,2], df.iloc[i,3], df.iloc[i,4], df.iloc[i,5], df.iloc[i,6], df.iloc[i,1]))\n",
    "    \n",
    "session.execute(batch)"
   ]
  },
  {
   "cell_type": "code",
   "execution_count": 32,
   "id": "17711829",
   "metadata": {},
   "outputs": [
    {
     "name": "stdout",
     "output_type": "stream",
     "text": [
      "Row(year=1400, month=4, day=28, hour=14, minute=40, id=327959563)\n",
      "Row(year=1400, month=4, day=28, hour=14, minute=40, id=327959597)\n",
      "Row(year=1400, month=4, day=28, hour=14, minute=41, id=327959661)\n",
      "Row(year=1400, month=4, day=28, hour=14, minute=41, id=327959667)\n",
      "Row(year=1400, month=4, day=28, hour=14, minute=41, id=327959709)\n",
      "Row(year=1400, month=4, day=28, hour=14, minute=41, id=327959717)\n",
      "Row(year=1400, month=4, day=28, hour=14, minute=43, id=327959859)\n",
      "Row(year=1400, month=4, day=28, hour=14, minute=43, id=327959981)\n",
      "Row(year=1400, month=4, day=28, hour=14, minute=44, id=327960011)\n",
      "Row(year=1400, month=4, day=28, hour=14, minute=44, id=327960124)\n",
      "Row(year=1400, month=4, day=28, hour=14, minute=44, id=327960132)\n",
      "Row(year=1400, month=4, day=28, hour=14, minute=45, id=327960164)\n",
      "Row(year=1400, month=4, day=28, hour=14, minute=45, id=327960279)\n",
      "Row(year=1400, month=4, day=28, hour=14, minute=45, id=327960318)\n",
      "Row(year=1400, month=4, day=28, hour=14, minute=45, id=327960322)\n",
      "Row(year=1400, month=4, day=28, hour=14, minute=45, id=327960329)\n",
      "Row(year=1400, month=4, day=28, hour=14, minute=45, id=327960374)\n",
      "Row(year=1400, month=4, day=28, hour=14, minute=46, id=327960387)\n"
     ]
    }
   ],
   "source": [
    "result=session.execute(\"select * from mydb.total_interval \") #where hashtag='شپلی'\n",
    "for row in result:\n",
    "    print(row)"
   ]
  },
  {
   "cell_type": "code",
   "execution_count": 33,
   "id": "b7273c91",
   "metadata": {},
   "outputs": [
    {
     "name": "stdout",
     "output_type": "stream",
     "text": [
      "Row(year=1400, month=4, day=28, hour=14, minute=40, id=327959563)\n",
      "Row(year=1400, month=4, day=28, hour=14, minute=40, id=327959597)\n",
      "Row(year=1400, month=4, day=28, hour=14, minute=41, id=327959661)\n",
      "Row(year=1400, month=4, day=28, hour=14, minute=41, id=327959667)\n",
      "Row(year=1400, month=4, day=28, hour=14, minute=41, id=327959709)\n",
      "Row(year=1400, month=4, day=28, hour=14, minute=41, id=327959717)\n",
      "Row(year=1400, month=4, day=28, hour=14, minute=43, id=327959859)\n",
      "Row(year=1400, month=4, day=28, hour=14, minute=43, id=327959981)\n",
      "Row(year=1400, month=4, day=28, hour=14, minute=44, id=327960011)\n",
      "Row(year=1400, month=4, day=28, hour=14, minute=44, id=327960124)\n",
      "Row(year=1400, month=4, day=28, hour=14, minute=44, id=327960132)\n",
      "Row(year=1400, month=4, day=28, hour=14, minute=45, id=327960164)\n",
      "Row(year=1400, month=4, day=28, hour=14, minute=45, id=327960279)\n",
      "Row(year=1400, month=4, day=28, hour=14, minute=45, id=327960318)\n",
      "Row(year=1400, month=4, day=28, hour=14, minute=45, id=327960322)\n",
      "Row(year=1400, month=4, day=28, hour=14, minute=45, id=327960329)\n",
      "Row(year=1400, month=4, day=28, hour=14, minute=45, id=327960374)\n",
      "Row(year=1400, month=4, day=28, hour=14, minute=46, id=327960387)\n"
     ]
    }
   ],
   "source": [
    "result=session.execute(\"select * from mydb.total_interval where year=1400 and month=4 \") #\n",
    "ids_list=[]\n",
    "for row in result:\n",
    "    ids_list.append(row.id)\n",
    "    print(row)"
   ]
  },
  {
   "cell_type": "code",
   "execution_count": 34,
   "id": "48ffdfaf",
   "metadata": {
    "collapsed": true
   },
   "outputs": [
    {
     "name": "stdout",
     "output_type": "stream",
     "text": [
      "Got 18 Hits:\n",
      "{'id': '327959597', 'sendTime': '2021-07-19T10:10:38Z', 'sendTimePersian': '1400/04/28 14:40', 'senderName': 'Yass', 'senderUsername': 'myass', 'senderProfileImage': 'default', 'content': '#برکت نمادهای برتر ورود و خروج پول\\u200cحقیقی در تاریخ ۲۸ تیرماه', 'type': 'twit', 'imageUid': '09823731-bf7a-4022-ab25-5d52818ac067', 'mediaContentType': 'image/jpeg', 'scoredPostDate': '1626689515293', 'finalPullDatePersian': '', 'hashtags': ['برکت'], 'links': [], 'keywords': ['نمادهای', 'ورود', 'پول\\u200cحقیقی', '۲۸']}\n",
      "{'id': '327959563', 'sendTime': '2021-07-19T10:10:24Z', 'sendTimePersian': '1400/04/28 14:40', 'senderName': 'roham', 'senderUsername': 'ramgol', 'senderProfileImage': '4e660afd-ea12-44ad-9d44-f7bd555d0bc6', 'content': '#خودرو با قیمت حدود ۲۵۰ باز میشه و بعدش تا حدود ۱۶۰ تومن ریزش داره مجددا رشد اما آهسته و پیوسته', 'type': 'twit', 'scoredPostDate': '1626689424655', 'finalPullDatePersian': '', 'hashtags': ['خودرو'], 'links': [], 'keywords': ['مجددا', 'پیوسته', '۱۶۰', '۲۵۰']}\n",
      "{'id': '327959709', 'sendTime': '2021-07-19T10:11:40Z', 'sendTimePersian': '1400/04/28 14:41', 'senderName': 'قزوین بورس', 'senderUsername': 'sagard', 'senderProfileImage': '4c431af0-c78f-4a53-a497-9f390554d1ec', 'content': '#کاما کاما ❤️', 'type': 'twit', 'scoredPostDate': '1626689500296', 'finalPullDatePersian': '', 'hashtags': ['کاما'], 'links': [], 'keywords': ['❤️']}\n",
      "{'id': '327959667', 'sendTime': '2021-07-19T10:11:19Z', 'sendTimePersian': '1400/04/28 14:41', 'senderName': 'درستکار', 'senderUsername': 'alireza12397', 'senderProfileImage': '27bf14e9-4a5e-4b2e-8731-c1bb32bc1ec3', 'content': '#نوین من امروز نامه نوشتم برای آقای رییسی و شرح ماوقع رو در رابطه با بازارگردان سهم نوشتم دوستان ازتون استدعا دارم شما هم هر اقدام حقوقی از دستتون برمیاد انجام بدین الان رو اینجور کارها خیلی حساس هستن به خاطر مسایل امنیتی، بازارگردان این سهم واقعا سهامدارها رو با کارهاش ترغیب به اعتراض و اغتشاش داره میکنه', 'type': 'twit', 'scoredPostDate': '1626689500489', 'finalPullDatePersian': '', 'hashtags': ['نوین'], 'links': [], 'keywords': ['ترغیب', 'بدین', 'اینجور', 'انجام', 'امنیتی', 'امروز', 'الان', 'اقدام', 'اغتشاش', 'اعتراض', 'استدعا', 'ازتون', 'کارهاش']}\n",
      "{'id': '327959661', 'sendTime': '2021-07-19T10:11:13Z', 'sendTimePersian': '1400/04/28 14:41', 'senderName': 'پ بورس', 'senderUsername': 'bazar2', 'senderProfileImage': 'f87f8cb3-c380-472b-aa7f-adcdb1306477', 'content': '#خاور دوستان با امور سهام تماس گرفتم گفت وقتی پیشنهاد دو مرحله ای در یک مجمع تصویب شود فقط افزایش دو مرحله به سهام های موجود در مجمع تعلق می گیرد نه به سهام های افزوده شده مرحله اول یعنی شما 9 برابر تعداد سهام را از همین تعداد سهام امروزتان دارید اینکه برخی دوستان می گویند اگر اولی 1000 درصد باشد و مبلغ اسمی حق تقدم را پرداخت نکنیم با مرحله دوم فقط 100 درصدتعداد سهام افزایش پیدا می کند اشتباه است.', 'type': 'twit', 'scoredPostDate': '1626689508093', 'finalPullDatePersian': '', 'hashtags': ['خاور'], 'links': [], 'keywords': ['.', 'درصد', 'حق', 'تماس', 'تقدم', 'تعلق', 'تصویب', 'اولی', 'امور', 'امروزتان', 'اسمی', '۹']}\n",
      "{'id': '327959981', 'sendTime': '2021-07-19T10:13:52Z', 'sendTimePersian': '1400/04/28 14:43', 'senderName': 'roham', 'senderUsername': 'ramgol', 'senderProfileImage': '4e660afd-ea12-44ad-9d44-f7bd555d0bc6', 'content': '#خودرو بورس تا دوشنبه آینده تعطیل شد....', 'type': 'twit', 'scoredPostDate': '1626689625994', 'finalPullDatePersian': '', 'hashtags': ['خودرو'], 'links': [], 'keywords': ['دوشنبه', '…', 'بورس']}\n",
      "{'id': '327959859', 'sendTime': '2021-07-19T10:13:05Z', 'sendTimePersian': '1400/04/28 14:43', 'senderName': 'برزگر', 'senderUsername': 'iranman2', 'senderProfileImage': 'default', 'content': '#شاخص_بورس \\nمنبع اصلی کرونا جنوب خونگرم ایران و تهرانه و جنوب که فعلا درگیر اعتراضاته و عملا تعطیله و دولت در تصمیمی مدبرانه تهران را تعطیل کرد تا ساکنین تهران پخش بشن تو شهرستانها و اونها رو هم آلوده بکنن.', 'type': 'twit', 'scoredPostDate': '1626689571120', 'finalPullDatePersian': '', 'hashtags': ['شاخص_بورس'], 'links': [], 'keywords': ['تعطیله', 'تعطیل', 'تصمیمی', 'ایران', 'اونها', 'اعتراضاته', 'اصلی', 'آلوده', 'دولت', 'کرونا']}\n",
      "{'id': '327959717', 'sendTime': '2021-07-19T10:11:41Z', 'sendTimePersian': '1400/04/28 14:41', 'senderName': 'mo2858', 'senderUsername': 'mo2858', 'senderProfileImage': 'default', 'content': '#فروی امروز بهترین روز فروی بود . بعد از اعمال سهام جایزه سهمی بتونه اینهمه حجم بخوره و درنهایت پایانی مثبت بده دیگه خودت ببین چه خواهد شد', 'type': 'twit', 'scoredPostDate': '1626689515026', 'finalPullDatePersian': '', 'hashtags': ['فروی'], 'links': [], 'keywords': ['حجم', 'جایزه', 'بتونه', 'اینهمه', 'امروز', 'اعمال', 'پایانی']}\n",
      "{'id': '327960124', 'sendTime': '2021-07-19T10:14:56Z', 'sendTimePersian': '1400/04/28 14:44', 'senderName': 'امیر زاده', 'senderUsername': 'mehdi9995555555', 'senderProfileImage': 'f6cc5b0a-8606-4927-9c83-90f1c81c9112', 'content': '#شاخص_بورس  از سه شنب تعطیل کردن تا یک شنبه هفته ای اینده \\nقبلا تو تعطیلی کرونا بورس نبسته بودن علت این کار چیه ؟؟ نکنه مجامع خبریه میخان جلوی نوسانا رو بگیرن', 'type': 'twit', 'scoredPostDate': '1626689703594', 'finalPullDatePersian': '', 'hashtags': ['شاخص_بورس'], 'links': [], 'keywords': ['خبریه', 'جلوی', 'تعطیلی', 'تعطیل', 'اینده', 'بورس', 'کرونا']}\n",
      "{'id': '327960011', 'sendTime': '2021-07-19T10:14:00Z', 'sendTimePersian': '1400/04/28 14:44', 'parentSendTime': '2021-07-19T09:56:04Z', 'parentSendTimePersian': '1400/04/28 14:26', 'parentId': '327957493', 'parentSenderName': 'مهدی', 'parentSenderUsername': 'mohana1396', 'parentSenderProfileImage': 'default', 'parentContent': 'بس کنید اینکارها رو دوباره سرکله ای شماها پیدا شد بزارید هئیت مدیره بیشینه رو صندلی یه دوروز مجال بدید بعد این هئیت مدیره وظیفه اش ارسال نامه وگزارش به فرابورس بوده که کرده این دشمنی فرابورس به خاطر منافع یه عده ای هستش که ۱۴۰۰ فروختن الان میترسن که نتونن تواین قیمت ها واردسهم بشن با مشکل تراشی واذیت کردن سهم وبستن میخوان یه جو بدی علیه شپلی راه اندازی کنن تا سهام دارکلافه وازسهم خارج بشه واین افراد وارد سهم بشن نمونه اش زمانی که هنوز اعلام نشده بود که شپلی از بازار زرد به نارنجی منتقل میشه یه عده که مطلع بود که معلومه چه کسانی اطلاع داده بودن ۲۰۰ میلیون سهم رو فروختن وهئیت مدیره خواستار توضیح شد که فرابورس به یه ورشم نبود ونیست الکی ادرس اشتباه ندید اگه کارزار میخواهید باید علیه فرابورس باشه وقتی تحویل شرکت قانونی وزیرنظر نهادهای نظارتی ودولتی بوده چه چیزی ابهام داشته ودوما اقای علیدوستی مطمئنا تا امشب جواب رو خواهند داد وشفاف سازی یا ازطری۳ کدال یا درکانال کارنگاشت خواهند داشت تا سوتفاهم ها برطرف بشه', 'senderName': 'شهاب', 'senderUsername': 'shahab200', 'senderProfileImage': 'default', 'content': 'خوب هیئت مدیره حالت رو گرفت تا دلت میخاد منفی بافی کن حناتون دیگه رنگ نداره خودخوری کنین😂😂😂 #شپلی', 'type': 'quote', 'finalPullDatePersian': '', 'hashtags': ['شپلی'], 'links': [], 'keywords': ['رنگ', 'مدیره', 'منفی', 'هیئت', 'ین😂😂😂']}\n"
     ]
    }
   ],
   "source": [
    "res = elasticSearch.search(index=\"twitter_bors\", body={\"query\": {\"ids\": { 'values': ids_list}}})\n",
    "print(\"Got %d Hits:\" % res['hits']['total']['value'])\n",
    "for hit in res['hits']['hits']:\n",
    "    print(hit['_source'])"
   ]
  },
  {
   "cell_type": "code",
   "execution_count": 38,
   "id": "3032b7ea",
   "metadata": {},
   "outputs": [
    {
     "name": "stdout",
     "output_type": "stream",
     "text": [
      "Row(year=1400, month=4, day=28, hour=14, minute=40, id=327959563)\n",
      "Row(year=1400, month=4, day=28, hour=14, minute=40, id=327959597)\n",
      "Row(year=1400, month=4, day=28, hour=14, minute=41, id=327959661)\n",
      "Row(year=1400, month=4, day=28, hour=14, minute=41, id=327959667)\n",
      "Row(year=1400, month=4, day=28, hour=14, minute=41, id=327959709)\n",
      "Row(year=1400, month=4, day=28, hour=14, minute=41, id=327959717)\n",
      "Row(year=1400, month=4, day=28, hour=14, minute=43, id=327959859)\n",
      "Row(year=1400, month=4, day=28, hour=14, minute=43, id=327959981)\n",
      "Row(year=1400, month=4, day=28, hour=14, minute=44, id=327960011)\n",
      "Row(year=1400, month=4, day=28, hour=14, minute=44, id=327960124)\n",
      "Row(year=1400, month=4, day=28, hour=14, minute=44, id=327960132)\n",
      "Row(year=1400, month=4, day=28, hour=14, minute=45, id=327960164)\n",
      "Row(year=1400, month=4, day=28, hour=14, minute=45, id=327960279)\n",
      "Row(year=1400, month=4, day=28, hour=14, minute=45, id=327960318)\n",
      "Row(year=1400, month=4, day=28, hour=14, minute=45, id=327960322)\n",
      "Row(year=1400, month=4, day=28, hour=14, minute=45, id=327960329)\n",
      "Row(year=1400, month=4, day=28, hour=14, minute=45, id=327960374)\n",
      "Row(year=1400, month=4, day=28, hour=14, minute=46, id=327960387)\n"
     ]
    }
   ],
   "source": [
    "result=session.execute(\"select * from mydb.total_interval where year=1400 and month=4 and day=28 and hour=14\") #\n",
    "ids_list=[]\n",
    "for row in result:\n",
    "    ids_list.append(row.id)\n",
    "    print(row)"
   ]
  },
  {
   "cell_type": "code",
   "execution_count": 39,
   "id": "1a8a14c7",
   "metadata": {},
   "outputs": [
    {
     "name": "stdout",
     "output_type": "stream",
     "text": [
      "Got 18 Hits:\n",
      "{'id': '327959597', 'sendTime': '2021-07-19T10:10:38Z', 'sendTimePersian': '1400/04/28 14:40', 'senderName': 'Yass', 'senderUsername': 'myass', 'senderProfileImage': 'default', 'content': '#برکت نمادهای برتر ورود و خروج پول\\u200cحقیقی در تاریخ ۲۸ تیرماه', 'type': 'twit', 'imageUid': '09823731-bf7a-4022-ab25-5d52818ac067', 'mediaContentType': 'image/jpeg', 'scoredPostDate': '1626689515293', 'finalPullDatePersian': '', 'hashtags': ['برکت'], 'links': [], 'keywords': ['نمادهای', 'ورود', 'پول\\u200cحقیقی', '۲۸']}\n",
      "{'id': '327959563', 'sendTime': '2021-07-19T10:10:24Z', 'sendTimePersian': '1400/04/28 14:40', 'senderName': 'roham', 'senderUsername': 'ramgol', 'senderProfileImage': '4e660afd-ea12-44ad-9d44-f7bd555d0bc6', 'content': '#خودرو با قیمت حدود ۲۵۰ باز میشه و بعدش تا حدود ۱۶۰ تومن ریزش داره مجددا رشد اما آهسته و پیوسته', 'type': 'twit', 'scoredPostDate': '1626689424655', 'finalPullDatePersian': '', 'hashtags': ['خودرو'], 'links': [], 'keywords': ['مجددا', 'پیوسته', '۱۶۰', '۲۵۰']}\n",
      "{'id': '327959709', 'sendTime': '2021-07-19T10:11:40Z', 'sendTimePersian': '1400/04/28 14:41', 'senderName': 'قزوین بورس', 'senderUsername': 'sagard', 'senderProfileImage': '4c431af0-c78f-4a53-a497-9f390554d1ec', 'content': '#کاما کاما ❤️', 'type': 'twit', 'scoredPostDate': '1626689500296', 'finalPullDatePersian': '', 'hashtags': ['کاما'], 'links': [], 'keywords': ['❤️']}\n",
      "{'id': '327959667', 'sendTime': '2021-07-19T10:11:19Z', 'sendTimePersian': '1400/04/28 14:41', 'senderName': 'درستکار', 'senderUsername': 'alireza12397', 'senderProfileImage': '27bf14e9-4a5e-4b2e-8731-c1bb32bc1ec3', 'content': '#نوین من امروز نامه نوشتم برای آقای رییسی و شرح ماوقع رو در رابطه با بازارگردان سهم نوشتم دوستان ازتون استدعا دارم شما هم هر اقدام حقوقی از دستتون برمیاد انجام بدین الان رو اینجور کارها خیلی حساس هستن به خاطر مسایل امنیتی، بازارگردان این سهم واقعا سهامدارها رو با کارهاش ترغیب به اعتراض و اغتشاش داره میکنه', 'type': 'twit', 'scoredPostDate': '1626689500489', 'finalPullDatePersian': '', 'hashtags': ['نوین'], 'links': [], 'keywords': ['ترغیب', 'بدین', 'اینجور', 'انجام', 'امنیتی', 'امروز', 'الان', 'اقدام', 'اغتشاش', 'اعتراض', 'استدعا', 'ازتون', 'کارهاش']}\n",
      "{'id': '327959661', 'sendTime': '2021-07-19T10:11:13Z', 'sendTimePersian': '1400/04/28 14:41', 'senderName': 'پ بورس', 'senderUsername': 'bazar2', 'senderProfileImage': 'f87f8cb3-c380-472b-aa7f-adcdb1306477', 'content': '#خاور دوستان با امور سهام تماس گرفتم گفت وقتی پیشنهاد دو مرحله ای در یک مجمع تصویب شود فقط افزایش دو مرحله به سهام های موجود در مجمع تعلق می گیرد نه به سهام های افزوده شده مرحله اول یعنی شما 9 برابر تعداد سهام را از همین تعداد سهام امروزتان دارید اینکه برخی دوستان می گویند اگر اولی 1000 درصد باشد و مبلغ اسمی حق تقدم را پرداخت نکنیم با مرحله دوم فقط 100 درصدتعداد سهام افزایش پیدا می کند اشتباه است.', 'type': 'twit', 'scoredPostDate': '1626689508093', 'finalPullDatePersian': '', 'hashtags': ['خاور'], 'links': [], 'keywords': ['.', 'درصد', 'حق', 'تماس', 'تقدم', 'تعلق', 'تصویب', 'اولی', 'امور', 'امروزتان', 'اسمی', '۹']}\n",
      "{'id': '327959981', 'sendTime': '2021-07-19T10:13:52Z', 'sendTimePersian': '1400/04/28 14:43', 'senderName': 'roham', 'senderUsername': 'ramgol', 'senderProfileImage': '4e660afd-ea12-44ad-9d44-f7bd555d0bc6', 'content': '#خودرو بورس تا دوشنبه آینده تعطیل شد....', 'type': 'twit', 'scoredPostDate': '1626689625994', 'finalPullDatePersian': '', 'hashtags': ['خودرو'], 'links': [], 'keywords': ['دوشنبه', '…', 'بورس']}\n",
      "{'id': '327959859', 'sendTime': '2021-07-19T10:13:05Z', 'sendTimePersian': '1400/04/28 14:43', 'senderName': 'برزگر', 'senderUsername': 'iranman2', 'senderProfileImage': 'default', 'content': '#شاخص_بورس \\nمنبع اصلی کرونا جنوب خونگرم ایران و تهرانه و جنوب که فعلا درگیر اعتراضاته و عملا تعطیله و دولت در تصمیمی مدبرانه تهران را تعطیل کرد تا ساکنین تهران پخش بشن تو شهرستانها و اونها رو هم آلوده بکنن.', 'type': 'twit', 'scoredPostDate': '1626689571120', 'finalPullDatePersian': '', 'hashtags': ['شاخص_بورس'], 'links': [], 'keywords': ['تعطیله', 'تعطیل', 'تصمیمی', 'ایران', 'اونها', 'اعتراضاته', 'اصلی', 'آلوده', 'دولت', 'کرونا']}\n",
      "{'id': '327959717', 'sendTime': '2021-07-19T10:11:41Z', 'sendTimePersian': '1400/04/28 14:41', 'senderName': 'mo2858', 'senderUsername': 'mo2858', 'senderProfileImage': 'default', 'content': '#فروی امروز بهترین روز فروی بود . بعد از اعمال سهام جایزه سهمی بتونه اینهمه حجم بخوره و درنهایت پایانی مثبت بده دیگه خودت ببین چه خواهد شد', 'type': 'twit', 'scoredPostDate': '1626689515026', 'finalPullDatePersian': '', 'hashtags': ['فروی'], 'links': [], 'keywords': ['حجم', 'جایزه', 'بتونه', 'اینهمه', 'امروز', 'اعمال', 'پایانی']}\n",
      "{'id': '327960124', 'sendTime': '2021-07-19T10:14:56Z', 'sendTimePersian': '1400/04/28 14:44', 'senderName': 'امیر زاده', 'senderUsername': 'mehdi9995555555', 'senderProfileImage': 'f6cc5b0a-8606-4927-9c83-90f1c81c9112', 'content': '#شاخص_بورس  از سه شنب تعطیل کردن تا یک شنبه هفته ای اینده \\nقبلا تو تعطیلی کرونا بورس نبسته بودن علت این کار چیه ؟؟ نکنه مجامع خبریه میخان جلوی نوسانا رو بگیرن', 'type': 'twit', 'scoredPostDate': '1626689703594', 'finalPullDatePersian': '', 'hashtags': ['شاخص_بورس'], 'links': [], 'keywords': ['خبریه', 'جلوی', 'تعطیلی', 'تعطیل', 'اینده', 'بورس', 'کرونا']}\n",
      "{'id': '327960011', 'sendTime': '2021-07-19T10:14:00Z', 'sendTimePersian': '1400/04/28 14:44', 'parentSendTime': '2021-07-19T09:56:04Z', 'parentSendTimePersian': '1400/04/28 14:26', 'parentId': '327957493', 'parentSenderName': 'مهدی', 'parentSenderUsername': 'mohana1396', 'parentSenderProfileImage': 'default', 'parentContent': 'بس کنید اینکارها رو دوباره سرکله ای شماها پیدا شد بزارید هئیت مدیره بیشینه رو صندلی یه دوروز مجال بدید بعد این هئیت مدیره وظیفه اش ارسال نامه وگزارش به فرابورس بوده که کرده این دشمنی فرابورس به خاطر منافع یه عده ای هستش که ۱۴۰۰ فروختن الان میترسن که نتونن تواین قیمت ها واردسهم بشن با مشکل تراشی واذیت کردن سهم وبستن میخوان یه جو بدی علیه شپلی راه اندازی کنن تا سهام دارکلافه وازسهم خارج بشه واین افراد وارد سهم بشن نمونه اش زمانی که هنوز اعلام نشده بود که شپلی از بازار زرد به نارنجی منتقل میشه یه عده که مطلع بود که معلومه چه کسانی اطلاع داده بودن ۲۰۰ میلیون سهم رو فروختن وهئیت مدیره خواستار توضیح شد که فرابورس به یه ورشم نبود ونیست الکی ادرس اشتباه ندید اگه کارزار میخواهید باید علیه فرابورس باشه وقتی تحویل شرکت قانونی وزیرنظر نهادهای نظارتی ودولتی بوده چه چیزی ابهام داشته ودوما اقای علیدوستی مطمئنا تا امشب جواب رو خواهند داد وشفاف سازی یا ازطری۳ کدال یا درکانال کارنگاشت خواهند داشت تا سوتفاهم ها برطرف بشه', 'senderName': 'شهاب', 'senderUsername': 'shahab200', 'senderProfileImage': 'default', 'content': 'خوب هیئت مدیره حالت رو گرفت تا دلت میخاد منفی بافی کن حناتون دیگه رنگ نداره خودخوری کنین😂😂😂 #شپلی', 'type': 'quote', 'finalPullDatePersian': '', 'hashtags': ['شپلی'], 'links': [], 'keywords': ['رنگ', 'مدیره', 'منفی', 'هیئت', 'ین😂😂😂']}\n"
     ]
    }
   ],
   "source": [
    "res = elasticSearch.search(index=\"twitter_bors\", body={\"query\": {\"ids\": { 'values': ids_list}}})\n",
    "print(\"Got %d Hits:\" % res['hits']['total']['value'])\n",
    "for hit in res['hits']['hits']:\n",
    "    print(hit['_source'])"
   ]
  },
  {
   "cell_type": "markdown",
   "id": "18386a15",
   "metadata": {},
   "source": [
    "# Finding Statistics using Cassandra"
   ]
  },
  {
   "cell_type": "code",
   "execution_count": 44,
   "id": "142a3283",
   "metadata": {},
   "outputs": [
    {
     "name": "stdout",
     "output_type": "stream",
     "text": [
      "Row(count=12)\n"
     ]
    }
   ],
   "source": [
    "result=session.execute(\"select count(*) from mydb.total_interval where year=1400 and month=4 and day=28 and hour=14 and minute>41\") #\n",
    "for row in result:\n",
    "    print(row)"
   ]
  },
  {
   "cell_type": "code",
   "execution_count": 42,
   "id": "8878f6e2",
   "metadata": {},
   "outputs": [
    {
     "name": "stdout",
     "output_type": "stream",
     "text": [
      "Row(system_avg_hour=14)\n"
     ]
    }
   ],
   "source": [
    "result=session.execute(\"select avg(hour) from mydb.total_interval where year=1400 and month=4 and day=28\") #\n",
    "for row in result:\n",
    "    print(row)"
   ]
  }
 ],
 "metadata": {
  "kernelspec": {
   "display_name": "Python 3",
   "language": "python",
   "name": "python3"
  },
  "language_info": {
   "codemirror_mode": {
    "name": "ipython",
    "version": 3
   },
   "file_extension": ".py",
   "mimetype": "text/x-python",
   "name": "python",
   "nbconvert_exporter": "python",
   "pygments_lexer": "ipython3",
   "version": "3.7.6"
  }
 },
 "nbformat": 4,
 "nbformat_minor": 5
}
