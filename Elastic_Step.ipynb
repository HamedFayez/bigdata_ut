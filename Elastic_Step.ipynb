{
 "cells": [
  {
   "cell_type": "code",
   "execution_count": 2,
   "metadata": {},
   "outputs": [
    {
     "name": "stdout",
     "output_type": "stream",
     "text": [
      "Collecting elasticsearch\n",
      "  Downloading elasticsearch-7.13.1-py2.py3-none-any.whl (354 kB)\n",
      "\u001b[K     |████████████████████████████████| 354 kB 511 kB/s eta 0:00:01\n",
      "\u001b[?25hRequirement already satisfied: certifi in /home/hamed/anaconda3/lib/python3.8/site-packages (from elasticsearch) (2020.6.20)\n",
      "Requirement already satisfied: urllib3<2,>=1.21.1 in /home/hamed/anaconda3/lib/python3.8/site-packages (from elasticsearch) (1.25.11)\n",
      "Installing collected packages: elasticsearch\n",
      "Successfully installed elasticsearch-7.13.1\n",
      "Note: you may need to restart the kernel to use updated packages.\n"
     ]
    }
   ],
   "source": [
    "pip install elasticsearch"
   ]
  },
  {
   "cell_type": "code",
   "execution_count": 5,
   "metadata": {},
   "outputs": [],
   "source": [
    "from elasticsearch import Elasticsearch\n",
    "import time\n",
    "import re\n",
    "import json\n",
    "from kafka import KafkaConsumer\n",
    "from json import loads\n"
   ]
  },
  {
   "cell_type": "code",
   "execution_count": 6,
   "metadata": {},
   "outputs": [],
   "source": [
    "consumer = KafkaConsumer(\n",
    "    'persistence',\n",
    "     bootstrap_servers=['localhost:9092'],\n",
    "     auto_offset_reset='earliest',\n",
    "     enable_auto_commit=True,\n",
    "     group_id='my-group2',\n",
    "     value_deserializer=lambda x: loads(x.decode('utf-8')))"
   ]
  },
  {
   "cell_type": "code",
   "execution_count": 3,
   "metadata": {},
   "outputs": [],
   "source": [
    "elasticSearch = Elasticsearch([{'host':'localhost','port':9200}])\n"
   ]
  },
  {
   "cell_type": "code",
   "execution_count": null,
   "metadata": {},
   "outputs": [],
   "source": [
    "for message in consumer:\n",
    "    tweet = message.value\n",
    "    try:\n",
    "        elasticSearch.index(index='twitter_bors',doc_type='twitt',body = tweet)\n",
    "    except:\n",
    "        print(\"An exception occurred\") "
   ]
  },
  {
   "cell_type": "code",
   "execution_count": null,
   "metadata": {},
   "outputs": [],
   "source": []
  }
 ],
 "metadata": {
  "kernelspec": {
   "display_name": "Python 3",
   "language": "python",
   "name": "python3"
  },
  "language_info": {
   "codemirror_mode": {
    "name": "ipython",
    "version": 3
   },
   "file_extension": ".py",
   "mimetype": "text/x-python",
   "name": "python",
   "nbconvert_exporter": "python",
   "pygments_lexer": "ipython3",
   "version": "3.8.5"
  }
 },
 "nbformat": 4,
 "nbformat_minor": 4
}
