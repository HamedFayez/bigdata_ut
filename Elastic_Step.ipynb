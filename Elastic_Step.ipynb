{
 "cells": [
  {
   "cell_type": "code",
   "execution_count": 2,
   "metadata": {},
   "outputs": [
    {
     "name": "stdout",
     "output_type": "stream",
     "text": [
      "Collecting elasticsearch\n",
      "  Downloading elasticsearch-7.13.1-py2.py3-none-any.whl (354 kB)\n",
      "\u001b[K     |████████████████████████████████| 354 kB 511 kB/s eta 0:00:01\n",
      "\u001b[?25hRequirement already satisfied: certifi in /home/hamed/anaconda3/lib/python3.8/site-packages (from elasticsearch) (2020.6.20)\n",
      "Requirement already satisfied: urllib3<2,>=1.21.1 in /home/hamed/anaconda3/lib/python3.8/site-packages (from elasticsearch) (1.25.11)\n",
      "Installing collected packages: elasticsearch\n",
      "Successfully installed elasticsearch-7.13.1\n",
      "Note: you may need to restart the kernel to use updated packages.\n"
     ]
    }
   ],
   "source": [
    "pip install elasticsearch"
   ]
  },
  {
   "cell_type": "code",
   "execution_count": 1,
   "metadata": {},
   "outputs": [],
   "source": [
    "from elasticsearch import Elasticsearch\n",
    "import time\n",
    "import re\n",
    "import json\n",
    "from kafka import KafkaConsumer\n",
    "from json import loads\n"
   ]
  },
  {
   "cell_type": "code",
   "execution_count": 2,
   "metadata": {},
   "outputs": [],
   "source": [
    "consumer = KafkaConsumer(\n",
    "    'persistence',\n",
    "     bootstrap_servers=['localhost:9092'],\n",
    "     auto_offset_reset='earliest',\n",
    "     enable_auto_commit=True,\n",
    "     group_id='my-group2',\n",
    "     value_deserializer=lambda x: loads(x.decode('utf-8')))"
   ]
  },
  {
   "cell_type": "code",
   "execution_count": 3,
   "metadata": {},
   "outputs": [],
   "source": [
    "elasticSearch = Elasticsearch([{'host':'localhost','port':9200}])\n",
    "cnt=0"
   ]
  },
  {
   "cell_type": "code",
   "execution_count": null,
   "metadata": {},
   "outputs": [
    {
     "name": "stdout",
     "output_type": "stream",
     "text": [
      "26800\n",
      "26850\n",
      "26900\n",
      "26950\n",
      "27000\n",
      "An exception occurred\n",
      "An exception occurred\n",
      "27050\n",
      "27100\n",
      "27150\n",
      "27200\n",
      "27250\n",
      "27300\n",
      "27350\n",
      "27400\n",
      "27450\n",
      "27500\n",
      "27550\n",
      "27600\n",
      "27650\n",
      "27700\n"
     ]
    }
   ],
   "source": [
    "for message in consumer:\n",
    "    cnt+=1\n",
    "    tweet = message.value\n",
    "    try:\n",
    "        elasticSearch.index(index='twitter_bors3',body = tweet,id =tweet['id'])\n",
    "    except:\n",
    "        print(\"An exception occurred\") \n",
    "    if cnt %50 ==0:\n",
    "        print(cnt)"
   ]
  },
  {
   "cell_type": "code",
   "execution_count": null,
   "metadata": {},
   "outputs": [],
   "source": []
  },
  {
   "cell_type": "code",
   "execution_count": null,
   "metadata": {},
   "outputs": [],
   "source": []
  },
  {
   "cell_type": "code",
   "execution_count": null,
   "metadata": {},
   "outputs": [],
   "source": []
  }
 ],
 "metadata": {
  "kernelspec": {
   "display_name": "Python 3",
   "language": "python",
   "name": "python3"
  },
  "language_info": {
   "codemirror_mode": {
    "name": "ipython",
    "version": 3
   },
   "file_extension": ".py",
   "mimetype": "text/x-python",
   "name": "python",
   "nbconvert_exporter": "python",
   "pygments_lexer": "ipython3",
   "version": "3.8.5"
  }
 },
 "nbformat": 4,
 "nbformat_minor": 4
}
